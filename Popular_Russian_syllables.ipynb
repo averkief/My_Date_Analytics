{
  "nbformat": 4,
  "nbformat_minor": 0,
  "metadata": {
    "colab": {
      "name": "Popular Russian syllables.ipynb",
      "provenance": [],
      "collapsed_sections": [
        "sJFNouIw9OcR"
      ],
      "authorship_tag": "ABX9TyN/nMEWwTZLYHhcoaqgHBF2",
      "include_colab_link": true
    },
    "kernelspec": {
      "name": "python3",
      "display_name": "Python 3"
    },
    "language_info": {
      "name": "python"
    }
  },
  "cells": [
    {
      "cell_type": "markdown",
      "metadata": {
        "id": "view-in-github",
        "colab_type": "text"
      },
      "source": [
        "<a href=\"https://colab.research.google.com/github/averkief/My_Date_Analytics/blob/main/Popular_Russian_syllables.ipynb\" target=\"_parent\"><img src=\"https://colab.research.google.com/assets/colab-badge.svg\" alt=\"Open In Colab\"/></a>"
      ]
    },
    {
      "cell_type": "markdown",
      "source": [
        "***Предисловие***<br>\n",
        "Когда мой сын подрастал и начинал познавать мир, то дошло дело и до чтения.\n",
        "Современные методики рекомендуют учить детей не буквам, а слогам. Указывая на то, что так будет проще научиться читать.<br>\n",
        "И так в русском языке 10 гласных букв и 20 согласных. Отбросив соединения согласных с гласными которые не соответсвуют правилам русского языка, получаем 158 правильных слогов.<br>\n",
        "И тут у меня возник вопрос, а какие слоги самые популярные, какие лучше выучить первыми???<br><br>\n",
        "ИТАК ЗАДАЧА: Какой слог встречается чаще всего? И бонусом, какая длина чаще всего у этих слов?"
      ],
      "metadata": {
        "id": "xq_XW8vjhvys"
      }
    },
    {
      "cell_type": "markdown",
      "source": [
        "**Последовательность действий**<br>\n",
        "*Этап 1: Находжение источника*<br>\n",
        "Выбор книги выпал на \"Война и Мир\" Л.Н.Толстова, как самая большая по объему. Текст книги есть в интернете. Требуется спарсить текст с сайта<br>\n",
        "*Этап 2: Обработка сырых данных* <br>\n",
        "Разбиваем текст на слова и извлекаем пунктуацию, предлоги, местоимения слова не относящиеся к словам со слогами<br>\n",
        "*Этап 3: Внесение данных для нахождения слогов* <br>\n",
        "Подготовка искомых слогов и счетчиков подсчета<br>\n",
        "*Этап 4: Обработка полезных данных* <br>\n",
        "Обрабатываем каждое слово<br>\n",
        "*Этап 5: Вывод* <br>\n",
        "Получение информации: количественное значиени, графики<br>"
      ],
      "metadata": {
        "id": "s0el7uFrQZGf"
      }
    },
    {
      "cell_type": "markdown",
      "source": [
        "**С какими затруднениями пришлось столкнуться**<br>\n",
        "**Загвозка 1:** Изучив код источника, обнаружили, что есть дублирующиеся ссылки, как например \"ТОМ ПЕРВЫЙ\", \"Часть первая\", \"I\" имеют одну сслыку. Если дубли чистить методом set (множеством), то теряется порядок страниц, и их невозможно потом отсортировать, так как порядок идет по возрастанию левых симолов, таких как 1, 10, 100. Т.е. вторая страница будет только после всех сотых.<br>\n",
        "*Решение:* Дополнить проверкой функции которая сравнивает с предидущим индексом.<br>\n",
        "\n",
        "**Загвозка 2:** Находить индекс первого уровня списка по значению хранящимся во втором уровне давольно затруднительно. Для учета частоты слогов. <br> \n",
        "*Решение:* Перевел список в DataFrame. <br> \n",
        "**Загвозка 3:** По доп.задачке возникли трудности с добавлением данных в строку в новых колонках<br>\n",
        "*Решение:*Вернулся к списку, а формирование DF будет в конце когда духуровевый список будет готов. Нужно решить загвозку №2<br>\n",
        "**Загвозка 4:** Загвозку №2 решил. Но возникла проблема со списком, когда идет учет длины в котором находился слог, записывал в отдельный индекс. Колонок получилось очень много, не дождался конца обработки.<br>\n",
        "*Решение:* Решил вернуться к формированию DataFrame по слогам. Найдем самое длинное слово и добавим столько количества колонок дополнительно. В каждой колонке будет увеличивать значение, при нахождении этого слога в слове соответсвующей длины.<br>\n",
        "**Загвозка 5:** Отображение гистограмы по слогам. Масштаб не позволяет сделать каждый слог отдельным стобликом.<br>\n",
        "*Решение:* Предварительно вывести DF и отобразить графики в другом BI.<br>\n",
        "**Загвозка 6:**<br>\n",
        "*Решение:*<br>\n",
        "**Загвозка 7:**<br>\n",
        "*Решение:*<br>\n",
        "**Загвозка 8:**<br>\n",
        "*Решение:*<br>\n",
        "**Загвозка 9:**<br>\n",
        "*Решение:*<br>"
      ],
      "metadata": {
        "id": "PYs6iq-Xj5fR"
      }
    },
    {
      "cell_type": "markdown",
      "source": [
        "### Подключение библиотек и глобальных переменных"
      ],
      "metadata": {
        "id": "PaYnm71fkVT4"
      }
    },
    {
      "cell_type": "code",
      "source": [
        "import requests # Бибилиотека запросов к web-сервисам\n",
        "from bs4 import BeautifulSoup as bs # Библиотека парсинга web-страниц\n",
        "import pandas as pd # Библиотека для работы с таблицами\n",
        "import numpy as np\n",
        "\n",
        "# Для обработки текста\n",
        "import nltk # Библиотека для работы с текстом\n",
        "from nltk.tokenize import word_tokenize # токенайзер - разбивает непрерывный текст на токены(слова). word_tokenize - для разделения слов на токены.\n",
        "#nltk.download('all')\n",
        "nltk.download('punkt')\n",
        "#nltk.download('stopwords')\n",
        "\n",
        "import string # используем для получения знаков пунктуации"
      ],
      "metadata": {
        "id": "LnY5m4DJkKWz",
        "colab": {
          "base_uri": "https://localhost:8080/"
        },
        "outputId": "7d42a45c-4b2e-47ef-f8a1-98a18c1e16d2"
      },
      "execution_count": 1,
      "outputs": [
        {
          "output_type": "stream",
          "name": "stderr",
          "text": [
            "[nltk_data] Downloading package punkt to /root/nltk_data...\n",
            "[nltk_data]   Unzipping tokenizers/punkt.zip.\n"
          ]
        }
      ]
    },
    {
      "cell_type": "code",
      "source": [
        "# Глобальные переменные\n",
        "URL = 'https://ilibrary.ru' # + index.html - Страница оглавления книг \"Война и Мир\"\n",
        "URL_CHAPTER  = '/text/11/index.html' # страница оглавления\n",
        "URL_ENDINGS = [] # Список url страниц книги\n",
        "TEXT_BOOK = '' # Обработанный текст для анализа слогов в виде списка"
      ],
      "metadata": {
        "id": "S_edf-CqjouU"
      },
      "execution_count": 2,
      "outputs": []
    },
    {
      "cell_type": "markdown",
      "source": [
        "### Этап 1: Находжение источника"
      ],
      "metadata": {
        "id": "u11zuKdCj8Hk"
      }
    },
    {
      "cell_type": "code",
      "source": [
        "# Подключение к странице оглавления\n",
        "connect_url = requests.get(URL + URL_CHAPTER)\n",
        "if connect_url.status_code == 200:\n",
        "  text_on_page = connect_url.text\n",
        "else:\n",
        "  print('СТРАНИЦА НЕ ДОСТУПНА')"
      ],
      "metadata": {
        "id": "ayycZLYcQYkn"
      },
      "execution_count": 3,
      "outputs": []
    },
    {
      "cell_type": "code",
      "source": [
        "# Функция проверка существующей ссылки\n",
        "def check_href(href_url):\n",
        "  ''' Проверка значение с пердидущим значением списка'''\n",
        "  global URL_ENDINGS\n",
        "\n",
        "  if len(URL_ENDINGS) < 1:\n",
        "    URL_ENDINGS.append(href_url)\n",
        "  else:\n",
        "    if href_url != URL_ENDINGS[-1]:\n",
        "      URL_ENDINGS.append(href_url)"
      ],
      "metadata": {
        "id": "KOoLKBQssy7a"
      },
      "execution_count": 4,
      "outputs": []
    },
    {
      "cell_type": "code",
      "source": [
        "# Получение всех страниц книги\n",
        "chapter_page = bs(text_on_page, 'html.parser')\n",
        "href_to_url = chapter_page.find_all('p')\n",
        "for href_one in href_to_url:\n",
        "  check_href(href_one.a['href'])\n",
        "\n",
        "# Проверка количества страниц в списке, должно быть 361\n",
        "print(len(URL_ENDINGS))"
      ],
      "metadata": {
        "id": "OKCN7QJLQWUI",
        "colab": {
          "base_uri": "https://localhost:8080/"
        },
        "outputId": "6fb43f77-9952-4446-91be-31e83a32616f"
      },
      "execution_count": 5,
      "outputs": [
        {
          "output_type": "stream",
          "name": "stdout",
          "text": [
            "361\n"
          ]
        }
      ]
    },
    {
      "cell_type": "markdown",
      "source": [
        "### Этап 2: Обработка сырых данных"
      ],
      "metadata": {
        "id": "2ETLc-8rBnV1"
      }
    },
    {
      "cell_type": "code",
      "source": [
        "# Списки пунктуации и стоп-слов (предлоги, местоимения и т.п.)\n",
        "my_stop_punct = list(string.punctuation)\n",
        "my_stop_punct = set(my_stop_punct + ['—'] + ['..'] + ['...'] + ['«'] + ['»'])\n",
        "my_stop_words = {'и', 'в', 'во', 'не', 'что', 'он', 'на', 'я', 'с', 'со', 'как', 'а', 'то', 'все', 'она', 'так', \n",
        "                 'его', 'но', 'да', 'ты', 'к', 'у', 'же', 'вы', 'за', 'бы', 'по', 'ее', 'мне', 'от', 'меня', \n",
        "                 'еще', 'нет', 'о', 'из', 'ему', 'ну', 'ли', 'уже', 'или', 'ни', 'него', 'до', 'вас', 'нибудь', \n",
        "                 'уж', 'вам', 'там', 'ей', 'они', 'тут', 'где', 'есть', 'ней', 'для', 'мы', 'тебя', 'их', 'чем', \n",
        "                 'сам', 'чтоб', 'без', 'будто', 'чего', 'тоже', 'себе', 'под', 'ж', 'кто', 'этот', 'того', \n",
        "                 'потому', 'этого', 'какой', 'ним', 'этом', 'мой', 'тем', 'чтобы', 'нее', 'куда', 'зачем', \n",
        "                 'всех', 'при', 'об', 'хоть', 'после', 'над', 'тот', 'эти', 'нас', 'про', 'них', 'какая', \n",
        "                 'разве', 'эту', 'моя', 'свою', 'этой', 'чуть', 'том', 'такой', 'им', 'более', 'всю', 'это', \n",
        "                 'нами', 'раз', 'abc', 'abcdefghiklmnopqrstuvwxyz', '123456789102030405060708090100110120130140150160',\n",
        "                 'был', 'была', 'было'}"
      ],
      "metadata": {
        "id": "SR1IRVJ2Nea1"
      },
      "execution_count": 6,
      "outputs": []
    },
    {
      "cell_type": "code",
      "source": [
        "# Функция обработки текста\n",
        "def text_processing(text, punkt, swort):\n",
        "  ''' Принимает сырой текст, фильтрует его от знаков пунктуации, стоп-слов и переводит в нижний регистр'''\n",
        "  \n",
        "  words = word_tokenize(text.lower()) # Разбмваем на список слов (токены)\n",
        "  words = [word for word in words if word not in punkt] # Удаляем знаки пунктуации\n",
        "  words = [word for word in words if word not in swort] # Удаляем стопслова\n",
        "\n",
        "  all_words = ' '.join(words)\n",
        "  return all_words"
      ],
      "metadata": {
        "id": "hdt4ZsLi1fdN"
      },
      "execution_count": 7,
      "outputs": []
    },
    {
      "cell_type": "code",
      "source": [
        "%%time\n",
        "# Получение текта книги с каждой страницы\n",
        "for URL_ENDING in URL_ENDINGS:\n",
        "  print(URL + URL_ENDING)\n",
        "  connect_url_page = requests.get(URL + URL_ENDING)\n",
        "  if connect_url_page.status_code == 200:\n",
        "    text_page = connect_url_page.text\n",
        "\n",
        "    one_page = bs(text_page, 'html.parser')\n",
        "    text_in_url = one_page.find_all('span', class_='p')\n",
        "    for text_one in text_in_url:\n",
        "      TEXT_BOOK = TEXT_BOOK + text_processing(text_one.text, my_stop_punct, my_stop_words) + ' ' # Текст в функцию передается построчно до красной строки\n",
        "      \n",
        "  \n",
        "  else:\n",
        "    print('ALARM!!!STOP')\n"
      ],
      "metadata": {
        "id": "KwyGvmi9y0JV",
        "colab": {
          "base_uri": "https://localhost:8080/"
        },
        "outputId": "5116f749-5772-4686-b1d7-62471d823bce"
      },
      "execution_count": 8,
      "outputs": [
        {
          "output_type": "stream",
          "name": "stdout",
          "text": [
            "https://ilibrary.ru/text/11/p.1/index.html\n",
            "https://ilibrary.ru/text/11/p.2/index.html\n",
            "https://ilibrary.ru/text/11/p.3/index.html\n",
            "https://ilibrary.ru/text/11/p.4/index.html\n",
            "https://ilibrary.ru/text/11/p.5/index.html\n",
            "https://ilibrary.ru/text/11/p.6/index.html\n",
            "https://ilibrary.ru/text/11/p.7/index.html\n",
            "https://ilibrary.ru/text/11/p.8/index.html\n",
            "https://ilibrary.ru/text/11/p.9/index.html\n",
            "https://ilibrary.ru/text/11/p.10/index.html\n",
            "https://ilibrary.ru/text/11/p.11/index.html\n",
            "https://ilibrary.ru/text/11/p.12/index.html\n",
            "https://ilibrary.ru/text/11/p.13/index.html\n",
            "https://ilibrary.ru/text/11/p.14/index.html\n",
            "https://ilibrary.ru/text/11/p.15/index.html\n",
            "https://ilibrary.ru/text/11/p.16/index.html\n",
            "https://ilibrary.ru/text/11/p.17/index.html\n",
            "https://ilibrary.ru/text/11/p.18/index.html\n",
            "https://ilibrary.ru/text/11/p.19/index.html\n",
            "https://ilibrary.ru/text/11/p.20/index.html\n",
            "https://ilibrary.ru/text/11/p.21/index.html\n",
            "https://ilibrary.ru/text/11/p.22/index.html\n",
            "https://ilibrary.ru/text/11/p.23/index.html\n",
            "https://ilibrary.ru/text/11/p.24/index.html\n",
            "https://ilibrary.ru/text/11/p.25/index.html\n",
            "https://ilibrary.ru/text/11/p.26/index.html\n",
            "https://ilibrary.ru/text/11/p.27/index.html\n",
            "https://ilibrary.ru/text/11/p.28/index.html\n",
            "https://ilibrary.ru/text/11/p.29/index.html\n",
            "https://ilibrary.ru/text/11/p.30/index.html\n",
            "https://ilibrary.ru/text/11/p.31/index.html\n",
            "https://ilibrary.ru/text/11/p.32/index.html\n",
            "https://ilibrary.ru/text/11/p.33/index.html\n",
            "https://ilibrary.ru/text/11/p.34/index.html\n",
            "https://ilibrary.ru/text/11/p.35/index.html\n",
            "https://ilibrary.ru/text/11/p.36/index.html\n",
            "https://ilibrary.ru/text/11/p.37/index.html\n",
            "https://ilibrary.ru/text/11/p.38/index.html\n",
            "https://ilibrary.ru/text/11/p.39/index.html\n",
            "https://ilibrary.ru/text/11/p.40/index.html\n",
            "https://ilibrary.ru/text/11/p.41/index.html\n",
            "https://ilibrary.ru/text/11/p.42/index.html\n",
            "https://ilibrary.ru/text/11/p.43/index.html\n",
            "https://ilibrary.ru/text/11/p.44/index.html\n",
            "https://ilibrary.ru/text/11/p.45/index.html\n",
            "https://ilibrary.ru/text/11/p.46/index.html\n",
            "https://ilibrary.ru/text/11/p.47/index.html\n",
            "https://ilibrary.ru/text/11/p.48/index.html\n",
            "https://ilibrary.ru/text/11/p.49/index.html\n",
            "https://ilibrary.ru/text/11/p.50/index.html\n",
            "https://ilibrary.ru/text/11/p.51/index.html\n",
            "https://ilibrary.ru/text/11/p.52/index.html\n",
            "https://ilibrary.ru/text/11/p.53/index.html\n",
            "https://ilibrary.ru/text/11/p.54/index.html\n",
            "https://ilibrary.ru/text/11/p.55/index.html\n",
            "https://ilibrary.ru/text/11/p.56/index.html\n",
            "https://ilibrary.ru/text/11/p.57/index.html\n",
            "https://ilibrary.ru/text/11/p.58/index.html\n",
            "https://ilibrary.ru/text/11/p.59/index.html\n",
            "https://ilibrary.ru/text/11/p.60/index.html\n",
            "https://ilibrary.ru/text/11/p.61/index.html\n",
            "https://ilibrary.ru/text/11/p.62/index.html\n",
            "https://ilibrary.ru/text/11/p.63/index.html\n",
            "https://ilibrary.ru/text/11/p.64/index.html\n",
            "https://ilibrary.ru/text/11/p.65/index.html\n",
            "https://ilibrary.ru/text/11/p.66/index.html\n",
            "https://ilibrary.ru/text/11/p.67/index.html\n",
            "https://ilibrary.ru/text/11/p.68/index.html\n",
            "https://ilibrary.ru/text/11/p.69/index.html\n",
            "https://ilibrary.ru/text/11/p.70/index.html\n",
            "https://ilibrary.ru/text/11/p.71/index.html\n",
            "https://ilibrary.ru/text/11/p.72/index.html\n",
            "https://ilibrary.ru/text/11/p.73/index.html\n",
            "https://ilibrary.ru/text/11/p.74/index.html\n",
            "https://ilibrary.ru/text/11/p.75/index.html\n",
            "https://ilibrary.ru/text/11/p.76/index.html\n",
            "https://ilibrary.ru/text/11/p.77/index.html\n",
            "https://ilibrary.ru/text/11/p.78/index.html\n",
            "https://ilibrary.ru/text/11/p.79/index.html\n",
            "https://ilibrary.ru/text/11/p.80/index.html\n",
            "https://ilibrary.ru/text/11/p.81/index.html\n",
            "https://ilibrary.ru/text/11/p.82/index.html\n",
            "https://ilibrary.ru/text/11/p.83/index.html\n",
            "https://ilibrary.ru/text/11/p.84/index.html\n",
            "https://ilibrary.ru/text/11/p.85/index.html\n",
            "https://ilibrary.ru/text/11/p.86/index.html\n",
            "https://ilibrary.ru/text/11/p.87/index.html\n",
            "https://ilibrary.ru/text/11/p.88/index.html\n",
            "https://ilibrary.ru/text/11/p.89/index.html\n",
            "https://ilibrary.ru/text/11/p.90/index.html\n",
            "https://ilibrary.ru/text/11/p.91/index.html\n",
            "https://ilibrary.ru/text/11/p.92/index.html\n",
            "https://ilibrary.ru/text/11/p.93/index.html\n",
            "https://ilibrary.ru/text/11/p.94/index.html\n",
            "https://ilibrary.ru/text/11/p.95/index.html\n",
            "https://ilibrary.ru/text/11/p.96/index.html\n",
            "https://ilibrary.ru/text/11/p.97/index.html\n",
            "https://ilibrary.ru/text/11/p.98/index.html\n",
            "https://ilibrary.ru/text/11/p.99/index.html\n",
            "https://ilibrary.ru/text/11/p.100/index.html\n",
            "https://ilibrary.ru/text/11/p.101/index.html\n",
            "https://ilibrary.ru/text/11/p.102/index.html\n",
            "https://ilibrary.ru/text/11/p.103/index.html\n",
            "https://ilibrary.ru/text/11/p.104/index.html\n",
            "https://ilibrary.ru/text/11/p.105/index.html\n",
            "https://ilibrary.ru/text/11/p.106/index.html\n",
            "https://ilibrary.ru/text/11/p.107/index.html\n",
            "https://ilibrary.ru/text/11/p.108/index.html\n",
            "https://ilibrary.ru/text/11/p.109/index.html\n",
            "https://ilibrary.ru/text/11/p.110/index.html\n",
            "https://ilibrary.ru/text/11/p.111/index.html\n",
            "https://ilibrary.ru/text/11/p.112/index.html\n",
            "https://ilibrary.ru/text/11/p.113/index.html\n",
            "https://ilibrary.ru/text/11/p.114/index.html\n",
            "https://ilibrary.ru/text/11/p.115/index.html\n",
            "https://ilibrary.ru/text/11/p.116/index.html\n",
            "https://ilibrary.ru/text/11/p.117/index.html\n",
            "https://ilibrary.ru/text/11/p.118/index.html\n",
            "https://ilibrary.ru/text/11/p.119/index.html\n",
            "https://ilibrary.ru/text/11/p.120/index.html\n",
            "https://ilibrary.ru/text/11/p.121/index.html\n",
            "https://ilibrary.ru/text/11/p.122/index.html\n",
            "https://ilibrary.ru/text/11/p.123/index.html\n",
            "https://ilibrary.ru/text/11/p.124/index.html\n",
            "https://ilibrary.ru/text/11/p.125/index.html\n",
            "https://ilibrary.ru/text/11/p.126/index.html\n",
            "https://ilibrary.ru/text/11/p.127/index.html\n",
            "https://ilibrary.ru/text/11/p.128/index.html\n",
            "https://ilibrary.ru/text/11/p.129/index.html\n",
            "https://ilibrary.ru/text/11/p.130/index.html\n",
            "https://ilibrary.ru/text/11/p.131/index.html\n",
            "https://ilibrary.ru/text/11/p.132/index.html\n",
            "https://ilibrary.ru/text/11/p.133/index.html\n",
            "https://ilibrary.ru/text/11/p.134/index.html\n",
            "https://ilibrary.ru/text/11/p.135/index.html\n",
            "https://ilibrary.ru/text/11/p.136/index.html\n",
            "https://ilibrary.ru/text/11/p.137/index.html\n",
            "https://ilibrary.ru/text/11/p.138/index.html\n",
            "https://ilibrary.ru/text/11/p.139/index.html\n",
            "https://ilibrary.ru/text/11/p.140/index.html\n",
            "https://ilibrary.ru/text/11/p.141/index.html\n",
            "https://ilibrary.ru/text/11/p.142/index.html\n",
            "https://ilibrary.ru/text/11/p.143/index.html\n",
            "https://ilibrary.ru/text/11/p.144/index.html\n",
            "https://ilibrary.ru/text/11/p.145/index.html\n",
            "https://ilibrary.ru/text/11/p.146/index.html\n",
            "https://ilibrary.ru/text/11/p.147/index.html\n",
            "https://ilibrary.ru/text/11/p.148/index.html\n",
            "https://ilibrary.ru/text/11/p.149/index.html\n",
            "https://ilibrary.ru/text/11/p.150/index.html\n",
            "https://ilibrary.ru/text/11/p.151/index.html\n",
            "https://ilibrary.ru/text/11/p.152/index.html\n",
            "https://ilibrary.ru/text/11/p.153/index.html\n",
            "https://ilibrary.ru/text/11/p.154/index.html\n",
            "https://ilibrary.ru/text/11/p.155/index.html\n",
            "https://ilibrary.ru/text/11/p.156/index.html\n",
            "https://ilibrary.ru/text/11/p.157/index.html\n",
            "https://ilibrary.ru/text/11/p.158/index.html\n",
            "https://ilibrary.ru/text/11/p.159/index.html\n",
            "https://ilibrary.ru/text/11/p.160/index.html\n",
            "https://ilibrary.ru/text/11/p.161/index.html\n",
            "https://ilibrary.ru/text/11/p.162/index.html\n",
            "https://ilibrary.ru/text/11/p.163/index.html\n",
            "https://ilibrary.ru/text/11/p.164/index.html\n",
            "https://ilibrary.ru/text/11/p.165/index.html\n",
            "https://ilibrary.ru/text/11/p.166/index.html\n",
            "https://ilibrary.ru/text/11/p.167/index.html\n",
            "https://ilibrary.ru/text/11/p.168/index.html\n",
            "https://ilibrary.ru/text/11/p.169/index.html\n",
            "https://ilibrary.ru/text/11/p.170/index.html\n",
            "https://ilibrary.ru/text/11/p.171/index.html\n",
            "https://ilibrary.ru/text/11/p.172/index.html\n",
            "https://ilibrary.ru/text/11/p.173/index.html\n",
            "https://ilibrary.ru/text/11/p.174/index.html\n",
            "https://ilibrary.ru/text/11/p.175/index.html\n",
            "https://ilibrary.ru/text/11/p.176/index.html\n",
            "https://ilibrary.ru/text/11/p.177/index.html\n",
            "https://ilibrary.ru/text/11/p.178/index.html\n",
            "https://ilibrary.ru/text/11/p.179/index.html\n",
            "https://ilibrary.ru/text/11/p.180/index.html\n",
            "https://ilibrary.ru/text/11/p.181/index.html\n",
            "https://ilibrary.ru/text/11/p.182/index.html\n",
            "https://ilibrary.ru/text/11/p.183/index.html\n",
            "https://ilibrary.ru/text/11/p.184/index.html\n",
            "https://ilibrary.ru/text/11/p.185/index.html\n",
            "https://ilibrary.ru/text/11/p.186/index.html\n",
            "https://ilibrary.ru/text/11/p.187/index.html\n",
            "https://ilibrary.ru/text/11/p.188/index.html\n",
            "https://ilibrary.ru/text/11/p.189/index.html\n",
            "https://ilibrary.ru/text/11/p.190/index.html\n",
            "https://ilibrary.ru/text/11/p.191/index.html\n",
            "https://ilibrary.ru/text/11/p.192/index.html\n",
            "https://ilibrary.ru/text/11/p.193/index.html\n",
            "https://ilibrary.ru/text/11/p.194/index.html\n",
            "https://ilibrary.ru/text/11/p.195/index.html\n",
            "https://ilibrary.ru/text/11/p.196/index.html\n",
            "https://ilibrary.ru/text/11/p.197/index.html\n",
            "https://ilibrary.ru/text/11/p.198/index.html\n",
            "https://ilibrary.ru/text/11/p.199/index.html\n",
            "https://ilibrary.ru/text/11/p.200/index.html\n",
            "https://ilibrary.ru/text/11/p.201/index.html\n",
            "https://ilibrary.ru/text/11/p.202/index.html\n",
            "https://ilibrary.ru/text/11/p.203/index.html\n",
            "https://ilibrary.ru/text/11/p.204/index.html\n",
            "https://ilibrary.ru/text/11/p.205/index.html\n",
            "https://ilibrary.ru/text/11/p.206/index.html\n",
            "https://ilibrary.ru/text/11/p.207/index.html\n",
            "https://ilibrary.ru/text/11/p.208/index.html\n",
            "https://ilibrary.ru/text/11/p.209/index.html\n",
            "https://ilibrary.ru/text/11/p.210/index.html\n",
            "https://ilibrary.ru/text/11/p.211/index.html\n",
            "https://ilibrary.ru/text/11/p.212/index.html\n",
            "https://ilibrary.ru/text/11/p.213/index.html\n",
            "https://ilibrary.ru/text/11/p.214/index.html\n",
            "https://ilibrary.ru/text/11/p.215/index.html\n",
            "https://ilibrary.ru/text/11/p.216/index.html\n",
            "https://ilibrary.ru/text/11/p.217/index.html\n",
            "https://ilibrary.ru/text/11/p.218/index.html\n",
            "https://ilibrary.ru/text/11/p.219/index.html\n",
            "https://ilibrary.ru/text/11/p.220/index.html\n",
            "https://ilibrary.ru/text/11/p.221/index.html\n",
            "https://ilibrary.ru/text/11/p.222/index.html\n",
            "https://ilibrary.ru/text/11/p.223/index.html\n",
            "https://ilibrary.ru/text/11/p.224/index.html\n",
            "https://ilibrary.ru/text/11/p.225/index.html\n",
            "https://ilibrary.ru/text/11/p.226/index.html\n",
            "https://ilibrary.ru/text/11/p.227/index.html\n",
            "https://ilibrary.ru/text/11/p.228/index.html\n",
            "https://ilibrary.ru/text/11/p.229/index.html\n",
            "https://ilibrary.ru/text/11/p.230/index.html\n",
            "https://ilibrary.ru/text/11/p.231/index.html\n",
            "https://ilibrary.ru/text/11/p.232/index.html\n",
            "https://ilibrary.ru/text/11/p.233/index.html\n",
            "https://ilibrary.ru/text/11/p.234/index.html\n",
            "https://ilibrary.ru/text/11/p.235/index.html\n",
            "https://ilibrary.ru/text/11/p.236/index.html\n",
            "https://ilibrary.ru/text/11/p.237/index.html\n",
            "https://ilibrary.ru/text/11/p.238/index.html\n",
            "https://ilibrary.ru/text/11/p.239/index.html\n",
            "https://ilibrary.ru/text/11/p.240/index.html\n",
            "https://ilibrary.ru/text/11/p.241/index.html\n",
            "https://ilibrary.ru/text/11/p.242/index.html\n",
            "https://ilibrary.ru/text/11/p.243/index.html\n",
            "https://ilibrary.ru/text/11/p.244/index.html\n",
            "https://ilibrary.ru/text/11/p.245/index.html\n",
            "https://ilibrary.ru/text/11/p.246/index.html\n",
            "https://ilibrary.ru/text/11/p.247/index.html\n",
            "https://ilibrary.ru/text/11/p.248/index.html\n",
            "https://ilibrary.ru/text/11/p.249/index.html\n",
            "https://ilibrary.ru/text/11/p.250/index.html\n",
            "https://ilibrary.ru/text/11/p.251/index.html\n",
            "https://ilibrary.ru/text/11/p.252/index.html\n",
            "https://ilibrary.ru/text/11/p.253/index.html\n",
            "https://ilibrary.ru/text/11/p.254/index.html\n",
            "https://ilibrary.ru/text/11/p.255/index.html\n",
            "https://ilibrary.ru/text/11/p.256/index.html\n",
            "https://ilibrary.ru/text/11/p.257/index.html\n",
            "https://ilibrary.ru/text/11/p.258/index.html\n",
            "https://ilibrary.ru/text/11/p.259/index.html\n",
            "https://ilibrary.ru/text/11/p.260/index.html\n",
            "https://ilibrary.ru/text/11/p.261/index.html\n",
            "https://ilibrary.ru/text/11/p.262/index.html\n",
            "https://ilibrary.ru/text/11/p.263/index.html\n",
            "https://ilibrary.ru/text/11/p.264/index.html\n",
            "https://ilibrary.ru/text/11/p.265/index.html\n",
            "https://ilibrary.ru/text/11/p.266/index.html\n",
            "https://ilibrary.ru/text/11/p.267/index.html\n",
            "https://ilibrary.ru/text/11/p.268/index.html\n",
            "https://ilibrary.ru/text/11/p.269/index.html\n",
            "https://ilibrary.ru/text/11/p.270/index.html\n",
            "https://ilibrary.ru/text/11/p.271/index.html\n",
            "https://ilibrary.ru/text/11/p.272/index.html\n",
            "https://ilibrary.ru/text/11/p.273/index.html\n",
            "https://ilibrary.ru/text/11/p.274/index.html\n",
            "https://ilibrary.ru/text/11/p.275/index.html\n",
            "https://ilibrary.ru/text/11/p.276/index.html\n",
            "https://ilibrary.ru/text/11/p.277/index.html\n",
            "https://ilibrary.ru/text/11/p.278/index.html\n",
            "https://ilibrary.ru/text/11/p.279/index.html\n",
            "https://ilibrary.ru/text/11/p.280/index.html\n",
            "https://ilibrary.ru/text/11/p.281/index.html\n",
            "https://ilibrary.ru/text/11/p.282/index.html\n",
            "https://ilibrary.ru/text/11/p.283/index.html\n",
            "https://ilibrary.ru/text/11/p.284/index.html\n",
            "https://ilibrary.ru/text/11/p.285/index.html\n",
            "https://ilibrary.ru/text/11/p.286/index.html\n",
            "https://ilibrary.ru/text/11/p.287/index.html\n",
            "https://ilibrary.ru/text/11/p.288/index.html\n",
            "https://ilibrary.ru/text/11/p.289/index.html\n",
            "https://ilibrary.ru/text/11/p.290/index.html\n",
            "https://ilibrary.ru/text/11/p.291/index.html\n",
            "https://ilibrary.ru/text/11/p.292/index.html\n",
            "https://ilibrary.ru/text/11/p.293/index.html\n",
            "https://ilibrary.ru/text/11/p.294/index.html\n",
            "https://ilibrary.ru/text/11/p.295/index.html\n",
            "https://ilibrary.ru/text/11/p.296/index.html\n",
            "https://ilibrary.ru/text/11/p.297/index.html\n",
            "https://ilibrary.ru/text/11/p.298/index.html\n",
            "https://ilibrary.ru/text/11/p.299/index.html\n",
            "https://ilibrary.ru/text/11/p.300/index.html\n",
            "https://ilibrary.ru/text/11/p.301/index.html\n",
            "https://ilibrary.ru/text/11/p.302/index.html\n",
            "https://ilibrary.ru/text/11/p.303/index.html\n",
            "https://ilibrary.ru/text/11/p.304/index.html\n",
            "https://ilibrary.ru/text/11/p.305/index.html\n",
            "https://ilibrary.ru/text/11/p.306/index.html\n",
            "https://ilibrary.ru/text/11/p.307/index.html\n",
            "https://ilibrary.ru/text/11/p.308/index.html\n",
            "https://ilibrary.ru/text/11/p.309/index.html\n",
            "https://ilibrary.ru/text/11/p.310/index.html\n",
            "https://ilibrary.ru/text/11/p.311/index.html\n",
            "https://ilibrary.ru/text/11/p.312/index.html\n",
            "https://ilibrary.ru/text/11/p.313/index.html\n",
            "https://ilibrary.ru/text/11/p.314/index.html\n",
            "https://ilibrary.ru/text/11/p.315/index.html\n",
            "https://ilibrary.ru/text/11/p.316/index.html\n",
            "https://ilibrary.ru/text/11/p.317/index.html\n",
            "https://ilibrary.ru/text/11/p.318/index.html\n",
            "https://ilibrary.ru/text/11/p.319/index.html\n",
            "https://ilibrary.ru/text/11/p.320/index.html\n",
            "https://ilibrary.ru/text/11/p.321/index.html\n",
            "https://ilibrary.ru/text/11/p.322/index.html\n",
            "https://ilibrary.ru/text/11/p.323/index.html\n",
            "https://ilibrary.ru/text/11/p.324/index.html\n",
            "https://ilibrary.ru/text/11/p.325/index.html\n",
            "https://ilibrary.ru/text/11/p.326/index.html\n",
            "https://ilibrary.ru/text/11/p.327/index.html\n",
            "https://ilibrary.ru/text/11/p.328/index.html\n",
            "https://ilibrary.ru/text/11/p.329/index.html\n",
            "https://ilibrary.ru/text/11/p.330/index.html\n",
            "https://ilibrary.ru/text/11/p.331/index.html\n",
            "https://ilibrary.ru/text/11/p.332/index.html\n",
            "https://ilibrary.ru/text/11/p.333/index.html\n",
            "https://ilibrary.ru/text/11/p.334/index.html\n",
            "https://ilibrary.ru/text/11/p.335/index.html\n",
            "https://ilibrary.ru/text/11/p.336/index.html\n",
            "https://ilibrary.ru/text/11/p.337/index.html\n",
            "https://ilibrary.ru/text/11/p.338/index.html\n",
            "https://ilibrary.ru/text/11/p.339/index.html\n",
            "https://ilibrary.ru/text/11/p.340/index.html\n",
            "https://ilibrary.ru/text/11/p.341/index.html\n",
            "https://ilibrary.ru/text/11/p.342/index.html\n",
            "https://ilibrary.ru/text/11/p.343/index.html\n",
            "https://ilibrary.ru/text/11/p.344/index.html\n",
            "https://ilibrary.ru/text/11/p.345/index.html\n",
            "https://ilibrary.ru/text/11/p.346/index.html\n",
            "https://ilibrary.ru/text/11/p.347/index.html\n",
            "https://ilibrary.ru/text/11/p.348/index.html\n",
            "https://ilibrary.ru/text/11/p.349/index.html\n",
            "https://ilibrary.ru/text/11/p.350/index.html\n",
            "https://ilibrary.ru/text/11/p.351/index.html\n",
            "https://ilibrary.ru/text/11/p.352/index.html\n",
            "https://ilibrary.ru/text/11/p.353/index.html\n",
            "https://ilibrary.ru/text/11/p.354/index.html\n",
            "https://ilibrary.ru/text/11/p.355/index.html\n",
            "https://ilibrary.ru/text/11/p.356/index.html\n",
            "https://ilibrary.ru/text/11/p.357/index.html\n",
            "https://ilibrary.ru/text/11/p.358/index.html\n",
            "https://ilibrary.ru/text/11/p.359/index.html\n",
            "https://ilibrary.ru/text/11/p.360/index.html\n",
            "https://ilibrary.ru/text/11/p.361/index.html\n",
            "CPU times: user 24.7 s, sys: 1.18 s, total: 25.9 s\n",
            "Wall time: 3min 16s\n"
          ]
        }
      ]
    },
    {
      "cell_type": "code",
      "source": [
        "list_TEXT_BOOK = TEXT_BOOK.split(' ')"
      ],
      "metadata": {
        "id": "8DjupxZrxjCY"
      },
      "execution_count": 9,
      "outputs": []
    },
    {
      "cell_type": "code",
      "source": [
        "quantity_words = len(list_TEXT_BOOK) # Сколько всего обрабатывается слов\n",
        "quantity_words"
      ],
      "metadata": {
        "colab": {
          "base_uri": "https://localhost:8080/"
        },
        "id": "J7ltkyDUvw2n",
        "outputId": "68dc0b9f-bf7a-4ebc-c1b9-bf770f82a860"
      },
      "execution_count": 10,
      "outputs": [
        {
          "output_type": "execute_result",
          "data": {
            "text/plain": [
              "300768"
            ]
          },
          "metadata": {},
          "execution_count": 10
        }
      ]
    },
    {
      "cell_type": "code",
      "source": [
        "#Определить самое длинное слово\n",
        "max_word = max(list_TEXT_BOOK, key=len)\n",
        "max_len_word = len(max_word)\n",
        "print(f'Самое длинное слово: {max_word}, состоит из: {max_len_word} букв')"
      ],
      "metadata": {
        "colab": {
          "base_uri": "https://localhost:8080/"
        },
        "id": "elsrK0EVvyQI",
        "outputId": "de054313-ddbd-4cc0-807f-e71203d5ad40"
      },
      "execution_count": 11,
      "outputs": [
        {
          "output_type": "stream",
          "name": "stdout",
          "text": [
            "Самое длинное слово: сверхъестественно-прекрасное, состоит из: 28 букв\n"
          ]
        }
      ]
    },
    {
      "cell_type": "markdown",
      "source": [
        "###ТЕСТИРОВАНИЕ ВЫБОРКИ СЛОВ НАЧАТЬ ОТ СЮДА, ЧТОБ НЕ ГРУЗИТЬ ВСЕ ВРЕМЯ С САЙТА"
      ],
      "metadata": {
        "id": "sJFNouIw9OcR"
      }
    },
    {
      "cell_type": "code",
      "source": [
        "#TEXT_BOOK_SRT = \"лев толстой eh bien mon prince gênes et lucques ne sont plus que des apanages des поместья de la famille buonaparte non je vous préviens que si vous ne me dites pas que nous avons la guerre si vous vous permettez encore de pallier toutes les infamies toutes les atrocités de cet antichrist ma parole j y crois je ne vous connais plus vous n'êtes plus mon ami vous n'êtes plus верный раб comme vous dites 1. здравствуйте здравствуйте je vois que je vous fais peur 2 садитесь рассказывайте говорила июле 1805 года известная анна павловна шерер фрейлина приближенная императрицы марии феодоровны встречая важного чиновного князя василия первого приехавшего вечер анна павловна кашляла несколько дней был грипп говорила грипп был тогда новое слово употреблявшееся только редкими записочках разосланных утром красным лакеем было написано различия « si vous n'avez rien de mieux à faire monsieur le comte mon prince et si la perspective de passer la soirée chez une pauvre malade ne vous effraye pas trop je serai charmée de vous voir chez moi entre 7 et 10 heures annette scherer » 3 dieu quelle virulente sortie 4 отвечал нисколько смутясь такою встречей вошедший князь придворном шитом мундире чулках башмаках звездах светлым выражением плоского лица говорил изысканном французском языке котором только говорили думали наши деды теми тихими покровительственными интонациями которые свойственны состаревшемуся свете дворе значительному человеку подошел анне павловне поцеловал руку подставив надушенную сияющую лысину покойно уселся диване avant tout dites-moi comment vous allez chère amie 5 успокойте сказал изменяя голоса тоном котором из-за приличия участия просвечивало равнодушие даже насмешка можно быть здоровой когда нравственно страдаешь можно имея чувство оставаться спокойною наше время сказала анна павловна весь вечер надеюсь праздник английского посланника нынче середа надо показаться сказал князь дочь заедет мной повезет думала нынешний праздник отменен je vous avoue que toutes ces fêtes et tous ces feux d'artifice commencent à devenir insipides 6 ежели знали хотите праздник отменили сказал князь привычке заведенные часы говоря вещи которым хотел верили ne me tourmentez pas eh bien qu a-t-on décidé par rapport à la dépêche de novosilzoff vous savez tout 7 сказать сказал князь холодным скучающим тоном qu a-t-on décidé on a décidé que buonaparte a brûlé ses vaisseaux et je crois que nous sommes en train de brûler les nôtres 8 князь василий говорил всегда лениво актер говорит роль старой пиесы анна павловна шерер напротив несмотря свои сорок лет была преисполнена оживления порывов быть энтузиасткой сделалось общественным положением иногда когда даже хотелось обмануть ожиданий людей знавших делалась энтузиасткой сдержанная улыбка игравшая постоянно лице анны павловны хотя шла отжившим чертам выражала избалованных детей постоянное сознание своего милого недостатка которого хочет может находит нужным исправляться середине разговора политические действия анна павловна разгорячилась ах говорите австрию ничего понимаю может быть австрия никогда хотела хочет войны предает россия одна должна быть спасительницей европы наш благодетель знает свое высокое призвание будет верен вот одно верю нашему доброму чудному государю предстоит величайшая роль мире добродетелен хорош бог оставит исполнит свое призвание задавить гидру революции которая теперь ужаснее лице убийцы злодея одни должны искупить кровь праведника кого нам надеяться спрашиваю англия своим коммерческим духом поймет может понять высоту души императора александра отказалась очистить мальту хочет видеть ищет заднюю мысль наших действий сказали новосильцеву ничего поняли могли понять самоотвержения нашего императора который ничего хочет себя хочет блага мира обещали ничего обещали будет пруссия объявила бонапарте непобедим вся европа ничего может против верю одном слове гарденбергу гаугвицу cette fameuse neutralité prussienne ce n'est qu'un piège 9. верю одного бога высокую судьбу нашего милого императора спасет европу вдруг остановилась улыбкой насмешки своею горячностью думаю сказал князь улыбаясь ежели послали вместо нашего милого винценгероде взяли приступом согласие прусского короля красноречивы дадите чаю сейчас a propos прибавила опять успокоиваясь нынче два очень интересные человека le vicomte de mortemart il est allié aux montmorency par les rohans 10 одна лучших фамилий франции один хороших эмигрантов настоящих потом l'abbé morio 11 знаете глубокий ум был принят государем знаете очень рад буду сказал князь скажите прибавил только вспомнив что-то особенно-небрежно тогда спрашивал было главной целью посещения правда l'impératrice-mère 12 желает назначения барона функе первым секретарем вену c'est un pauvre sire ce baron à ce qu'il paraît 13 князь\"\n",
        "#TEXT_BOOK_SRT = \"одна лучших фамилий франции глубокий ум был принят государем знаете очень рад буду сказал князь скажите прибавил только вспомнив тогда спрашивал было главной доме своего отца. Хотя он и предполагал, что история его уже известна в Москве и что дамы, окружающие его отца, всегда недоброжелательные к нему, воспользуются этим случаем, чтобы раздражить графа, он все-таки в день приезда пошел на половину отца. Войдя в гостиную, обычное местопребывание княжон, он поздоровался с дамами, сидевшими за пяльцами и за книгой, которую вслух читала одна из них. Их было три. Старшая, чистоплотная, с длинною талией, строгая девица, та самая, которая выходила к Анне Михайловне, читала; младшие, обе румяные и хорошенькие, отличавшиеся друг от друга только тем, что у одной была родинка над губой, очень красившая ее, шили в пяльцах. Пьер был встречен, как мертвец или зачумленный. Старшая княжна прервала чтение и молча посмотрела на него испуганными глазами; младшая, без родинки, приняла точно такое же выражение; самая меньшая, с родинкой, веселого и смешливого характера, нагнулась к пяльцам, чтобы скрыть улыбку, вызванную, вероятно, предстоящей сценой, забавность которой она предвидела. Она протянула вниз шерстинку и нагнулась, будто разбирая узоры и едва удерживаясь от смеха. В то время как Борис вошел к нему, Пьер ходил по своей комнате, изредка останавливаясь в углах, делая угрожающие жесты к стене, как будто пронзая невидимого врага шпагой, и строго взглядывая сверх очков и затем вновь начиная свою прогулку, проговаривая неясные слова, пожимая плечами и разводя руками. — L'Angleterre a vécu 3, — проговорил он нахмуриваясь и указывая на кого-то пальцем. — Monsieur Pitt comme traître à la nation et au droit des gens est condamné à... 4 — Он не успел договорить приговора Питту, воображая себя в эту минуту самим Наполеоном и вместе с своим героем уже совершив опасный переезд через Па-де-Кале и завоевав Лондон, — как увидел входившего к нему молодого, стройного и красивого офицера. Он остановился. Пьер оставил Бориса четырнадцатилетним мальчиком и решительно не помнил его; но, несмотря на то, с свойственною ему быстрою и радушною манерой взял его за руку и дружелюбно улыбнулся.\""
      ],
      "metadata": {
        "id": "_F9DivQAy0L3"
      },
      "execution_count": null,
      "outputs": []
    },
    {
      "cell_type": "markdown",
      "source": [
        "###Этап 3: Внесение данных для нахождения слогов"
      ],
      "metadata": {
        "id": "aF62u9yP653J"
      }
    },
    {
      "cell_type": "code",
      "source": [
        "vowels = 'ауоыиэяюёе' # гласные буквы\n",
        "consonants = 'бвгджзклмнпрстфхцчшщ' # согласные буквы\n",
        "TOTAL_SLOG = [] # будем создавать список с вложеным списком слогов, для подсчета совпадений и длин слов"
      ],
      "metadata": {
        "id": "g1NX51A064wJ"
      },
      "execution_count": 12,
      "outputs": []
    },
    {
      "cell_type": "code",
      "source": [
        "# Получим возможные слоги\n",
        "for consonant in consonants:\n",
        "  for vowel in vowels:\n",
        "    TOTAL_SLOG.append([consonant + vowel])"
      ],
      "metadata": {
        "id": "V55u0Zk787lb"
      },
      "execution_count": 13,
      "outputs": []
    },
    {
      "cell_type": "code",
      "source": [
        "for quantity_slog in range(len(TOTAL_SLOG)):\n",
        "  TOTAL_SLOG[quantity_slog].append(0) # Дополняем список нулевыми значениями совпадений слогов"
      ],
      "metadata": {
        "id": "Xxtgiq0zPBgQ"
      },
      "execution_count": 14,
      "outputs": []
    },
    {
      "cell_type": "code",
      "source": [
        "df_slog = pd.DataFrame(TOTAL_SLOG, columns=['Слог', 'Частота']) # Сформируем предварительный датафрейм, 1 - слог, 2 - количество совпадений"
      ],
      "metadata": {
        "id": "er8PAuuwYDmt"
      },
      "execution_count": 15,
      "outputs": []
    },
    {
      "cell_type": "code",
      "source": [
        "#Добавляем колонки справа столько сколько возможно максимальное слово, т.е. от 2 до 28. Заполняем их 0, чтоб потом вести счетчик подсчета\n",
        "for num in range(2, max_len_word + 1):\n",
        "  df_slog[f'{num} букв(ы)'] = 0"
      ],
      "metadata": {
        "id": "CIaR4Wk95XMy"
      },
      "execution_count": 16,
      "outputs": []
    },
    {
      "cell_type": "code",
      "source": [
        "df_slog.head()"
      ],
      "metadata": {
        "id": "Ud9GzdgIY9GU",
        "colab": {
          "base_uri": "https://localhost:8080/",
          "height": 236
        },
        "outputId": "bd4527f3-86bb-43ec-9431-b31cf696afbb"
      },
      "execution_count": 17,
      "outputs": [
        {
          "output_type": "execute_result",
          "data": {
            "text/plain": [
              "  Слог  Частота  2 букв(ы)  3 букв(ы)  4 букв(ы)  5 букв(ы)  6 букв(ы)  \\\n",
              "0   ба        0          0          0          0          0          0   \n",
              "1   бу        0          0          0          0          0          0   \n",
              "2   бо        0          0          0          0          0          0   \n",
              "3   бы        0          0          0          0          0          0   \n",
              "4   би        0          0          0          0          0          0   \n",
              "\n",
              "   7 букв(ы)  8 букв(ы)  9 букв(ы)  ...  19 букв(ы)  20 букв(ы)  21 букв(ы)  \\\n",
              "0          0          0          0  ...           0           0           0   \n",
              "1          0          0          0  ...           0           0           0   \n",
              "2          0          0          0  ...           0           0           0   \n",
              "3          0          0          0  ...           0           0           0   \n",
              "4          0          0          0  ...           0           0           0   \n",
              "\n",
              "   22 букв(ы)  23 букв(ы)  24 букв(ы)  25 букв(ы)  26 букв(ы)  27 букв(ы)  \\\n",
              "0           0           0           0           0           0           0   \n",
              "1           0           0           0           0           0           0   \n",
              "2           0           0           0           0           0           0   \n",
              "3           0           0           0           0           0           0   \n",
              "4           0           0           0           0           0           0   \n",
              "\n",
              "   28 букв(ы)  \n",
              "0           0  \n",
              "1           0  \n",
              "2           0  \n",
              "3           0  \n",
              "4           0  \n",
              "\n",
              "[5 rows x 29 columns]"
            ],
            "text/html": [
              "\n",
              "  <div id=\"df-62f9637b-58c0-48bd-8e77-24c816355175\">\n",
              "    <div class=\"colab-df-container\">\n",
              "      <div>\n",
              "<style scoped>\n",
              "    .dataframe tbody tr th:only-of-type {\n",
              "        vertical-align: middle;\n",
              "    }\n",
              "\n",
              "    .dataframe tbody tr th {\n",
              "        vertical-align: top;\n",
              "    }\n",
              "\n",
              "    .dataframe thead th {\n",
              "        text-align: right;\n",
              "    }\n",
              "</style>\n",
              "<table border=\"1\" class=\"dataframe\">\n",
              "  <thead>\n",
              "    <tr style=\"text-align: right;\">\n",
              "      <th></th>\n",
              "      <th>Слог</th>\n",
              "      <th>Частота</th>\n",
              "      <th>2 букв(ы)</th>\n",
              "      <th>3 букв(ы)</th>\n",
              "      <th>4 букв(ы)</th>\n",
              "      <th>5 букв(ы)</th>\n",
              "      <th>6 букв(ы)</th>\n",
              "      <th>7 букв(ы)</th>\n",
              "      <th>8 букв(ы)</th>\n",
              "      <th>9 букв(ы)</th>\n",
              "      <th>...</th>\n",
              "      <th>19 букв(ы)</th>\n",
              "      <th>20 букв(ы)</th>\n",
              "      <th>21 букв(ы)</th>\n",
              "      <th>22 букв(ы)</th>\n",
              "      <th>23 букв(ы)</th>\n",
              "      <th>24 букв(ы)</th>\n",
              "      <th>25 букв(ы)</th>\n",
              "      <th>26 букв(ы)</th>\n",
              "      <th>27 букв(ы)</th>\n",
              "      <th>28 букв(ы)</th>\n",
              "    </tr>\n",
              "  </thead>\n",
              "  <tbody>\n",
              "    <tr>\n",
              "      <th>0</th>\n",
              "      <td>ба</td>\n",
              "      <td>0</td>\n",
              "      <td>0</td>\n",
              "      <td>0</td>\n",
              "      <td>0</td>\n",
              "      <td>0</td>\n",
              "      <td>0</td>\n",
              "      <td>0</td>\n",
              "      <td>0</td>\n",
              "      <td>0</td>\n",
              "      <td>...</td>\n",
              "      <td>0</td>\n",
              "      <td>0</td>\n",
              "      <td>0</td>\n",
              "      <td>0</td>\n",
              "      <td>0</td>\n",
              "      <td>0</td>\n",
              "      <td>0</td>\n",
              "      <td>0</td>\n",
              "      <td>0</td>\n",
              "      <td>0</td>\n",
              "    </tr>\n",
              "    <tr>\n",
              "      <th>1</th>\n",
              "      <td>бу</td>\n",
              "      <td>0</td>\n",
              "      <td>0</td>\n",
              "      <td>0</td>\n",
              "      <td>0</td>\n",
              "      <td>0</td>\n",
              "      <td>0</td>\n",
              "      <td>0</td>\n",
              "      <td>0</td>\n",
              "      <td>0</td>\n",
              "      <td>...</td>\n",
              "      <td>0</td>\n",
              "      <td>0</td>\n",
              "      <td>0</td>\n",
              "      <td>0</td>\n",
              "      <td>0</td>\n",
              "      <td>0</td>\n",
              "      <td>0</td>\n",
              "      <td>0</td>\n",
              "      <td>0</td>\n",
              "      <td>0</td>\n",
              "    </tr>\n",
              "    <tr>\n",
              "      <th>2</th>\n",
              "      <td>бо</td>\n",
              "      <td>0</td>\n",
              "      <td>0</td>\n",
              "      <td>0</td>\n",
              "      <td>0</td>\n",
              "      <td>0</td>\n",
              "      <td>0</td>\n",
              "      <td>0</td>\n",
              "      <td>0</td>\n",
              "      <td>0</td>\n",
              "      <td>...</td>\n",
              "      <td>0</td>\n",
              "      <td>0</td>\n",
              "      <td>0</td>\n",
              "      <td>0</td>\n",
              "      <td>0</td>\n",
              "      <td>0</td>\n",
              "      <td>0</td>\n",
              "      <td>0</td>\n",
              "      <td>0</td>\n",
              "      <td>0</td>\n",
              "    </tr>\n",
              "    <tr>\n",
              "      <th>3</th>\n",
              "      <td>бы</td>\n",
              "      <td>0</td>\n",
              "      <td>0</td>\n",
              "      <td>0</td>\n",
              "      <td>0</td>\n",
              "      <td>0</td>\n",
              "      <td>0</td>\n",
              "      <td>0</td>\n",
              "      <td>0</td>\n",
              "      <td>0</td>\n",
              "      <td>...</td>\n",
              "      <td>0</td>\n",
              "      <td>0</td>\n",
              "      <td>0</td>\n",
              "      <td>0</td>\n",
              "      <td>0</td>\n",
              "      <td>0</td>\n",
              "      <td>0</td>\n",
              "      <td>0</td>\n",
              "      <td>0</td>\n",
              "      <td>0</td>\n",
              "    </tr>\n",
              "    <tr>\n",
              "      <th>4</th>\n",
              "      <td>би</td>\n",
              "      <td>0</td>\n",
              "      <td>0</td>\n",
              "      <td>0</td>\n",
              "      <td>0</td>\n",
              "      <td>0</td>\n",
              "      <td>0</td>\n",
              "      <td>0</td>\n",
              "      <td>0</td>\n",
              "      <td>0</td>\n",
              "      <td>...</td>\n",
              "      <td>0</td>\n",
              "      <td>0</td>\n",
              "      <td>0</td>\n",
              "      <td>0</td>\n",
              "      <td>0</td>\n",
              "      <td>0</td>\n",
              "      <td>0</td>\n",
              "      <td>0</td>\n",
              "      <td>0</td>\n",
              "      <td>0</td>\n",
              "    </tr>\n",
              "  </tbody>\n",
              "</table>\n",
              "<p>5 rows × 29 columns</p>\n",
              "</div>\n",
              "      <button class=\"colab-df-convert\" onclick=\"convertToInteractive('df-62f9637b-58c0-48bd-8e77-24c816355175')\"\n",
              "              title=\"Convert this dataframe to an interactive table.\"\n",
              "              style=\"display:none;\">\n",
              "        \n",
              "  <svg xmlns=\"http://www.w3.org/2000/svg\" height=\"24px\"viewBox=\"0 0 24 24\"\n",
              "       width=\"24px\">\n",
              "    <path d=\"M0 0h24v24H0V0z\" fill=\"none\"/>\n",
              "    <path d=\"M18.56 5.44l.94 2.06.94-2.06 2.06-.94-2.06-.94-.94-2.06-.94 2.06-2.06.94zm-11 1L8.5 8.5l.94-2.06 2.06-.94-2.06-.94L8.5 2.5l-.94 2.06-2.06.94zm10 10l.94 2.06.94-2.06 2.06-.94-2.06-.94-.94-2.06-.94 2.06-2.06.94z\"/><path d=\"M17.41 7.96l-1.37-1.37c-.4-.4-.92-.59-1.43-.59-.52 0-1.04.2-1.43.59L10.3 9.45l-7.72 7.72c-.78.78-.78 2.05 0 2.83L4 21.41c.39.39.9.59 1.41.59.51 0 1.02-.2 1.41-.59l7.78-7.78 2.81-2.81c.8-.78.8-2.07 0-2.86zM5.41 20L4 18.59l7.72-7.72 1.47 1.35L5.41 20z\"/>\n",
              "  </svg>\n",
              "      </button>\n",
              "      \n",
              "  <style>\n",
              "    .colab-df-container {\n",
              "      display:flex;\n",
              "      flex-wrap:wrap;\n",
              "      gap: 12px;\n",
              "    }\n",
              "\n",
              "    .colab-df-convert {\n",
              "      background-color: #E8F0FE;\n",
              "      border: none;\n",
              "      border-radius: 50%;\n",
              "      cursor: pointer;\n",
              "      display: none;\n",
              "      fill: #1967D2;\n",
              "      height: 32px;\n",
              "      padding: 0 0 0 0;\n",
              "      width: 32px;\n",
              "    }\n",
              "\n",
              "    .colab-df-convert:hover {\n",
              "      background-color: #E2EBFA;\n",
              "      box-shadow: 0px 1px 2px rgba(60, 64, 67, 0.3), 0px 1px 3px 1px rgba(60, 64, 67, 0.15);\n",
              "      fill: #174EA6;\n",
              "    }\n",
              "\n",
              "    [theme=dark] .colab-df-convert {\n",
              "      background-color: #3B4455;\n",
              "      fill: #D2E3FC;\n",
              "    }\n",
              "\n",
              "    [theme=dark] .colab-df-convert:hover {\n",
              "      background-color: #434B5C;\n",
              "      box-shadow: 0px 1px 3px 1px rgba(0, 0, 0, 0.15);\n",
              "      filter: drop-shadow(0px 1px 2px rgba(0, 0, 0, 0.3));\n",
              "      fill: #FFFFFF;\n",
              "    }\n",
              "  </style>\n",
              "\n",
              "      <script>\n",
              "        const buttonEl =\n",
              "          document.querySelector('#df-62f9637b-58c0-48bd-8e77-24c816355175 button.colab-df-convert');\n",
              "        buttonEl.style.display =\n",
              "          google.colab.kernel.accessAllowed ? 'block' : 'none';\n",
              "\n",
              "        async function convertToInteractive(key) {\n",
              "          const element = document.querySelector('#df-62f9637b-58c0-48bd-8e77-24c816355175');\n",
              "          const dataTable =\n",
              "            await google.colab.kernel.invokeFunction('convertToInteractive',\n",
              "                                                     [key], {});\n",
              "          if (!dataTable) return;\n",
              "\n",
              "          const docLinkHtml = 'Like what you see? Visit the ' +\n",
              "            '<a target=\"_blank\" href=https://colab.research.google.com/notebooks/data_table.ipynb>data table notebook</a>'\n",
              "            + ' to learn more about interactive tables.';\n",
              "          element.innerHTML = '';\n",
              "          dataTable['output_type'] = 'display_data';\n",
              "          await google.colab.output.renderOutput(dataTable, element);\n",
              "          const docLink = document.createElement('div');\n",
              "          docLink.innerHTML = docLinkHtml;\n",
              "          element.appendChild(docLink);\n",
              "        }\n",
              "      </script>\n",
              "    </div>\n",
              "  </div>\n",
              "  "
            ]
          },
          "metadata": {},
          "execution_count": 17
        }
      ]
    },
    {
      "cell_type": "markdown",
      "source": [
        "###Этап 4: Обработка полезных данных"
      ],
      "metadata": {
        "id": "Vg4FOGU-7dVi"
      }
    },
    {
      "cell_type": "code",
      "source": [
        "def word_processing(word_word):\n",
        "  ''' Функция поиска слогов в слове'''\n",
        "\n",
        "  global vowels, consonants, TOTAL_SLOG\n",
        "  len_word = len(word_word)\n",
        "  \n",
        "  for index_letter in range(1, len_word):\n",
        "    if word_word[index_letter] in vowels and word_word[index_letter - 1] in consonants:\n",
        "      slog = word_word[index_letter - 1] + word_word[index_letter]\n",
        "            \n",
        "      find_index = df_slog.loc[df_slog.isin([slog]).any(axis=1)].index.tolist() # нахождение индекса в дата фрейме (номера строки) слога\n",
        "      #print('Слог: ' + slog + ' / Индекс в списке логов: ' + str(find_index)) # проверка правильности индекса слога\n",
        "      #df_slog[1][find_index] += 1\n",
        "      df_slog['Частота'][find_index[0]] += 1 # Увеличиваем число находжение слога в колонке частоты совпадений\n",
        "\n",
        "      df_slog[f'{len_word} букв(ы)'][find_index[0]] += 1 # Увеличиваем число находжение слога в колонке длины слова где находится слог\n",
        "      "
      ],
      "metadata": {
        "id": "_JJ9OyaLQJBQ"
      },
      "execution_count": 20,
      "outputs": []
    },
    {
      "cell_type": "code",
      "source": [
        "%%time\n",
        "for word_from_book in TEXT_BOOK.split(' '):\n",
        "  word_processing(word_from_book)"
      ],
      "metadata": {
        "id": "hVy_sd9-y0SY",
        "colab": {
          "base_uri": "https://localhost:8080/"
        },
        "outputId": "5b9e263c-06ac-4a32-880a-4274aa6f6004"
      },
      "execution_count": 21,
      "outputs": [
        {
          "output_type": "stream",
          "name": "stderr",
          "text": [
            "/usr/local/lib/python3.7/dist-packages/ipykernel_launcher.py:14: SettingWithCopyWarning: \n",
            "A value is trying to be set on a copy of a slice from a DataFrame\n",
            "\n",
            "See the caveats in the documentation: https://pandas.pydata.org/pandas-docs/stable/user_guide/indexing.html#returning-a-view-versus-a-copy\n",
            "  \n",
            "/usr/local/lib/python3.7/dist-packages/ipykernel_launcher.py:16: SettingWithCopyWarning: \n",
            "A value is trying to be set on a copy of a slice from a DataFrame\n",
            "\n",
            "See the caveats in the documentation: https://pandas.pydata.org/pandas-docs/stable/user_guide/indexing.html#returning-a-view-versus-a-copy\n",
            "  app.launch_new_instance()\n"
          ]
        },
        {
          "output_type": "stream",
          "name": "stdout",
          "text": [
            "CPU times: user 19min 37s, sys: 21.9 s, total: 19min 59s\n",
            "Wall time: 19min 25s\n"
          ]
        }
      ]
    },
    {
      "cell_type": "markdown",
      "source": [
        "###Этап 5: Вывод"
      ],
      "metadata": {
        "id": "fy9aR8zJMkpL"
      }
    },
    {
      "cell_type": "code",
      "source": [
        "df_slog.shape"
      ],
      "metadata": {
        "id": "SMguyRORkJgM",
        "colab": {
          "base_uri": "https://localhost:8080/"
        },
        "outputId": "d9992293-20eb-461b-a0eb-b18c043218ab"
      },
      "execution_count": 22,
      "outputs": [
        {
          "output_type": "execute_result",
          "data": {
            "text/plain": [
              "(200, 29)"
            ]
          },
          "metadata": {},
          "execution_count": 22
        }
      ]
    },
    {
      "cell_type": "code",
      "source": [
        "df_slog.head()"
      ],
      "metadata": {
        "colab": {
          "base_uri": "https://localhost:8080/",
          "height": 236
        },
        "id": "qPN7DFtjXBhr",
        "outputId": "7253ef16-3dfa-476c-87a0-49304c4aff0a"
      },
      "execution_count": 23,
      "outputs": [
        {
          "output_type": "execute_result",
          "data": {
            "text/plain": [
              "  Слог  Частота  2 букв(ы)  3 букв(ы)  4 букв(ы)  5 букв(ы)  6 букв(ы)  \\\n",
              "0   ба     2613          2        109        158        225        361   \n",
              "1   бу     2288          1         18        155        690        281   \n",
              "2   бо     5462          2        207        343        929       1021   \n",
              "3   бы     3384          0          3       1796        117        668   \n",
              "4   би     1947          0         17        101        261        312   \n",
              "\n",
              "   7 букв(ы)  8 букв(ы)  9 букв(ы)  ...  19 букв(ы)  20 букв(ы)  21 букв(ы)  \\\n",
              "0        499        595        346  ...           2           4           0   \n",
              "1        187        106        181  ...           1           1           0   \n",
              "2       1073        566        392  ...           3           4           2   \n",
              "3        385        165         36  ...           0           0           0   \n",
              "4        484        394        182  ...           1           0           1   \n",
              "\n",
              "   22 букв(ы)  23 букв(ы)  24 букв(ы)  25 букв(ы)  26 букв(ы)  27 букв(ы)  \\\n",
              "0           0           0           0           0           0           0   \n",
              "1           1           1           0           0           0           0   \n",
              "2           1           0           1           0           0           0   \n",
              "3           0           0           0           0           1           0   \n",
              "4           1           0           0           0           0           0   \n",
              "\n",
              "   28 букв(ы)  \n",
              "0           0  \n",
              "1           0  \n",
              "2           0  \n",
              "3           0  \n",
              "4           0  \n",
              "\n",
              "[5 rows x 29 columns]"
            ],
            "text/html": [
              "\n",
              "  <div id=\"df-0ebf2f60-8928-42dc-a73c-5c3609f8bda6\">\n",
              "    <div class=\"colab-df-container\">\n",
              "      <div>\n",
              "<style scoped>\n",
              "    .dataframe tbody tr th:only-of-type {\n",
              "        vertical-align: middle;\n",
              "    }\n",
              "\n",
              "    .dataframe tbody tr th {\n",
              "        vertical-align: top;\n",
              "    }\n",
              "\n",
              "    .dataframe thead th {\n",
              "        text-align: right;\n",
              "    }\n",
              "</style>\n",
              "<table border=\"1\" class=\"dataframe\">\n",
              "  <thead>\n",
              "    <tr style=\"text-align: right;\">\n",
              "      <th></th>\n",
              "      <th>Слог</th>\n",
              "      <th>Частота</th>\n",
              "      <th>2 букв(ы)</th>\n",
              "      <th>3 букв(ы)</th>\n",
              "      <th>4 букв(ы)</th>\n",
              "      <th>5 букв(ы)</th>\n",
              "      <th>6 букв(ы)</th>\n",
              "      <th>7 букв(ы)</th>\n",
              "      <th>8 букв(ы)</th>\n",
              "      <th>9 букв(ы)</th>\n",
              "      <th>...</th>\n",
              "      <th>19 букв(ы)</th>\n",
              "      <th>20 букв(ы)</th>\n",
              "      <th>21 букв(ы)</th>\n",
              "      <th>22 букв(ы)</th>\n",
              "      <th>23 букв(ы)</th>\n",
              "      <th>24 букв(ы)</th>\n",
              "      <th>25 букв(ы)</th>\n",
              "      <th>26 букв(ы)</th>\n",
              "      <th>27 букв(ы)</th>\n",
              "      <th>28 букв(ы)</th>\n",
              "    </tr>\n",
              "  </thead>\n",
              "  <tbody>\n",
              "    <tr>\n",
              "      <th>0</th>\n",
              "      <td>ба</td>\n",
              "      <td>2613</td>\n",
              "      <td>2</td>\n",
              "      <td>109</td>\n",
              "      <td>158</td>\n",
              "      <td>225</td>\n",
              "      <td>361</td>\n",
              "      <td>499</td>\n",
              "      <td>595</td>\n",
              "      <td>346</td>\n",
              "      <td>...</td>\n",
              "      <td>2</td>\n",
              "      <td>4</td>\n",
              "      <td>0</td>\n",
              "      <td>0</td>\n",
              "      <td>0</td>\n",
              "      <td>0</td>\n",
              "      <td>0</td>\n",
              "      <td>0</td>\n",
              "      <td>0</td>\n",
              "      <td>0</td>\n",
              "    </tr>\n",
              "    <tr>\n",
              "      <th>1</th>\n",
              "      <td>бу</td>\n",
              "      <td>2288</td>\n",
              "      <td>1</td>\n",
              "      <td>18</td>\n",
              "      <td>155</td>\n",
              "      <td>690</td>\n",
              "      <td>281</td>\n",
              "      <td>187</td>\n",
              "      <td>106</td>\n",
              "      <td>181</td>\n",
              "      <td>...</td>\n",
              "      <td>1</td>\n",
              "      <td>1</td>\n",
              "      <td>0</td>\n",
              "      <td>1</td>\n",
              "      <td>1</td>\n",
              "      <td>0</td>\n",
              "      <td>0</td>\n",
              "      <td>0</td>\n",
              "      <td>0</td>\n",
              "      <td>0</td>\n",
              "    </tr>\n",
              "    <tr>\n",
              "      <th>2</th>\n",
              "      <td>бо</td>\n",
              "      <td>5462</td>\n",
              "      <td>2</td>\n",
              "      <td>207</td>\n",
              "      <td>343</td>\n",
              "      <td>929</td>\n",
              "      <td>1021</td>\n",
              "      <td>1073</td>\n",
              "      <td>566</td>\n",
              "      <td>392</td>\n",
              "      <td>...</td>\n",
              "      <td>3</td>\n",
              "      <td>4</td>\n",
              "      <td>2</td>\n",
              "      <td>1</td>\n",
              "      <td>0</td>\n",
              "      <td>1</td>\n",
              "      <td>0</td>\n",
              "      <td>0</td>\n",
              "      <td>0</td>\n",
              "      <td>0</td>\n",
              "    </tr>\n",
              "    <tr>\n",
              "      <th>3</th>\n",
              "      <td>бы</td>\n",
              "      <td>3384</td>\n",
              "      <td>0</td>\n",
              "      <td>3</td>\n",
              "      <td>1796</td>\n",
              "      <td>117</td>\n",
              "      <td>668</td>\n",
              "      <td>385</td>\n",
              "      <td>165</td>\n",
              "      <td>36</td>\n",
              "      <td>...</td>\n",
              "      <td>0</td>\n",
              "      <td>0</td>\n",
              "      <td>0</td>\n",
              "      <td>0</td>\n",
              "      <td>0</td>\n",
              "      <td>0</td>\n",
              "      <td>0</td>\n",
              "      <td>1</td>\n",
              "      <td>0</td>\n",
              "      <td>0</td>\n",
              "    </tr>\n",
              "    <tr>\n",
              "      <th>4</th>\n",
              "      <td>би</td>\n",
              "      <td>1947</td>\n",
              "      <td>0</td>\n",
              "      <td>17</td>\n",
              "      <td>101</td>\n",
              "      <td>261</td>\n",
              "      <td>312</td>\n",
              "      <td>484</td>\n",
              "      <td>394</td>\n",
              "      <td>182</td>\n",
              "      <td>...</td>\n",
              "      <td>1</td>\n",
              "      <td>0</td>\n",
              "      <td>1</td>\n",
              "      <td>1</td>\n",
              "      <td>0</td>\n",
              "      <td>0</td>\n",
              "      <td>0</td>\n",
              "      <td>0</td>\n",
              "      <td>0</td>\n",
              "      <td>0</td>\n",
              "    </tr>\n",
              "  </tbody>\n",
              "</table>\n",
              "<p>5 rows × 29 columns</p>\n",
              "</div>\n",
              "      <button class=\"colab-df-convert\" onclick=\"convertToInteractive('df-0ebf2f60-8928-42dc-a73c-5c3609f8bda6')\"\n",
              "              title=\"Convert this dataframe to an interactive table.\"\n",
              "              style=\"display:none;\">\n",
              "        \n",
              "  <svg xmlns=\"http://www.w3.org/2000/svg\" height=\"24px\"viewBox=\"0 0 24 24\"\n",
              "       width=\"24px\">\n",
              "    <path d=\"M0 0h24v24H0V0z\" fill=\"none\"/>\n",
              "    <path d=\"M18.56 5.44l.94 2.06.94-2.06 2.06-.94-2.06-.94-.94-2.06-.94 2.06-2.06.94zm-11 1L8.5 8.5l.94-2.06 2.06-.94-2.06-.94L8.5 2.5l-.94 2.06-2.06.94zm10 10l.94 2.06.94-2.06 2.06-.94-2.06-.94-.94-2.06-.94 2.06-2.06.94z\"/><path d=\"M17.41 7.96l-1.37-1.37c-.4-.4-.92-.59-1.43-.59-.52 0-1.04.2-1.43.59L10.3 9.45l-7.72 7.72c-.78.78-.78 2.05 0 2.83L4 21.41c.39.39.9.59 1.41.59.51 0 1.02-.2 1.41-.59l7.78-7.78 2.81-2.81c.8-.78.8-2.07 0-2.86zM5.41 20L4 18.59l7.72-7.72 1.47 1.35L5.41 20z\"/>\n",
              "  </svg>\n",
              "      </button>\n",
              "      \n",
              "  <style>\n",
              "    .colab-df-container {\n",
              "      display:flex;\n",
              "      flex-wrap:wrap;\n",
              "      gap: 12px;\n",
              "    }\n",
              "\n",
              "    .colab-df-convert {\n",
              "      background-color: #E8F0FE;\n",
              "      border: none;\n",
              "      border-radius: 50%;\n",
              "      cursor: pointer;\n",
              "      display: none;\n",
              "      fill: #1967D2;\n",
              "      height: 32px;\n",
              "      padding: 0 0 0 0;\n",
              "      width: 32px;\n",
              "    }\n",
              "\n",
              "    .colab-df-convert:hover {\n",
              "      background-color: #E2EBFA;\n",
              "      box-shadow: 0px 1px 2px rgba(60, 64, 67, 0.3), 0px 1px 3px 1px rgba(60, 64, 67, 0.15);\n",
              "      fill: #174EA6;\n",
              "    }\n",
              "\n",
              "    [theme=dark] .colab-df-convert {\n",
              "      background-color: #3B4455;\n",
              "      fill: #D2E3FC;\n",
              "    }\n",
              "\n",
              "    [theme=dark] .colab-df-convert:hover {\n",
              "      background-color: #434B5C;\n",
              "      box-shadow: 0px 1px 3px 1px rgba(0, 0, 0, 0.15);\n",
              "      filter: drop-shadow(0px 1px 2px rgba(0, 0, 0, 0.3));\n",
              "      fill: #FFFFFF;\n",
              "    }\n",
              "  </style>\n",
              "\n",
              "      <script>\n",
              "        const buttonEl =\n",
              "          document.querySelector('#df-0ebf2f60-8928-42dc-a73c-5c3609f8bda6 button.colab-df-convert');\n",
              "        buttonEl.style.display =\n",
              "          google.colab.kernel.accessAllowed ? 'block' : 'none';\n",
              "\n",
              "        async function convertToInteractive(key) {\n",
              "          const element = document.querySelector('#df-0ebf2f60-8928-42dc-a73c-5c3609f8bda6');\n",
              "          const dataTable =\n",
              "            await google.colab.kernel.invokeFunction('convertToInteractive',\n",
              "                                                     [key], {});\n",
              "          if (!dataTable) return;\n",
              "\n",
              "          const docLinkHtml = 'Like what you see? Visit the ' +\n",
              "            '<a target=\"_blank\" href=https://colab.research.google.com/notebooks/data_table.ipynb>data table notebook</a>'\n",
              "            + ' to learn more about interactive tables.';\n",
              "          element.innerHTML = '';\n",
              "          dataTable['output_type'] = 'display_data';\n",
              "          await google.colab.output.renderOutput(dataTable, element);\n",
              "          const docLink = document.createElement('div');\n",
              "          docLink.innerHTML = docLinkHtml;\n",
              "          element.appendChild(docLink);\n",
              "        }\n",
              "      </script>\n",
              "    </div>\n",
              "  </div>\n",
              "  "
            ]
          },
          "metadata": {},
          "execution_count": 23
        }
      ]
    },
    {
      "cell_type": "code",
      "source": [
        "df_slog['Частота'].max() # показать самые частовстречающиеся слоги\n",
        "#fig = h.get_figure()"
      ],
      "metadata": {
        "id": "e097egDJ9vMB",
        "colab": {
          "base_uri": "https://localhost:8080/"
        },
        "outputId": "c4f360f2-3f63-43f0-a2d4-f0c3b6542728"
      },
      "execution_count": 24,
      "outputs": [
        {
          "output_type": "execute_result",
          "data": {
            "text/plain": [
              "21896"
            ]
          },
          "metadata": {},
          "execution_count": 24
        }
      ]
    },
    {
      "cell_type": "code",
      "source": [
        "df_slog_tolk = df_slog.loc[df_slog['Частота'] != 0] # отфильтруем ДатаФрей убрав слоги которые не встречаются\n",
        "df_slog_tolk.shape"
      ],
      "metadata": {
        "id": "Dtsp46L6p_pp",
        "colab": {
          "base_uri": "https://localhost:8080/"
        },
        "outputId": "3301330e-2f0f-4329-d665-a436864c4dee"
      },
      "execution_count": 25,
      "outputs": [
        {
          "output_type": "execute_result",
          "data": {
            "text/plain": [
              "(160, 29)"
            ]
          },
          "metadata": {},
          "execution_count": 25
        }
      ]
    },
    {
      "cell_type": "code",
      "source": [
        "df_slog_tolk.head()"
      ],
      "metadata": {
        "id": "x5JAB7Qmq_bQ",
        "colab": {
          "base_uri": "https://localhost:8080/",
          "height": 236
        },
        "outputId": "231564c4-156d-4d33-e425-c941b1533bf8"
      },
      "execution_count": 26,
      "outputs": [
        {
          "output_type": "execute_result",
          "data": {
            "text/plain": [
              "  Слог  Частота  2 букв(ы)  3 букв(ы)  4 букв(ы)  5 букв(ы)  6 букв(ы)  \\\n",
              "0   ба     2613          2        109        158        225        361   \n",
              "1   бу     2288          1         18        155        690        281   \n",
              "2   бо     5462          2        207        343        929       1021   \n",
              "3   бы     3384          0          3       1796        117        668   \n",
              "4   би     1947          0         17        101        261        312   \n",
              "\n",
              "   7 букв(ы)  8 букв(ы)  9 букв(ы)  ...  19 букв(ы)  20 букв(ы)  21 букв(ы)  \\\n",
              "0        499        595        346  ...           2           4           0   \n",
              "1        187        106        181  ...           1           1           0   \n",
              "2       1073        566        392  ...           3           4           2   \n",
              "3        385        165         36  ...           0           0           0   \n",
              "4        484        394        182  ...           1           0           1   \n",
              "\n",
              "   22 букв(ы)  23 букв(ы)  24 букв(ы)  25 букв(ы)  26 букв(ы)  27 букв(ы)  \\\n",
              "0           0           0           0           0           0           0   \n",
              "1           1           1           0           0           0           0   \n",
              "2           1           0           1           0           0           0   \n",
              "3           0           0           0           0           1           0   \n",
              "4           1           0           0           0           0           0   \n",
              "\n",
              "   28 букв(ы)  \n",
              "0           0  \n",
              "1           0  \n",
              "2           0  \n",
              "3           0  \n",
              "4           0  \n",
              "\n",
              "[5 rows x 29 columns]"
            ],
            "text/html": [
              "\n",
              "  <div id=\"df-34b3959d-a0b0-4a65-bb77-85c5abe45818\">\n",
              "    <div class=\"colab-df-container\">\n",
              "      <div>\n",
              "<style scoped>\n",
              "    .dataframe tbody tr th:only-of-type {\n",
              "        vertical-align: middle;\n",
              "    }\n",
              "\n",
              "    .dataframe tbody tr th {\n",
              "        vertical-align: top;\n",
              "    }\n",
              "\n",
              "    .dataframe thead th {\n",
              "        text-align: right;\n",
              "    }\n",
              "</style>\n",
              "<table border=\"1\" class=\"dataframe\">\n",
              "  <thead>\n",
              "    <tr style=\"text-align: right;\">\n",
              "      <th></th>\n",
              "      <th>Слог</th>\n",
              "      <th>Частота</th>\n",
              "      <th>2 букв(ы)</th>\n",
              "      <th>3 букв(ы)</th>\n",
              "      <th>4 букв(ы)</th>\n",
              "      <th>5 букв(ы)</th>\n",
              "      <th>6 букв(ы)</th>\n",
              "      <th>7 букв(ы)</th>\n",
              "      <th>8 букв(ы)</th>\n",
              "      <th>9 букв(ы)</th>\n",
              "      <th>...</th>\n",
              "      <th>19 букв(ы)</th>\n",
              "      <th>20 букв(ы)</th>\n",
              "      <th>21 букв(ы)</th>\n",
              "      <th>22 букв(ы)</th>\n",
              "      <th>23 букв(ы)</th>\n",
              "      <th>24 букв(ы)</th>\n",
              "      <th>25 букв(ы)</th>\n",
              "      <th>26 букв(ы)</th>\n",
              "      <th>27 букв(ы)</th>\n",
              "      <th>28 букв(ы)</th>\n",
              "    </tr>\n",
              "  </thead>\n",
              "  <tbody>\n",
              "    <tr>\n",
              "      <th>0</th>\n",
              "      <td>ба</td>\n",
              "      <td>2613</td>\n",
              "      <td>2</td>\n",
              "      <td>109</td>\n",
              "      <td>158</td>\n",
              "      <td>225</td>\n",
              "      <td>361</td>\n",
              "      <td>499</td>\n",
              "      <td>595</td>\n",
              "      <td>346</td>\n",
              "      <td>...</td>\n",
              "      <td>2</td>\n",
              "      <td>4</td>\n",
              "      <td>0</td>\n",
              "      <td>0</td>\n",
              "      <td>0</td>\n",
              "      <td>0</td>\n",
              "      <td>0</td>\n",
              "      <td>0</td>\n",
              "      <td>0</td>\n",
              "      <td>0</td>\n",
              "    </tr>\n",
              "    <tr>\n",
              "      <th>1</th>\n",
              "      <td>бу</td>\n",
              "      <td>2288</td>\n",
              "      <td>1</td>\n",
              "      <td>18</td>\n",
              "      <td>155</td>\n",
              "      <td>690</td>\n",
              "      <td>281</td>\n",
              "      <td>187</td>\n",
              "      <td>106</td>\n",
              "      <td>181</td>\n",
              "      <td>...</td>\n",
              "      <td>1</td>\n",
              "      <td>1</td>\n",
              "      <td>0</td>\n",
              "      <td>1</td>\n",
              "      <td>1</td>\n",
              "      <td>0</td>\n",
              "      <td>0</td>\n",
              "      <td>0</td>\n",
              "      <td>0</td>\n",
              "      <td>0</td>\n",
              "    </tr>\n",
              "    <tr>\n",
              "      <th>2</th>\n",
              "      <td>бо</td>\n",
              "      <td>5462</td>\n",
              "      <td>2</td>\n",
              "      <td>207</td>\n",
              "      <td>343</td>\n",
              "      <td>929</td>\n",
              "      <td>1021</td>\n",
              "      <td>1073</td>\n",
              "      <td>566</td>\n",
              "      <td>392</td>\n",
              "      <td>...</td>\n",
              "      <td>3</td>\n",
              "      <td>4</td>\n",
              "      <td>2</td>\n",
              "      <td>1</td>\n",
              "      <td>0</td>\n",
              "      <td>1</td>\n",
              "      <td>0</td>\n",
              "      <td>0</td>\n",
              "      <td>0</td>\n",
              "      <td>0</td>\n",
              "    </tr>\n",
              "    <tr>\n",
              "      <th>3</th>\n",
              "      <td>бы</td>\n",
              "      <td>3384</td>\n",
              "      <td>0</td>\n",
              "      <td>3</td>\n",
              "      <td>1796</td>\n",
              "      <td>117</td>\n",
              "      <td>668</td>\n",
              "      <td>385</td>\n",
              "      <td>165</td>\n",
              "      <td>36</td>\n",
              "      <td>...</td>\n",
              "      <td>0</td>\n",
              "      <td>0</td>\n",
              "      <td>0</td>\n",
              "      <td>0</td>\n",
              "      <td>0</td>\n",
              "      <td>0</td>\n",
              "      <td>0</td>\n",
              "      <td>1</td>\n",
              "      <td>0</td>\n",
              "      <td>0</td>\n",
              "    </tr>\n",
              "    <tr>\n",
              "      <th>4</th>\n",
              "      <td>би</td>\n",
              "      <td>1947</td>\n",
              "      <td>0</td>\n",
              "      <td>17</td>\n",
              "      <td>101</td>\n",
              "      <td>261</td>\n",
              "      <td>312</td>\n",
              "      <td>484</td>\n",
              "      <td>394</td>\n",
              "      <td>182</td>\n",
              "      <td>...</td>\n",
              "      <td>1</td>\n",
              "      <td>0</td>\n",
              "      <td>1</td>\n",
              "      <td>1</td>\n",
              "      <td>0</td>\n",
              "      <td>0</td>\n",
              "      <td>0</td>\n",
              "      <td>0</td>\n",
              "      <td>0</td>\n",
              "      <td>0</td>\n",
              "    </tr>\n",
              "  </tbody>\n",
              "</table>\n",
              "<p>5 rows × 29 columns</p>\n",
              "</div>\n",
              "      <button class=\"colab-df-convert\" onclick=\"convertToInteractive('df-34b3959d-a0b0-4a65-bb77-85c5abe45818')\"\n",
              "              title=\"Convert this dataframe to an interactive table.\"\n",
              "              style=\"display:none;\">\n",
              "        \n",
              "  <svg xmlns=\"http://www.w3.org/2000/svg\" height=\"24px\"viewBox=\"0 0 24 24\"\n",
              "       width=\"24px\">\n",
              "    <path d=\"M0 0h24v24H0V0z\" fill=\"none\"/>\n",
              "    <path d=\"M18.56 5.44l.94 2.06.94-2.06 2.06-.94-2.06-.94-.94-2.06-.94 2.06-2.06.94zm-11 1L8.5 8.5l.94-2.06 2.06-.94-2.06-.94L8.5 2.5l-.94 2.06-2.06.94zm10 10l.94 2.06.94-2.06 2.06-.94-2.06-.94-.94-2.06-.94 2.06-2.06.94z\"/><path d=\"M17.41 7.96l-1.37-1.37c-.4-.4-.92-.59-1.43-.59-.52 0-1.04.2-1.43.59L10.3 9.45l-7.72 7.72c-.78.78-.78 2.05 0 2.83L4 21.41c.39.39.9.59 1.41.59.51 0 1.02-.2 1.41-.59l7.78-7.78 2.81-2.81c.8-.78.8-2.07 0-2.86zM5.41 20L4 18.59l7.72-7.72 1.47 1.35L5.41 20z\"/>\n",
              "  </svg>\n",
              "      </button>\n",
              "      \n",
              "  <style>\n",
              "    .colab-df-container {\n",
              "      display:flex;\n",
              "      flex-wrap:wrap;\n",
              "      gap: 12px;\n",
              "    }\n",
              "\n",
              "    .colab-df-convert {\n",
              "      background-color: #E8F0FE;\n",
              "      border: none;\n",
              "      border-radius: 50%;\n",
              "      cursor: pointer;\n",
              "      display: none;\n",
              "      fill: #1967D2;\n",
              "      height: 32px;\n",
              "      padding: 0 0 0 0;\n",
              "      width: 32px;\n",
              "    }\n",
              "\n",
              "    .colab-df-convert:hover {\n",
              "      background-color: #E2EBFA;\n",
              "      box-shadow: 0px 1px 2px rgba(60, 64, 67, 0.3), 0px 1px 3px 1px rgba(60, 64, 67, 0.15);\n",
              "      fill: #174EA6;\n",
              "    }\n",
              "\n",
              "    [theme=dark] .colab-df-convert {\n",
              "      background-color: #3B4455;\n",
              "      fill: #D2E3FC;\n",
              "    }\n",
              "\n",
              "    [theme=dark] .colab-df-convert:hover {\n",
              "      background-color: #434B5C;\n",
              "      box-shadow: 0px 1px 3px 1px rgba(0, 0, 0, 0.15);\n",
              "      filter: drop-shadow(0px 1px 2px rgba(0, 0, 0, 0.3));\n",
              "      fill: #FFFFFF;\n",
              "    }\n",
              "  </style>\n",
              "\n",
              "      <script>\n",
              "        const buttonEl =\n",
              "          document.querySelector('#df-34b3959d-a0b0-4a65-bb77-85c5abe45818 button.colab-df-convert');\n",
              "        buttonEl.style.display =\n",
              "          google.colab.kernel.accessAllowed ? 'block' : 'none';\n",
              "\n",
              "        async function convertToInteractive(key) {\n",
              "          const element = document.querySelector('#df-34b3959d-a0b0-4a65-bb77-85c5abe45818');\n",
              "          const dataTable =\n",
              "            await google.colab.kernel.invokeFunction('convertToInteractive',\n",
              "                                                     [key], {});\n",
              "          if (!dataTable) return;\n",
              "\n",
              "          const docLinkHtml = 'Like what you see? Visit the ' +\n",
              "            '<a target=\"_blank\" href=https://colab.research.google.com/notebooks/data_table.ipynb>data table notebook</a>'\n",
              "            + ' to learn more about interactive tables.';\n",
              "          element.innerHTML = '';\n",
              "          dataTable['output_type'] = 'display_data';\n",
              "          await google.colab.output.renderOutput(dataTable, element);\n",
              "          const docLink = document.createElement('div');\n",
              "          docLink.innerHTML = docLinkHtml;\n",
              "          element.appendChild(docLink);\n",
              "        }\n",
              "      </script>\n",
              "    </div>\n",
              "  </div>\n",
              "  "
            ]
          },
          "metadata": {},
          "execution_count": 26
        }
      ]
    },
    {
      "cell_type": "code",
      "source": [
        "df_slog_tolk.hist(column=\"Частота\") # Построение гистограммы"
      ],
      "metadata": {
        "id": "sWmQ2Buj9vOi",
        "colab": {
          "base_uri": "https://localhost:8080/",
          "height": 316
        },
        "outputId": "5ec74828-2ad8-4491-84c5-0d29371b0c83"
      },
      "execution_count": null,
      "outputs": [
        {
          "output_type": "execute_result",
          "data": {
            "text/plain": [
              "array([[<matplotlib.axes._subplots.AxesSubplot object at 0x7f34951b8f10>]],\n",
              "      dtype=object)"
            ]
          },
          "metadata": {},
          "execution_count": 20
        },
        {
          "output_type": "display_data",
          "data": {
            "text/plain": [
              "<Figure size 432x288 with 1 Axes>"
            ],
            "image/png": "[encoded data removed]"
          },
          "metadata": {
            "needs_background": "light"
          }
        }
      ]
    },
    {
      "cell_type": "code",
      "source": [
        "df_slog.to_csv('slog.csv')\n",
        "df_slog_tolk.to_csv('slog_tolk.csv')"
      ],
      "metadata": {
        "id": "pY9u-e-g9vSD"
      },
      "execution_count": 27,
      "outputs": []
    },
    {
      "cell_type": "code",
      "source": [
        ""
      ],
      "metadata": {
        "id": "Gy3FLbdstyaL"
      },
      "execution_count": null,
      "outputs": []
    },
    {
      "cell_type": "code",
      "source": [
        ""
      ],
      "metadata": {
        "id": "RrYPD0N_tyco"
      },
      "execution_count": null,
      "outputs": []
    },
    {
      "cell_type": "markdown",
      "source": [
        "***ЧЕРНОВИК***"
      ],
      "metadata": {
        "id": "3iKnTt3Nl2qV"
      }
    },
    {
      "cell_type": "code",
      "source": [
        ""
      ],
      "metadata": {
        "id": "sZiPd6mVXhg5"
      },
      "execution_count": null,
      "outputs": []
    },
    {
      "cell_type": "code",
      "source": [
        ""
      ],
      "metadata": {
        "id": "DOlJpuPqXhjk"
      },
      "execution_count": null,
      "outputs": []
    }
  ]
}