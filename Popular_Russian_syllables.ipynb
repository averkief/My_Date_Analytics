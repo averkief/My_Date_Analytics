{
  "nbformat": 4,
  "nbformat_minor": 0,
  "metadata": {
    "colab": {
      "name": "Popular Russian syllables.ipynb",
      "provenance": [],
      "collapsed_sections": [
        "PaYnm71fkVT4",
        "u11zuKdCj8Hk",
        "2ETLc-8rBnV1"
      ],
      "authorship_tag": "ABX9TyPVFBq+d20S8adi1NLOOnOW",
      "include_colab_link": true
    },
    "kernelspec": {
      "name": "python3",
      "display_name": "Python 3"
    },
    "language_info": {
      "name": "python"
    }
  },
  "cells": [
    {
      "cell_type": "markdown",
      "metadata": {
        "id": "view-in-github",
        "colab_type": "text"
      },
      "source": [
        "<a href=\"https://colab.research.google.com/github/averkief/My_Date_Analytics/blob/main/Popular_Russian_syllables.ipynb\" target=\"_parent\"><img src=\"https://colab.research.google.com/assets/colab-badge.svg\" alt=\"Open In Colab\"/></a>"
      ]
    },
    {
      "cell_type": "markdown",
      "source": [
        "***Предисловие***<br>\n",
        "Когда мой сын подрастал и начинал познавать мир, то дошло дело и до чтения.\n",
        "Современные методики рекомендуют учить детей не буквам, а слогам. Указывая на то, что так будет проще научиться читать.<br>\n",
        "И так в русском языке 10 гласных букв и 20 согласных. Отбросив соединения согласных с гласными которые не соответсвуют правилам русского языка, получаем 158 правильных слогов.<br>\n",
        "И тут у меня возник вопрос, а какие слоги самые популярные, какие лучше выучить первыми???\n"
      ],
      "metadata": {
        "id": "xq_XW8vjhvys"
      }
    },
    {
      "cell_type": "markdown",
      "source": [
        "**Последовательность действий**<br>\n",
        "*Этап 1: Находжение источника*<br>\n",
        "Выбор книги выпал на \"Война и Мир\" Л.Н.Толстова, как самая большая по объему. Текст книги есть в интернете. Требуется спарсить текст с сайта<br>\n",
        "*Этап 2: Обработка сырых данных* <br>\n",
        "Разбиваем текст на слова и извлекаем пунктуацию, предлоги, местоимения слова не относящиеся к словам со слогами<br>\n",
        "*Этап 3: Внесение данных для нахождения слогов* <br>\n",
        "Подготовка искомых слогов и счетчиков подсчета<br>\n",
        "*Этап 4: Обработка полезных данных* <br>\n",
        "Обрабатываем каждое слово<br>\n",
        "*Этап 5: Вывод* <br>\n",
        "Получение информации: количественное значиени, графики<br>"
      ],
      "metadata": {
        "id": "s0el7uFrQZGf"
      }
    },
    {
      "cell_type": "markdown",
      "source": [
        "**С какими затруднениями пришлось столкнуться**<br>\n",
        "**Загвозка 1:**<br> Изучив код источника, обнаружили, что есть дублирующиеся ссылки, как например \"ТОМ ПЕРВЫЙ\", \"Часть первая\", \"I\" имеют одну сслыку. Если дубли чистить методом set (множеством), то теряется порядок страниц, и их невозможно потом отсортировать, так как порядок идет по возрастанию левых симолов, таких как 1, 10, 100. Т.е. вторая страница будет только после всех сотых.<br>\n",
        "*Решение:* Дополнить проверкой функции которая сравнивает с предидущим индексом.<br>\n",
        "\n",
        "**Загвозка 2:**<br>\n",
        "*Решение:*<br>\n",
        "**Загвозка 3:**<br>\n",
        "*Решение:*<br>\n",
        "**Загвозка 4:**<br>\n",
        "*Решение:*<br>\n",
        "**Загвозка 5:**<br>\n",
        "*Решение:*<br>\n",
        "**Загвозка 6:**<br>\n",
        "*Решение:*<br>\n",
        "**Загвозка 7:**<br>\n",
        "*Решение:*<br>\n",
        "**Загвозка 8:**<br>\n",
        "*Решение:*<br>\n",
        "**Загвозка 9:**<br>\n",
        "*Решение:*<br>"
      ],
      "metadata": {
        "id": "PYs6iq-Xj5fR"
      }
    },
    {
      "cell_type": "markdown",
      "source": [
        "### Подключение библиотек и глобальных переменных"
      ],
      "metadata": {
        "id": "PaYnm71fkVT4"
      }
    },
    {
      "cell_type": "code",
      "source": [
        "import requests # Бибилиотека запросов к web-сервисам\n",
        "from bs4 import BeautifulSoup as bs # Библиотека парсинга web-страниц\n",
        "import pandas as pd # Библиотека для работы с таблицами\n",
        "\n",
        "# Для обработки текста\n",
        "import nltk # Библиотека для работы с текстом\n",
        "from nltk.tokenize import word_tokenize # , sent_tokenize токенайзер - разбивает непрерывный текст на токены(слова). word_tokenize - для разделения слов на токены. sent_tokenize - для разделения предложений на токены \n",
        "#from nltk.stem.snowball import SnowballStemmer # стеммер - преобразует тексты к начальной форме\n",
        "#from nltk.corpus import stopwords # список незначимых слов - я, ты, он, она, там и тд !!! Много лишнего и занчимого\n",
        "#nltk.download('all')\n",
        "nltk.download('punkt')\n",
        "#nltk.download('stopwords')\n",
        "\n",
        "import string # используем для получения знаков пунктуации"
      ],
      "metadata": {
        "id": "LnY5m4DJkKWz",
        "colab": {
          "base_uri": "https://localhost:8080/"
        },
        "outputId": "ce5319ca-c0c1-4880-8d69-1d39b2da9511"
      },
      "execution_count": 1,
      "outputs": [
        {
          "output_type": "stream",
          "name": "stderr",
          "text": [
            "[nltk_data] Downloading package punkt to /root/nltk_data...\n",
            "[nltk_data]   Unzipping tokenizers/punkt.zip.\n"
          ]
        }
      ]
    },
    {
      "cell_type": "code",
      "source": [
        "# Глобальные переменные\n",
        "URL = 'https://ilibrary.ru' # + index.html - Страница оглавления книг \"Война и Мир\"\n",
        "URL_CHAPTER  = '/text/11/index.html' # страница оглавления\n",
        "URL_ENDINGS = [] # Список url страниц книги\n",
        "TEXT_BOOK = '' # Обработанный текст для анализа слогов в виде списка"
      ],
      "metadata": {
        "id": "S_edf-CqjouU"
      },
      "execution_count": 4,
      "outputs": []
    },
    {
      "cell_type": "markdown",
      "source": [
        "### Этап 1: Находжение источника"
      ],
      "metadata": {
        "id": "u11zuKdCj8Hk"
      }
    },
    {
      "cell_type": "code",
      "source": [
        "# Подключение к странице оглавления\n",
        "connect_url = requests.get(URL + URL_CHAPTER)\n",
        "if connect_url.status_code == 200:\n",
        "  text_on_page = connect_url.text\n",
        "else:\n",
        "  print('СТРАНИЦА НЕ ДОСТУПНА')"
      ],
      "metadata": {
        "id": "ayycZLYcQYkn"
      },
      "execution_count": 6,
      "outputs": []
    },
    {
      "cell_type": "code",
      "source": [
        "# Функция проверка существующей ссылки\n",
        "def check_href(href_url):\n",
        "  ''' Проверка значение с пердидущим значением списка'''\n",
        "  global URL_ENDINGS\n",
        "\n",
        "  if len(URL_ENDINGS) < 1:\n",
        "    URL_ENDINGS.append(href_url)\n",
        "  else:\n",
        "    if href_url != URL_ENDINGS[-1]:\n",
        "      URL_ENDINGS.append(href_url)"
      ],
      "metadata": {
        "id": "KOoLKBQssy7a"
      },
      "execution_count": 7,
      "outputs": []
    },
    {
      "cell_type": "code",
      "source": [
        "# Получение всех страниц книги\n",
        "chapter_page = bs(text_on_page, 'html.parser')\n",
        "href_to_url = chapter_page.find_all('p')\n",
        "for href_one in href_to_url:\n",
        "  check_href(href_one.a['href'])\n",
        "\n",
        "# Проверка количества страниц в списке, должно быть 361\n",
        "print(len(URL_ENDINGS))"
      ],
      "metadata": {
        "colab": {
          "base_uri": "https://localhost:8080/"
        },
        "id": "OKCN7QJLQWUI",
        "outputId": "78f2ace9-98e1-496f-9638-cc7f65e54aad"
      },
      "execution_count": 8,
      "outputs": [
        {
          "output_type": "stream",
          "name": "stdout",
          "text": [
            "361\n"
          ]
        }
      ]
    },
    {
      "cell_type": "markdown",
      "source": [
        "### Этап 2: Обработка сырых данных"
      ],
      "metadata": {
        "id": "2ETLc-8rBnV1"
      }
    },
    {
      "cell_type": "code",
      "source": [
        "# Списки пунктуации и стоп-слов (предлоги, местоимения и т.п.)\n",
        "my_stop_punct = list(string.punctuation)\n",
        "my_stop_punct = my_stop_punct + ['—'] + ['..'] + ['...'] + ['«'] + ['»']\n",
        "my_stop_words = ['и', 'в', 'во', 'не', 'что', 'он', 'на', 'я', 'с', 'со', 'как', 'а', 'то', 'все', 'она', 'так', 'его', 'но', 'да', 'ты', 'к', 'у', 'же', 'вы', 'за', 'бы', 'по', 'ее', 'мне', 'от', 'меня', 'еще', 'нет', 'о', 'из', 'ему', 'ну', 'ли', 'уже', 'или', 'ни', 'него', 'до', 'вас', 'нибудь', 'уж', 'вам', 'там', 'ей', 'они', 'тут', 'где', 'есть', 'ней', 'для', 'мы', 'тебя', 'их', 'чем', 'сам', 'чтоб', 'без', 'будто', 'чего', 'тоже', 'себе', 'под', 'ж', 'кто', 'этот', 'того', 'потому', 'этого', 'какой', 'ним', 'этом', 'мой', 'тем', 'чтобы', 'нее', 'куда', 'зачем', 'всех', 'при', 'об', 'хоть', 'после', 'над', 'тот', 'эти', 'нас', 'про', 'них', 'какая', 'разве', 'эту', 'моя', 'свою', 'этой', 'чуть', 'том', 'такой', 'им', 'более', 'всю', 'это']"
      ],
      "metadata": {
        "id": "SR1IRVJ2Nea1"
      },
      "execution_count": 9,
      "outputs": []
    },
    {
      "cell_type": "code",
      "source": [
        "# Временное решение, чтоб не парсить 361 страницу сразу\n",
        "URL_ENDINGS = URL_ENDINGS[:2]\n",
        "print(len(URL_ENDINGS))"
      ],
      "metadata": {
        "colab": {
          "base_uri": "https://localhost:8080/"
        },
        "id": "NrxFrKo9r7_s",
        "outputId": "bc461dd8-55df-4247-df61-a9a3fc1a019a"
      },
      "execution_count": 10,
      "outputs": [
        {
          "output_type": "stream",
          "name": "stdout",
          "text": [
            "2\n"
          ]
        }
      ]
    },
    {
      "cell_type": "code",
      "source": [
        "# Функция обработки текста\n",
        "def text_processing(text, punkt, swort):\n",
        "  ''' Принимает сырой текст, фильтрует его от знаков пунктуации, стоп-слов и переводит в нижний регистр'''\n",
        "  \n",
        "  words = word_tokenize(text.lower()) # Разбмваем на список слов (токены)\n",
        "  words = [word for word in words if word not in punkt] # Удаляем знаки пунктуации\n",
        "  words = [word for word in words if word not in swort] # Удаляем стопслова\n",
        "\n",
        "  all_words = ' '.join(words)\n",
        "  return all_words"
      ],
      "metadata": {
        "id": "hdt4ZsLi1fdN"
      },
      "execution_count": 11,
      "outputs": []
    },
    {
      "cell_type": "code",
      "source": [
        "%%time\n",
        "# Получение текта книги с каждой страницы\n",
        "for URL_ENDING in URL_ENDINGS:\n",
        "  print(URL + URL_ENDING)\n",
        "  connect_url_page = requests.get(URL + URL_ENDING)\n",
        "  if connect_url_page.status_code == 200:\n",
        "    text_page = connect_url_page.text\n",
        "\n",
        "    one_page = bs(text_page, 'html.parser')\n",
        "    text_in_url = one_page.find_all('span', class_='p')\n",
        "    for text_one in text_in_url:\n",
        "      TEXT_BOOK = TEXT_BOOK + text_processing(text_one.text, my_stop_punct, my_stop_words) + ' ' # Текст в функцию передается построчно до красной строки\n",
        "      \n",
        "  \n",
        "  else:\n",
        "    print('ALARM!!!STOP')\n"
      ],
      "metadata": {
        "id": "KwyGvmi9y0JV",
        "colab": {
          "base_uri": "https://localhost:8080/"
        },
        "outputId": "32516ade-9b92-44ba-8c13-d0a58ca2ee78"
      },
      "execution_count": 12,
      "outputs": [
        {
          "output_type": "stream",
          "name": "stdout",
          "text": [
            "https://ilibrary.ru/text/11/p.1/index.html\n",
            "https://ilibrary.ru/text/11/p.2/index.html\n",
            "CPU times: user 186 ms, sys: 11.9 ms, total: 198 ms\n",
            "Wall time: 2.78 s\n"
          ]
        }
      ]
    },
    {
      "cell_type": "markdown",
      "source": [
        "####ТЕСТИРОВАНИЕ ВЫБОРКИ СЛОВ НАЧАТЬ ОТ СЮДА, ЧТОБ НЕ ГРУЗИТЬ ВСЕ ВРЕМЯ С САЙТА"
      ],
      "metadata": {
        "id": "sJFNouIw9OcR"
      }
    },
    {
      "cell_type": "code",
      "source": [
        "#TEXT_BOOK_SRT = \"лев толстой eh bien mon prince gênes et lucques ne sont plus que des apanages des поместья de la famille buonaparte non je vous préviens que si vous ne me dites pas que nous avons la guerre si vous vous permettez encore de pallier toutes les infamies toutes les atrocités de cet antichrist ma parole j y crois je ne vous connais plus vous n'êtes plus mon ami vous n'êtes plus верный раб comme vous dites 1. здравствуйте здравствуйте je vois que je vous fais peur 2 садитесь рассказывайте говорила июле 1805 года известная анна павловна шерер фрейлина приближенная императрицы марии феодоровны встречая важного чиновного князя василия первого приехавшего вечер анна павловна кашляла несколько дней был грипп говорила грипп был тогда новое слово употреблявшееся только редкими записочках разосланных утром красным лакеем было написано различия « si vous n'avez rien de mieux à faire monsieur le comte mon prince et si la perspective de passer la soirée chez une pauvre malade ne vous effraye pas trop je serai charmée de vous voir chez moi entre 7 et 10 heures annette scherer » 3 dieu quelle virulente sortie 4 отвечал нисколько смутясь такою встречей вошедший князь придворном шитом мундире чулках башмаках звездах светлым выражением плоского лица говорил изысканном французском языке котором только говорили думали наши деды теми тихими покровительственными интонациями которые свойственны состаревшемуся свете дворе значительному человеку подошел анне павловне поцеловал руку подставив надушенную сияющую лысину покойно уселся диване avant tout dites-moi comment vous allez chère amie 5 успокойте сказал изменяя голоса тоном котором из-за приличия участия просвечивало равнодушие даже насмешка можно быть здоровой когда нравственно страдаешь можно имея чувство оставаться спокойною наше время сказала анна павловна весь вечер надеюсь праздник английского посланника нынче середа надо показаться сказал князь дочь заедет мной повезет думала нынешний праздник отменен je vous avoue que toutes ces fêtes et tous ces feux d'artifice commencent à devenir insipides 6 ежели знали хотите праздник отменили сказал князь привычке заведенные часы говоря вещи которым хотел верили ne me tourmentez pas eh bien qu a-t-on décidé par rapport à la dépêche de novosilzoff vous savez tout 7 сказать сказал князь холодным скучающим тоном qu a-t-on décidé on a décidé que buonaparte a brûlé ses vaisseaux et je crois que nous sommes en train de brûler les nôtres 8 князь василий говорил всегда лениво актер говорит роль старой пиесы анна павловна шерер напротив несмотря свои сорок лет была преисполнена оживления порывов быть энтузиасткой сделалось общественным положением иногда когда даже хотелось обмануть ожиданий людей знавших делалась энтузиасткой сдержанная улыбка игравшая постоянно лице анны павловны хотя шла отжившим чертам выражала избалованных детей постоянное сознание своего милого недостатка которого хочет может находит нужным исправляться середине разговора политические действия анна павловна разгорячилась ах говорите австрию ничего понимаю может быть австрия никогда хотела хочет войны предает россия одна должна быть спасительницей европы наш благодетель знает свое высокое призвание будет верен вот одно верю нашему доброму чудному государю предстоит величайшая роль мире добродетелен хорош бог оставит исполнит свое призвание задавить гидру революции которая теперь ужаснее лице убийцы злодея одни должны искупить кровь праведника кого нам надеяться спрашиваю англия своим коммерческим духом поймет может понять высоту души императора александра отказалась очистить мальту хочет видеть ищет заднюю мысль наших действий сказали новосильцеву ничего поняли могли понять самоотвержения нашего императора который ничего хочет себя хочет блага мира обещали ничего обещали будет пруссия объявила бонапарте непобедим вся европа ничего может против верю одном слове гарденбергу гаугвицу cette fameuse neutralité prussienne ce n'est qu'un piège 9. верю одного бога высокую судьбу нашего милого императора спасет европу вдруг остановилась улыбкой насмешки своею горячностью думаю сказал князь улыбаясь ежели послали вместо нашего милого винценгероде взяли приступом согласие прусского короля красноречивы дадите чаю сейчас a propos прибавила опять успокоиваясь нынче два очень интересные человека le vicomte de mortemart il est allié aux montmorency par les rohans 10 одна лучших фамилий франции один хороших эмигрантов настоящих потом l'abbé morio 11 знаете глубокий ум был принят государем знаете очень рад буду сказал князь скажите прибавил только вспомнив что-то особенно-небрежно тогда спрашивал было главной целью посещения правда l'impératrice-mère 12 желает назначения барона функе первым секретарем вену c'est un pauvre sire ce baron à ce qu'il paraît 13 князь\"\n",
        "TEXT_BOOK_SRT = \"одна лучших фамилий франции глубокий ум был принят государем знаете очень рад буду сказал князь скажите прибавил только вспомнив тогда спрашивал было главной\""
      ],
      "metadata": {
        "id": "_F9DivQAy0L3"
      },
      "execution_count": 30,
      "outputs": []
    },
    {
      "cell_type": "code",
      "source": [
        "len(TEXT_BOOK_SRT.split(' '))"
      ],
      "metadata": {
        "colab": {
          "base_uri": "https://localhost:8080/"
        },
        "id": "TRISLcifVlPo",
        "outputId": "95b6af93-b5ff-4769-c2bc-3889ff1c23ee"
      },
      "execution_count": 44,
      "outputs": [
        {
          "output_type": "execute_result",
          "data": {
            "text/plain": [
              "23"
            ]
          },
          "metadata": {},
          "execution_count": 44
        }
      ]
    },
    {
      "cell_type": "markdown",
      "source": [
        "###Этап 3: Внесение данных для нахождения слогов"
      ],
      "metadata": {
        "id": "aF62u9yP653J"
      }
    },
    {
      "cell_type": "code",
      "source": [
        "vowels = 'ауоыиэяюёе' # гласные буквы\n",
        "consonants = 'бвгджзклмнпрстфхцчшщ' # согласные буквы\n",
        "TOTAL_SLOG = [] # будем создавать список с вложеным списком слогов, для подсчета совпадений и длин слов"
      ],
      "metadata": {
        "id": "g1NX51A064wJ"
      },
      "execution_count": 88,
      "outputs": []
    },
    {
      "cell_type": "code",
      "source": [
        "# Получим возможные слоги\n",
        "for consonant in consonants:\n",
        "  for vowel in vowels:\n",
        "    TOTAL_SLOG.append([consonant + vowel])"
      ],
      "metadata": {
        "id": "V55u0Zk787lb"
      },
      "execution_count": 89,
      "outputs": []
    },
    {
      "cell_type": "code",
      "source": [
        "len(TOTAL_SLOG)"
      ],
      "metadata": {
        "colab": {
          "base_uri": "https://localhost:8080/"
        },
        "id": "Xxtgiq0zPBgQ",
        "outputId": "407d9ccd-1555-4ecd-e78f-98019439ff57"
      },
      "execution_count": 90,
      "outputs": [
        {
          "output_type": "execute_result",
          "data": {
            "text/plain": [
              "200"
            ]
          },
          "metadata": {},
          "execution_count": 90
        }
      ]
    },
    {
      "cell_type": "markdown",
      "source": [
        "###Этап 4: Обработка полезных данных"
      ],
      "metadata": {
        "id": "Vg4FOGU-7dVi"
      }
    },
    {
      "cell_type": "code",
      "source": [
        "def word_processing(index_word, word_word, len_word):\n",
        "  ''' Функция поиска слогов в слове'''\n",
        "\n",
        "  global vowels, consonants, TOTAL_SLOG\n",
        "\n",
        "  for index_letter in range(1, len(word_word)):\n",
        "    if word_word[index_letter] in vowels and word_word[index_letter - 1] in consonants:\n",
        "      print('Слог: ' + word_word[index_letter - 1] + word_word[index_letter])"
      ],
      "metadata": {
        "id": "_JJ9OyaLQJBQ"
      },
      "execution_count": 93,
      "outputs": []
    },
    {
      "cell_type": "code",
      "source": [
        "%%time\n",
        "index_list = 0\n",
        "for word_from_book in TEXT_BOOK_SRT.split(' '):\n",
        "  word_processing(index_list, word_from_book, len(word_from_book))\n",
        "  index_list += 1\n",
        "  "
      ],
      "metadata": {
        "id": "hVy_sd9-y0SY",
        "colab": {
          "base_uri": "https://localhost:8080/"
        },
        "outputId": "0252f010-2070-48cb-b394-a96b4df3e699"
      },
      "execution_count": 94,
      "outputs": [
        {
          "output_type": "stream",
          "name": "stdout",
          "text": [
            "Слог: на\n",
            "Слог: лу\n",
            "Слог: ши\n",
            "Слог: фа\n",
            "Слог: ми\n",
            "Слог: ли\n",
            "Слог: ра\n",
            "Слог: ци\n",
            "Слог: лу\n",
            "Слог: бо\n",
            "Слог: ки\n",
            "Слог: бы\n",
            "Слог: ри\n",
            "Слог: ня\n",
            "Слог: го\n",
            "Слог: су\n",
            "Слог: да\n",
            "Слог: ре\n",
            "Слог: на\n",
            "Слог: те\n",
            "Слог: че\n",
            "Слог: ра\n",
            "Слог: бу\n",
            "Слог: ду\n",
            "Слог: ка\n",
            "Слог: за\n",
            "Слог: ня\n",
            "Слог: ка\n",
            "Слог: жи\n",
            "Слог: те\n",
            "Слог: ри\n",
            "Слог: ба\n",
            "Слог: ви\n",
            "Слог: то\n",
            "Слог: ко\n",
            "Слог: по\n",
            "Слог: ни\n",
            "Слог: то\n",
            "Слог: да\n",
            "Слог: ра\n",
            "Слог: ши\n",
            "Слог: ва\n",
            "Слог: бы\n",
            "Слог: ло\n",
            "Слог: ла\n",
            "Слог: но\n",
            "CPU times: user 8.57 ms, sys: 0 ns, total: 8.57 ms\n",
            "Wall time: 10.6 ms\n"
          ]
        }
      ]
    },
    {
      "cell_type": "markdown",
      "source": [
        "***ЧЕРНОВИК***"
      ],
      "metadata": {
        "id": "3iKnTt3Nl2qV"
      }
    },
    {
      "cell_type": "code",
      "source": [
        ""
      ],
      "metadata": {
        "id": "3Q1KuRjWQXyv"
      },
      "execution_count": null,
      "outputs": []
    },
    {
      "cell_type": "code",
      "source": [
        ""
      ],
      "metadata": {
        "id": "8lN204ttQX4G"
      },
      "execution_count": null,
      "outputs": []
    },
    {
      "cell_type": "code",
      "source": [
        "a = 'Прив я тект.'"
      ],
      "metadata": {
        "id": "zq-1Fa78QX6w"
      },
      "execution_count": 1,
      "outputs": []
    },
    {
      "cell_type": "code",
      "source": [
        "print(a)"
      ],
      "metadata": {
        "colab": {
          "base_uri": "https://localhost:8080/"
        },
        "id": "Yq4lBQ2QNJM9",
        "outputId": "e667c5bb-4928-4c20-a2a2-641311578abd"
      },
      "execution_count": 2,
      "outputs": [
        {
          "output_type": "stream",
          "name": "stdout",
          "text": [
            "Прив я тект.\n"
          ]
        }
      ]
    },
    {
      "cell_type": "code",
      "source": [
        "a += a"
      ],
      "metadata": {
        "id": "TlB4ZJenQX8_"
      },
      "execution_count": 4,
      "outputs": []
    },
    {
      "cell_type": "code",
      "source": [
        "print(a)"
      ],
      "metadata": {
        "id": "j8ygxANLQX_R",
        "colab": {
          "base_uri": "https://localhost:8080/"
        },
        "outputId": "6cf592b5-4d13-47eb-b253-ca3264fd77d0"
      },
      "execution_count": 5,
      "outputs": [
        {
          "output_type": "stream",
          "name": "stdout",
          "text": [
            "Прив я тект.Прив я тект.\n"
          ]
        }
      ]
    }
  ]
}