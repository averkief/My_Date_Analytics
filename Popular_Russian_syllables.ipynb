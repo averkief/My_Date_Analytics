{
  "nbformat": 4,
  "nbformat_minor": 0,
  "metadata": {
    "colab": {
      "name": "Popular Russian syllables.ipynb",
      "provenance": [],
      "collapsed_sections": [],
      "authorship_tag": "ABX9TyNGdbZZLL1mTiUjk6cL1jAk",
      "include_colab_link": true
    },
    "kernelspec": {
      "name": "python3",
      "display_name": "Python 3"
    },
    "language_info": {
      "name": "python"
    }
  },
  "cells": [
    {
      "cell_type": "markdown",
      "metadata": {
        "id": "view-in-github",
        "colab_type": "text"
      },
      "source": [
        "<a href=\"https://colab.research.google.com/github/averkief/My_Date_Analytics/blob/main/Popular_Russian_syllables.ipynb\" target=\"_parent\"><img src=\"https://colab.research.google.com/assets/colab-badge.svg\" alt=\"Open In Colab\"/></a>"
      ]
    },
    {
      "cell_type": "markdown",
      "source": [
        "***Предисловие***<br>\n",
        "Когда мой сын подрастал и начинал познавать мир, то дошло дело и до чтения.\n",
        "Современные методики рекомендуют учить детей не буквам, а слогам. Указывая на то, что так будет проще научиться читать.<br>\n",
        "И так в русском языке 10 гласных букв и 20 согласных. Отбросив соединения согласных с гласными которые не соответсвуют правилам русского языка, получаем 158 правильных слогов.<br>\n",
        "И тут у меня возник вопрос, а какие слоги самые популярные, какие лучше выучить первыми???<br><br>\n",
        "ИТАК ЗАДАЧА: Какой слог встречается чаще всего? И бонусом, какая длина чаще всего у этих слов?"
      ],
      "metadata": {
        "id": "xq_XW8vjhvys"
      }
    },
    {
      "cell_type": "markdown",
      "source": [
        "**Последовательность действий**<br>\n",
        "*Этап 1: Находжение источника*<br>\n",
        "Выбор книги выпал на \"Война и Мир\" Л.Н.Толстова, как самая большая по объему. Текст книги есть в интернете. Требуется спарсить текст с сайта<br>\n",
        "*Этап 2: Обработка сырых данных* <br>\n",
        "Разбиваем текст на слова и извлекаем пунктуацию, предлоги, местоимения слова не относящиеся к словам со слогами<br>\n",
        "*Этап 3: Внесение данных для нахождения слогов* <br>\n",
        "Подготовка искомых слогов и счетчиков подсчета<br>\n",
        "*Этап 4: Обработка полезных данных* <br>\n",
        "Обрабатываем каждое слово<br>\n",
        "*Этап 5: Вывод* <br>\n",
        "Получение информации: количественное значиени, графики<br>"
      ],
      "metadata": {
        "id": "s0el7uFrQZGf"
      }
    },
    {
      "cell_type": "markdown",
      "source": [
        "**С какими затруднениями пришлось столкнуться**<br>\n",
        "**Загвозка 1:** Изучив код источника, обнаружили, что есть дублирующиеся ссылки, как например \"ТОМ ПЕРВЫЙ\", \"Часть первая\", \"I\" имеют одну сслыку. Если дубли чистить методом set (множеством), то теряется порядок страниц, и их невозможно потом отсортировать, так как порядок идет по возрастанию левых симолов, таких как 1, 10, 100. Т.е. вторая страница будет только после всех сотых.<br>\n",
        "*Решение:* Дополнить проверкой функции которая сравнивает с предидущим индексом.<br>\n",
        "\n",
        "**Загвозка 2:** Находить индекс первого уровня списка по значению хранящимся во втором уровне давольно затруднительно. Для учета частоты слогов. <br> \n",
        "*Решение:* Перевел список в DataFrame. <br> \n",
        "**Загвозка 3:** По доп.задачке возникли трудности с добавлением данных в строку в новых колонках<br>\n",
        "*Решение:*Вернулся к списку, а формирование DF будет в конце когда духуровевый список будет готов. Нужно решить загвозку №2<br>\n",
        "**Загвозка 4:**<br>\n",
        "*Решение:*<br>\n",
        "**Загвозка 5:**<br>\n",
        "*Решение:*<br>\n",
        "**Загвозка 6:**<br>\n",
        "*Решение:*<br>\n",
        "**Загвозка 7:**<br>\n",
        "*Решение:*<br>\n",
        "**Загвозка 8:**<br>\n",
        "*Решение:*<br>\n",
        "**Загвозка 9:**<br>\n",
        "*Решение:*<br>"
      ],
      "metadata": {
        "id": "PYs6iq-Xj5fR"
      }
    },
    {
      "cell_type": "markdown",
      "source": [
        "### Подключение библиотек и глобальных переменных"
      ],
      "metadata": {
        "id": "PaYnm71fkVT4"
      }
    },
    {
      "cell_type": "code",
      "source": [
        "import requests # Бибилиотека запросов к web-сервисам\n",
        "from bs4 import BeautifulSoup as bs # Библиотека парсинга web-страниц\n",
        "import pandas as pd # Библиотека для работы с таблицами\n",
        "import numpy as np\n",
        "\n",
        "# Для обработки текста\n",
        "import nltk # Библиотека для работы с текстом\n",
        "from nltk.tokenize import word_tokenize # токенайзер - разбивает непрерывный текст на токены(слова). word_tokenize - для разделения слов на токены.\n",
        "#nltk.download('all')\n",
        "nltk.download('punkt')\n",
        "#nltk.download('stopwords')\n",
        "\n",
        "import string # используем для получения знаков пунктуации"
      ],
      "metadata": {
        "id": "LnY5m4DJkKWz"
      },
      "execution_count": null,
      "outputs": []
    },
    {
      "cell_type": "code",
      "source": [
        "# Глобальные переменные\n",
        "URL = 'https://ilibrary.ru' # + index.html - Страница оглавления книг \"Война и Мир\"\n",
        "URL_CHAPTER  = '/text/11/index.html' # страница оглавления\n",
        "URL_ENDINGS = [] # Список url страниц книги\n",
        "TEXT_BOOK = '' # Обработанный текст для анализа слогов в виде списка"
      ],
      "metadata": {
        "id": "S_edf-CqjouU"
      },
      "execution_count": null,
      "outputs": []
    },
    {
      "cell_type": "markdown",
      "source": [
        "### Этап 1: Находжение источника"
      ],
      "metadata": {
        "id": "u11zuKdCj8Hk"
      }
    },
    {
      "cell_type": "code",
      "source": [
        "# Подключение к странице оглавления\n",
        "connect_url = requests.get(URL + URL_CHAPTER)\n",
        "if connect_url.status_code == 200:\n",
        "  text_on_page = connect_url.text\n",
        "else:\n",
        "  print('СТРАНИЦА НЕ ДОСТУПНА')"
      ],
      "metadata": {
        "id": "ayycZLYcQYkn"
      },
      "execution_count": null,
      "outputs": []
    },
    {
      "cell_type": "code",
      "source": [
        "# Функция проверка существующей ссылки\n",
        "def check_href(href_url):\n",
        "  ''' Проверка значение с пердидущим значением списка'''\n",
        "  global URL_ENDINGS\n",
        "\n",
        "  if len(URL_ENDINGS) < 1:\n",
        "    URL_ENDINGS.append(href_url)\n",
        "  else:\n",
        "    if href_url != URL_ENDINGS[-1]:\n",
        "      URL_ENDINGS.append(href_url)"
      ],
      "metadata": {
        "id": "KOoLKBQssy7a"
      },
      "execution_count": null,
      "outputs": []
    },
    {
      "cell_type": "code",
      "source": [
        "# Получение всех страниц книги\n",
        "chapter_page = bs(text_on_page, 'html.parser')\n",
        "href_to_url = chapter_page.find_all('p')\n",
        "for href_one in href_to_url:\n",
        "  check_href(href_one.a['href'])\n",
        "\n",
        "# Проверка количества страниц в списке, должно быть 361\n",
        "print(len(URL_ENDINGS))"
      ],
      "metadata": {
        "id": "OKCN7QJLQWUI"
      },
      "execution_count": null,
      "outputs": []
    },
    {
      "cell_type": "markdown",
      "source": [
        "### Этап 2: Обработка сырых данных"
      ],
      "metadata": {
        "id": "2ETLc-8rBnV1"
      }
    },
    {
      "cell_type": "code",
      "source": [
        "# Списки пунктуации и стоп-слов (предлоги, местоимения и т.п.)\n",
        "my_stop_punct = list(string.punctuation)\n",
        "my_stop_punct = my_stop_punct + ['—'] + ['..'] + ['...'] + ['«'] + ['»']\n",
        "my_stop_words = ['и', 'в', 'во', 'не', 'что', 'он', 'на', 'я', 'с', 'со', 'как', 'а', 'то', 'все', 'она', 'так', 'его', 'но', 'да', 'ты', 'к', 'у', 'же', 'вы', 'за', 'бы', 'по', 'ее', 'мне', 'от', 'меня', 'еще', 'нет', 'о', 'из', 'ему', 'ну', 'ли', 'уже', 'или', 'ни', 'него', 'до', 'вас', 'нибудь', 'уж', 'вам', 'там', 'ей', 'они', 'тут', 'где', 'есть', 'ней', 'для', 'мы', 'тебя', 'их', 'чем', 'сам', 'чтоб', 'без', 'будто', 'чего', 'тоже', 'себе', 'под', 'ж', 'кто', 'этот', 'того', 'потому', 'этого', 'какой', 'ним', 'этом', 'мой', 'тем', 'чтобы', 'нее', 'куда', 'зачем', 'всех', 'при', 'об', 'хоть', 'после', 'над', 'тот', 'эти', 'нас', 'про', 'них', 'какая', 'разве', 'эту', 'моя', 'свою', 'этой', 'чуть', 'том', 'такой', 'им', 'более', 'всю', 'это']"
      ],
      "metadata": {
        "id": "SR1IRVJ2Nea1"
      },
      "execution_count": null,
      "outputs": []
    },
    {
      "cell_type": "code",
      "source": [
        "# Временное решение, чтоб не парсить 361 страницу сразу\n",
        "URL_ENDINGS = URL_ENDINGS[:2]\n",
        "print(len(URL_ENDINGS))"
      ],
      "metadata": {
        "id": "NrxFrKo9r7_s"
      },
      "execution_count": null,
      "outputs": []
    },
    {
      "cell_type": "code",
      "source": [
        "# Функция обработки текста\n",
        "def text_processing(text, punkt, swort):\n",
        "  ''' Принимает сырой текст, фильтрует его от знаков пунктуации, стоп-слов и переводит в нижний регистр'''\n",
        "  \n",
        "  words = word_tokenize(text.lower()) # Разбмваем на список слов (токены)\n",
        "  words = [word for word in words if word not in punkt] # Удаляем знаки пунктуации\n",
        "  words = [word for word in words if word not in swort] # Удаляем стопслова\n",
        "\n",
        "  all_words = ' '.join(words)\n",
        "  return all_words"
      ],
      "metadata": {
        "id": "hdt4ZsLi1fdN"
      },
      "execution_count": null,
      "outputs": []
    },
    {
      "cell_type": "code",
      "source": [
        "%%time\n",
        "# Получение текта книги с каждой страницы\n",
        "for URL_ENDING in URL_ENDINGS:\n",
        "  print(URL + URL_ENDING)\n",
        "  connect_url_page = requests.get(URL + URL_ENDING)\n",
        "  if connect_url_page.status_code == 200:\n",
        "    text_page = connect_url_page.text\n",
        "\n",
        "    one_page = bs(text_page, 'html.parser')\n",
        "    text_in_url = one_page.find_all('span', class_='p')\n",
        "    for text_one in text_in_url:\n",
        "      TEXT_BOOK = TEXT_BOOK + text_processing(text_one.text, my_stop_punct, my_stop_words) + ' ' # Текст в функцию передается построчно до красной строки\n",
        "      \n",
        "  \n",
        "  else:\n",
        "    print('ALARM!!!STOP')\n"
      ],
      "metadata": {
        "id": "KwyGvmi9y0JV"
      },
      "execution_count": null,
      "outputs": []
    },
    {
      "cell_type": "markdown",
      "source": [
        "###ТЕСТИРОВАНИЕ ВЫБОРКИ СЛОВ НАЧАТЬ ОТ СЮДА, ЧТОБ НЕ ГРУЗИТЬ ВСЕ ВРЕМЯ С САЙТА"
      ],
      "metadata": {
        "id": "sJFNouIw9OcR"
      }
    },
    {
      "cell_type": "code",
      "source": [
        "#TEXT_BOOK_SRT = \"лев толстой eh bien mon prince gênes et lucques ne sont plus que des apanages des поместья de la famille buonaparte non je vous préviens que si vous ne me dites pas que nous avons la guerre si vous vous permettez encore de pallier toutes les infamies toutes les atrocités de cet antichrist ma parole j y crois je ne vous connais plus vous n'êtes plus mon ami vous n'êtes plus верный раб comme vous dites 1. здравствуйте здравствуйте je vois que je vous fais peur 2 садитесь рассказывайте говорила июле 1805 года известная анна павловна шерер фрейлина приближенная императрицы марии феодоровны встречая важного чиновного князя василия первого приехавшего вечер анна павловна кашляла несколько дней был грипп говорила грипп был тогда новое слово употреблявшееся только редкими записочках разосланных утром красным лакеем было написано различия « si vous n'avez rien de mieux à faire monsieur le comte mon prince et si la perspective de passer la soirée chez une pauvre malade ne vous effraye pas trop je serai charmée de vous voir chez moi entre 7 et 10 heures annette scherer » 3 dieu quelle virulente sortie 4 отвечал нисколько смутясь такою встречей вошедший князь придворном шитом мундире чулках башмаках звездах светлым выражением плоского лица говорил изысканном французском языке котором только говорили думали наши деды теми тихими покровительственными интонациями которые свойственны состаревшемуся свете дворе значительному человеку подошел анне павловне поцеловал руку подставив надушенную сияющую лысину покойно уселся диване avant tout dites-moi comment vous allez chère amie 5 успокойте сказал изменяя голоса тоном котором из-за приличия участия просвечивало равнодушие даже насмешка можно быть здоровой когда нравственно страдаешь можно имея чувство оставаться спокойною наше время сказала анна павловна весь вечер надеюсь праздник английского посланника нынче середа надо показаться сказал князь дочь заедет мной повезет думала нынешний праздник отменен je vous avoue que toutes ces fêtes et tous ces feux d'artifice commencent à devenir insipides 6 ежели знали хотите праздник отменили сказал князь привычке заведенные часы говоря вещи которым хотел верили ne me tourmentez pas eh bien qu a-t-on décidé par rapport à la dépêche de novosilzoff vous savez tout 7 сказать сказал князь холодным скучающим тоном qu a-t-on décidé on a décidé que buonaparte a brûlé ses vaisseaux et je crois que nous sommes en train de brûler les nôtres 8 князь василий говорил всегда лениво актер говорит роль старой пиесы анна павловна шерер напротив несмотря свои сорок лет была преисполнена оживления порывов быть энтузиасткой сделалось общественным положением иногда когда даже хотелось обмануть ожиданий людей знавших делалась энтузиасткой сдержанная улыбка игравшая постоянно лице анны павловны хотя шла отжившим чертам выражала избалованных детей постоянное сознание своего милого недостатка которого хочет может находит нужным исправляться середине разговора политические действия анна павловна разгорячилась ах говорите австрию ничего понимаю может быть австрия никогда хотела хочет войны предает россия одна должна быть спасительницей европы наш благодетель знает свое высокое призвание будет верен вот одно верю нашему доброму чудному государю предстоит величайшая роль мире добродетелен хорош бог оставит исполнит свое призвание задавить гидру революции которая теперь ужаснее лице убийцы злодея одни должны искупить кровь праведника кого нам надеяться спрашиваю англия своим коммерческим духом поймет может понять высоту души императора александра отказалась очистить мальту хочет видеть ищет заднюю мысль наших действий сказали новосильцеву ничего поняли могли понять самоотвержения нашего императора который ничего хочет себя хочет блага мира обещали ничего обещали будет пруссия объявила бонапарте непобедим вся европа ничего может против верю одном слове гарденбергу гаугвицу cette fameuse neutralité prussienne ce n'est qu'un piège 9. верю одного бога высокую судьбу нашего милого императора спасет европу вдруг остановилась улыбкой насмешки своею горячностью думаю сказал князь улыбаясь ежели послали вместо нашего милого винценгероде взяли приступом согласие прусского короля красноречивы дадите чаю сейчас a propos прибавила опять успокоиваясь нынче два очень интересные человека le vicomte de mortemart il est allié aux montmorency par les rohans 10 одна лучших фамилий франции один хороших эмигрантов настоящих потом l'abbé morio 11 знаете глубокий ум был принят государем знаете очень рад буду сказал князь скажите прибавил только вспомнив что-то особенно-небрежно тогда спрашивал было главной целью посещения правда l'impératrice-mère 12 желает назначения барона функе первым секретарем вену c'est un pauvre sire ce baron à ce qu'il paraît 13 князь\"\n",
        "TEXT_BOOK_SRT = \"одна лучших фамилий франции глубокий ум был принят государем знаете очень рад буду сказал князь скажите прибавил только вспомнив тогда спрашивал было главной\""
      ],
      "metadata": {
        "id": "_F9DivQAy0L3"
      },
      "execution_count": 3,
      "outputs": []
    },
    {
      "cell_type": "code",
      "source": [
        "len(TEXT_BOOK_SRT.split(' '))"
      ],
      "metadata": {
        "id": "TRISLcifVlPo"
      },
      "execution_count": null,
      "outputs": []
    },
    {
      "cell_type": "markdown",
      "source": [
        "###Этап 3: Внесение данных для нахождения слогов"
      ],
      "metadata": {
        "id": "aF62u9yP653J"
      }
    },
    {
      "cell_type": "code",
      "source": [
        "vowels = 'ауоыиэяюёе' # гласные буквы\n",
        "consonants = 'бвгджзклмнпрстфхцчшщ' # согласные буквы\n",
        "TOTAL_SLOG = [] # будем создавать список с вложеным списком слогов, для подсчета совпадений и длин слов"
      ],
      "metadata": {
        "id": "g1NX51A064wJ"
      },
      "execution_count": 5,
      "outputs": []
    },
    {
      "cell_type": "code",
      "source": [
        "# Получим возможные слоги\n",
        "for consonant in consonants:\n",
        "  for vowel in vowels:\n",
        "    TOTAL_SLOG.append([consonant + vowel])"
      ],
      "metadata": {
        "id": "V55u0Zk787lb"
      },
      "execution_count": 6,
      "outputs": []
    },
    {
      "cell_type": "code",
      "source": [
        "#TOTAL_SLOG"
      ],
      "metadata": {
        "id": "7Mm9fbppuaBl"
      },
      "execution_count": 6,
      "outputs": []
    },
    {
      "cell_type": "code",
      "source": [
        "for quantity_slog in range(len(TOTAL_SLOG)):\n",
        "  TOTAL_SLOG[quantity_slog].append(0)"
      ],
      "metadata": {
        "id": "Xxtgiq0zPBgQ"
      },
      "execution_count": 7,
      "outputs": []
    },
    {
      "cell_type": "code",
      "source": [
        "#Пока откажемся от создания Датафрейма, создадим его в конце\n",
        "#df_slog = pd.DataFrame(TOTAL_SLOG, columns=['Слог', 'Частота'])\n",
        "#df_slog = pd.DataFrame(TOTAL_SLOG) #откажемся от названия столбцов"
      ],
      "metadata": {
        "id": "cstuagcfrxke"
      },
      "execution_count": null,
      "outputs": []
    },
    {
      "cell_type": "code",
      "source": [
        "#df_slog.head()\n",
        "TOTAL_SLOG"
      ],
      "metadata": {
        "id": "jEtR6OBoanUt"
      },
      "execution_count": null,
      "outputs": []
    },
    {
      "cell_type": "markdown",
      "source": [
        "###Этап 4: Обработка полезных данных"
      ],
      "metadata": {
        "id": "Vg4FOGU-7dVi"
      }
    },
    {
      "cell_type": "code",
      "source": [
        "def word_processing(word_word):\n",
        "  ''' Функция поиска слогов в слове'''\n",
        "\n",
        "  global vowels, consonants, TOTAL_SLOG\n",
        "\n",
        "  for index_letter in range(1, len(word_word)):\n",
        "    if word_word[index_letter] in vowels and word_word[index_letter - 1] in consonants:\n",
        "      slog = word_word[index_letter - 1] + word_word[index_letter]\n",
        "      #print('Слог: ' + slog)\n",
        "      \n",
        "      find_index = [findex for findex in range(len(TOTAL_SLOG)) if TOTAL_SLOG[findex][0] in slog] # нахождение индекса (номера строки) слога\n",
        "      #print('Индекс в списке логов: ' + str(find_index))\n",
        "\n",
        "      TOTAL_SLOG[find_index[0]][1] += 1 # Увеличиваем число совпадений слога\n",
        "      TOTAL_SLOG[find_index[0]].append(len(word_word))\n",
        "      "
      ],
      "metadata": {
        "id": "_JJ9OyaLQJBQ"
      },
      "execution_count": 9,
      "outputs": []
    },
    {
      "cell_type": "code",
      "source": [
        "%%time\n",
        "for word_from_book in TEXT_BOOK_SRT.split(' '):\n",
        "  word_processing(word_from_book)"
      ],
      "metadata": {
        "id": "hVy_sd9-y0SY"
      },
      "execution_count": null,
      "outputs": []
    },
    {
      "cell_type": "code",
      "source": [
        "#df_slog\n",
        "TOTAL_SLOG"
      ],
      "metadata": {
        "id": "GPDSpYVOsCow"
      },
      "execution_count": null,
      "outputs": []
    },
    {
      "cell_type": "code",
      "source": [
        "df_slog = pd.DataFrame(TOTAL_SLOG)"
      ],
      "metadata": {
        "id": "h7klZAC4MBfb"
      },
      "execution_count": 13,
      "outputs": []
    },
    {
      "cell_type": "code",
      "source": [
        "df_slog = df_slog.rename(columns = {0:'Слог', 1:'Частота'}) # переименновываем 1 и 2 столбец\n",
        "for num in range(2, len(df_slog.columns)):\n",
        "  df_slog = df_slog.rename(columns = {num:f'длина{num}'}) # переименновываем остальные столбцы"
      ],
      "metadata": {
        "id": "3J8ippVNMDXr"
      },
      "execution_count": 25,
      "outputs": []
    },
    {
      "cell_type": "code",
      "source": [
        "df_slog"
      ],
      "metadata": {
        "id": "WM0a5j1KNJCk"
      },
      "execution_count": null,
      "outputs": []
    },
    {
      "cell_type": "code",
      "source": [
        "df_slog.to_csv('slog.csv')"
      ],
      "metadata": {
        "id": "AEW_7oUYsCr5"
      },
      "execution_count": null,
      "outputs": []
    },
    {
      "cell_type": "markdown",
      "source": [
        "###Этап 5: Вывод"
      ],
      "metadata": {
        "id": "fy9aR8zJMkpL"
      }
    },
    {
      "cell_type": "code",
      "source": [
        "df_slog"
      ],
      "metadata": {
        "id": "SMguyRORkJgM"
      },
      "execution_count": null,
      "outputs": []
    },
    {
      "cell_type": "code",
      "source": [
        ""
      ],
      "metadata": {
        "id": "e097egDJ9vMB"
      },
      "execution_count": null,
      "outputs": []
    },
    {
      "cell_type": "code",
      "source": [
        ""
      ],
      "metadata": {
        "id": "sWmQ2Buj9vOi"
      },
      "execution_count": null,
      "outputs": []
    },
    {
      "cell_type": "code",
      "source": [
        ""
      ],
      "metadata": {
        "id": "pY9u-e-g9vSD"
      },
      "execution_count": null,
      "outputs": []
    },
    {
      "cell_type": "markdown",
      "source": [
        "***ЧЕРНОВИК***"
      ],
      "metadata": {
        "id": "3iKnTt3Nl2qV"
      }
    },
    {
      "cell_type": "code",
      "source": [
        "listdf = [['ва', 2, 1], ['цу', 4, 7, 6, 9, 7], ['ка', 3, 2, 2], ['ро', 4, 6], ['ми', 9, 9, 6, 8, 4, 4, 2], ['но', 5, 3, 4], ['ши', 7, 5, 6, 7], ['тя', 3, 5, 4]]"
      ],
      "metadata": {
        "id": "3Q1KuRjWQXyv"
      },
      "execution_count": null,
      "outputs": []
    },
    {
      "cell_type": "code",
      "source": [
        "dfli = pd.DataFrame(listdf)"
      ],
      "metadata": {
        "id": "HaL6iTwapVCE"
      },
      "execution_count": null,
      "outputs": []
    },
    {
      "cell_type": "code",
      "source": [
        "dfli"
      ],
      "metadata": {
        "colab": {
          "base_uri": "https://localhost:8080/",
          "height": 300
        },
        "id": "361GrC7qpVL3",
        "outputId": "ee779ddc-06d2-4f1e-e069-6f5c1fc719be"
      },
      "execution_count": null,
      "outputs": [
        {
          "output_type": "execute_result",
          "data": {
            "text/plain": [
              "    0  1  2    3    4    5    6    7\n",
              "0  ва  2  1  NaN  NaN  NaN  NaN  NaN\n",
              "1  цу  4  7  6.0  9.0  7.0  NaN  NaN\n",
              "2  ка  3  2  2.0  NaN  NaN  NaN  NaN\n",
              "3  ро  4  6  NaN  NaN  NaN  NaN  NaN\n",
              "4  ми  9  9  6.0  8.0  4.0  4.0  2.0\n",
              "5  но  5  3  4.0  NaN  NaN  NaN  NaN\n",
              "6  ши  7  5  6.0  7.0  NaN  NaN  NaN\n",
              "7  тя  3  5  4.0  NaN  NaN  NaN  NaN"
            ],
            "text/html": [
              "\n",
              "  <div id=\"df-0ca4cf8d-7fb7-41d7-a5f9-a2a9b96229b7\">\n",
              "    <div class=\"colab-df-container\">\n",
              "      <div>\n",
              "<style scoped>\n",
              "    .dataframe tbody tr th:only-of-type {\n",
              "        vertical-align: middle;\n",
              "    }\n",
              "\n",
              "    .dataframe tbody tr th {\n",
              "        vertical-align: top;\n",
              "    }\n",
              "\n",
              "    .dataframe thead th {\n",
              "        text-align: right;\n",
              "    }\n",
              "</style>\n",
              "<table border=\"1\" class=\"dataframe\">\n",
              "  <thead>\n",
              "    <tr style=\"text-align: right;\">\n",
              "      <th></th>\n",
              "      <th>0</th>\n",
              "      <th>1</th>\n",
              "      <th>2</th>\n",
              "      <th>3</th>\n",
              "      <th>4</th>\n",
              "      <th>5</th>\n",
              "      <th>6</th>\n",
              "      <th>7</th>\n",
              "    </tr>\n",
              "  </thead>\n",
              "  <tbody>\n",
              "    <tr>\n",
              "      <th>0</th>\n",
              "      <td>ва</td>\n",
              "      <td>2</td>\n",
              "      <td>1</td>\n",
              "      <td>NaN</td>\n",
              "      <td>NaN</td>\n",
              "      <td>NaN</td>\n",
              "      <td>NaN</td>\n",
              "      <td>NaN</td>\n",
              "    </tr>\n",
              "    <tr>\n",
              "      <th>1</th>\n",
              "      <td>цу</td>\n",
              "      <td>4</td>\n",
              "      <td>7</td>\n",
              "      <td>6.0</td>\n",
              "      <td>9.0</td>\n",
              "      <td>7.0</td>\n",
              "      <td>NaN</td>\n",
              "      <td>NaN</td>\n",
              "    </tr>\n",
              "    <tr>\n",
              "      <th>2</th>\n",
              "      <td>ка</td>\n",
              "      <td>3</td>\n",
              "      <td>2</td>\n",
              "      <td>2.0</td>\n",
              "      <td>NaN</td>\n",
              "      <td>NaN</td>\n",
              "      <td>NaN</td>\n",
              "      <td>NaN</td>\n",
              "    </tr>\n",
              "    <tr>\n",
              "      <th>3</th>\n",
              "      <td>ро</td>\n",
              "      <td>4</td>\n",
              "      <td>6</td>\n",
              "      <td>NaN</td>\n",
              "      <td>NaN</td>\n",
              "      <td>NaN</td>\n",
              "      <td>NaN</td>\n",
              "      <td>NaN</td>\n",
              "    </tr>\n",
              "    <tr>\n",
              "      <th>4</th>\n",
              "      <td>ми</td>\n",
              "      <td>9</td>\n",
              "      <td>9</td>\n",
              "      <td>6.0</td>\n",
              "      <td>8.0</td>\n",
              "      <td>4.0</td>\n",
              "      <td>4.0</td>\n",
              "      <td>2.0</td>\n",
              "    </tr>\n",
              "    <tr>\n",
              "      <th>5</th>\n",
              "      <td>но</td>\n",
              "      <td>5</td>\n",
              "      <td>3</td>\n",
              "      <td>4.0</td>\n",
              "      <td>NaN</td>\n",
              "      <td>NaN</td>\n",
              "      <td>NaN</td>\n",
              "      <td>NaN</td>\n",
              "    </tr>\n",
              "    <tr>\n",
              "      <th>6</th>\n",
              "      <td>ши</td>\n",
              "      <td>7</td>\n",
              "      <td>5</td>\n",
              "      <td>6.0</td>\n",
              "      <td>7.0</td>\n",
              "      <td>NaN</td>\n",
              "      <td>NaN</td>\n",
              "      <td>NaN</td>\n",
              "    </tr>\n",
              "    <tr>\n",
              "      <th>7</th>\n",
              "      <td>тя</td>\n",
              "      <td>3</td>\n",
              "      <td>5</td>\n",
              "      <td>4.0</td>\n",
              "      <td>NaN</td>\n",
              "      <td>NaN</td>\n",
              "      <td>NaN</td>\n",
              "      <td>NaN</td>\n",
              "    </tr>\n",
              "  </tbody>\n",
              "</table>\n",
              "</div>\n",
              "      <button class=\"colab-df-convert\" onclick=\"convertToInteractive('df-0ca4cf8d-7fb7-41d7-a5f9-a2a9b96229b7')\"\n",
              "              title=\"Convert this dataframe to an interactive table.\"\n",
              "              style=\"display:none;\">\n",
              "        \n",
              "  <svg xmlns=\"http://www.w3.org/2000/svg\" height=\"24px\"viewBox=\"0 0 24 24\"\n",
              "       width=\"24px\">\n",
              "    <path d=\"M0 0h24v24H0V0z\" fill=\"none\"/>\n",
              "    <path d=\"M18.56 5.44l.94 2.06.94-2.06 2.06-.94-2.06-.94-.94-2.06-.94 2.06-2.06.94zm-11 1L8.5 8.5l.94-2.06 2.06-.94-2.06-.94L8.5 2.5l-.94 2.06-2.06.94zm10 10l.94 2.06.94-2.06 2.06-.94-2.06-.94-.94-2.06-.94 2.06-2.06.94z\"/><path d=\"M17.41 7.96l-1.37-1.37c-.4-.4-.92-.59-1.43-.59-.52 0-1.04.2-1.43.59L10.3 9.45l-7.72 7.72c-.78.78-.78 2.05 0 2.83L4 21.41c.39.39.9.59 1.41.59.51 0 1.02-.2 1.41-.59l7.78-7.78 2.81-2.81c.8-.78.8-2.07 0-2.86zM5.41 20L4 18.59l7.72-7.72 1.47 1.35L5.41 20z\"/>\n",
              "  </svg>\n",
              "      </button>\n",
              "      \n",
              "  <style>\n",
              "    .colab-df-container {\n",
              "      display:flex;\n",
              "      flex-wrap:wrap;\n",
              "      gap: 12px;\n",
              "    }\n",
              "\n",
              "    .colab-df-convert {\n",
              "      background-color: #E8F0FE;\n",
              "      border: none;\n",
              "      border-radius: 50%;\n",
              "      cursor: pointer;\n",
              "      display: none;\n",
              "      fill: #1967D2;\n",
              "      height: 32px;\n",
              "      padding: 0 0 0 0;\n",
              "      width: 32px;\n",
              "    }\n",
              "\n",
              "    .colab-df-convert:hover {\n",
              "      background-color: #E2EBFA;\n",
              "      box-shadow: 0px 1px 2px rgba(60, 64, 67, 0.3), 0px 1px 3px 1px rgba(60, 64, 67, 0.15);\n",
              "      fill: #174EA6;\n",
              "    }\n",
              "\n",
              "    [theme=dark] .colab-df-convert {\n",
              "      background-color: #3B4455;\n",
              "      fill: #D2E3FC;\n",
              "    }\n",
              "\n",
              "    [theme=dark] .colab-df-convert:hover {\n",
              "      background-color: #434B5C;\n",
              "      box-shadow: 0px 1px 3px 1px rgba(0, 0, 0, 0.15);\n",
              "      filter: drop-shadow(0px 1px 2px rgba(0, 0, 0, 0.3));\n",
              "      fill: #FFFFFF;\n",
              "    }\n",
              "  </style>\n",
              "\n",
              "      <script>\n",
              "        const buttonEl =\n",
              "          document.querySelector('#df-0ca4cf8d-7fb7-41d7-a5f9-a2a9b96229b7 button.colab-df-convert');\n",
              "        buttonEl.style.display =\n",
              "          google.colab.kernel.accessAllowed ? 'block' : 'none';\n",
              "\n",
              "        async function convertToInteractive(key) {\n",
              "          const element = document.querySelector('#df-0ca4cf8d-7fb7-41d7-a5f9-a2a9b96229b7');\n",
              "          const dataTable =\n",
              "            await google.colab.kernel.invokeFunction('convertToInteractive',\n",
              "                                                     [key], {});\n",
              "          if (!dataTable) return;\n",
              "\n",
              "          const docLinkHtml = 'Like what you see? Visit the ' +\n",
              "            '<a target=\"_blank\" href=https://colab.research.google.com/notebooks/data_table.ipynb>data table notebook</a>'\n",
              "            + ' to learn more about interactive tables.';\n",
              "          element.innerHTML = '';\n",
              "          dataTable['output_type'] = 'display_data';\n",
              "          await google.colab.output.renderOutput(dataTable, element);\n",
              "          const docLink = document.createElement('div');\n",
              "          docLink.innerHTML = docLinkHtml;\n",
              "          element.appendChild(docLink);\n",
              "        }\n",
              "      </script>\n",
              "    </div>\n",
              "  </div>\n",
              "  "
            ]
          },
          "metadata": {},
          "execution_count": 17
        }
      ]
    },
    {
      "cell_type": "code",
      "source": [
        "dfli.loc[3].append(pd.Series(55), ignore_index=True)"
      ],
      "metadata": {
        "colab": {
          "base_uri": "https://localhost:8080/"
        },
        "id": "ChT_UH0I1nZB",
        "outputId": "f37ade32-820e-45a9-fc1f-3bfcec7d01f2"
      },
      "execution_count": null,
      "outputs": [
        {
          "output_type": "execute_result",
          "data": {
            "text/plain": [
              "0     ро\n",
              "1      4\n",
              "2      6\n",
              "3    NaN\n",
              "4    NaN\n",
              "5    NaN\n",
              "6    NaN\n",
              "7    NaN\n",
              "8     55\n",
              "dtype: object"
            ]
          },
          "metadata": {},
          "execution_count": 21
        }
      ]
    },
    {
      "cell_type": "code",
      "source": [
        "dfli"
      ],
      "metadata": {
        "colab": {
          "base_uri": "https://localhost:8080/",
          "height": 300
        },
        "id": "o1qmYGGJCxod",
        "outputId": "33fccaf8-2d98-40c7-e0df-94caba1baad2"
      },
      "execution_count": null,
      "outputs": [
        {
          "output_type": "execute_result",
          "data": {
            "text/plain": [
              "    0  1  2    3    4    5    6    7\n",
              "0  ва  2  1  NaN  NaN  NaN  NaN  NaN\n",
              "1  цу  4  7  6.0  9.0  7.0  NaN  NaN\n",
              "2  ка  3  2  2.0  NaN  NaN  NaN  NaN\n",
              "3  ро  4  6  NaN  NaN  NaN  NaN  NaN\n",
              "4  ми  9  9  6.0  8.0  4.0  4.0  2.0\n",
              "5  но  5  3  4.0  NaN  NaN  NaN  NaN\n",
              "6  ши  7  5  6.0  7.0  NaN  NaN  NaN\n",
              "7  тя  3  5  4.0  NaN  NaN  NaN  NaN"
            ],
            "text/html": [
              "\n",
              "  <div id=\"df-220713a3-a789-4fe8-92f4-e0737aee47ed\">\n",
              "    <div class=\"colab-df-container\">\n",
              "      <div>\n",
              "<style scoped>\n",
              "    .dataframe tbody tr th:only-of-type {\n",
              "        vertical-align: middle;\n",
              "    }\n",
              "\n",
              "    .dataframe tbody tr th {\n",
              "        vertical-align: top;\n",
              "    }\n",
              "\n",
              "    .dataframe thead th {\n",
              "        text-align: right;\n",
              "    }\n",
              "</style>\n",
              "<table border=\"1\" class=\"dataframe\">\n",
              "  <thead>\n",
              "    <tr style=\"text-align: right;\">\n",
              "      <th></th>\n",
              "      <th>0</th>\n",
              "      <th>1</th>\n",
              "      <th>2</th>\n",
              "      <th>3</th>\n",
              "      <th>4</th>\n",
              "      <th>5</th>\n",
              "      <th>6</th>\n",
              "      <th>7</th>\n",
              "    </tr>\n",
              "  </thead>\n",
              "  <tbody>\n",
              "    <tr>\n",
              "      <th>0</th>\n",
              "      <td>ва</td>\n",
              "      <td>2</td>\n",
              "      <td>1</td>\n",
              "      <td>NaN</td>\n",
              "      <td>NaN</td>\n",
              "      <td>NaN</td>\n",
              "      <td>NaN</td>\n",
              "      <td>NaN</td>\n",
              "    </tr>\n",
              "    <tr>\n",
              "      <th>1</th>\n",
              "      <td>цу</td>\n",
              "      <td>4</td>\n",
              "      <td>7</td>\n",
              "      <td>6.0</td>\n",
              "      <td>9.0</td>\n",
              "      <td>7.0</td>\n",
              "      <td>NaN</td>\n",
              "      <td>NaN</td>\n",
              "    </tr>\n",
              "    <tr>\n",
              "      <th>2</th>\n",
              "      <td>ка</td>\n",
              "      <td>3</td>\n",
              "      <td>2</td>\n",
              "      <td>2.0</td>\n",
              "      <td>NaN</td>\n",
              "      <td>NaN</td>\n",
              "      <td>NaN</td>\n",
              "      <td>NaN</td>\n",
              "    </tr>\n",
              "    <tr>\n",
              "      <th>3</th>\n",
              "      <td>ро</td>\n",
              "      <td>4</td>\n",
              "      <td>6</td>\n",
              "      <td>NaN</td>\n",
              "      <td>NaN</td>\n",
              "      <td>NaN</td>\n",
              "      <td>NaN</td>\n",
              "      <td>NaN</td>\n",
              "    </tr>\n",
              "    <tr>\n",
              "      <th>4</th>\n",
              "      <td>ми</td>\n",
              "      <td>9</td>\n",
              "      <td>9</td>\n",
              "      <td>6.0</td>\n",
              "      <td>8.0</td>\n",
              "      <td>4.0</td>\n",
              "      <td>4.0</td>\n",
              "      <td>2.0</td>\n",
              "    </tr>\n",
              "    <tr>\n",
              "      <th>5</th>\n",
              "      <td>но</td>\n",
              "      <td>5</td>\n",
              "      <td>3</td>\n",
              "      <td>4.0</td>\n",
              "      <td>NaN</td>\n",
              "      <td>NaN</td>\n",
              "      <td>NaN</td>\n",
              "      <td>NaN</td>\n",
              "    </tr>\n",
              "    <tr>\n",
              "      <th>6</th>\n",
              "      <td>ши</td>\n",
              "      <td>7</td>\n",
              "      <td>5</td>\n",
              "      <td>6.0</td>\n",
              "      <td>7.0</td>\n",
              "      <td>NaN</td>\n",
              "      <td>NaN</td>\n",
              "      <td>NaN</td>\n",
              "    </tr>\n",
              "    <tr>\n",
              "      <th>7</th>\n",
              "      <td>тя</td>\n",
              "      <td>3</td>\n",
              "      <td>5</td>\n",
              "      <td>4.0</td>\n",
              "      <td>NaN</td>\n",
              "      <td>NaN</td>\n",
              "      <td>NaN</td>\n",
              "      <td>NaN</td>\n",
              "    </tr>\n",
              "  </tbody>\n",
              "</table>\n",
              "</div>\n",
              "      <button class=\"colab-df-convert\" onclick=\"convertToInteractive('df-220713a3-a789-4fe8-92f4-e0737aee47ed')\"\n",
              "              title=\"Convert this dataframe to an interactive table.\"\n",
              "              style=\"display:none;\">\n",
              "        \n",
              "  <svg xmlns=\"http://www.w3.org/2000/svg\" height=\"24px\"viewBox=\"0 0 24 24\"\n",
              "       width=\"24px\">\n",
              "    <path d=\"M0 0h24v24H0V0z\" fill=\"none\"/>\n",
              "    <path d=\"M18.56 5.44l.94 2.06.94-2.06 2.06-.94-2.06-.94-.94-2.06-.94 2.06-2.06.94zm-11 1L8.5 8.5l.94-2.06 2.06-.94-2.06-.94L8.5 2.5l-.94 2.06-2.06.94zm10 10l.94 2.06.94-2.06 2.06-.94-2.06-.94-.94-2.06-.94 2.06-2.06.94z\"/><path d=\"M17.41 7.96l-1.37-1.37c-.4-.4-.92-.59-1.43-.59-.52 0-1.04.2-1.43.59L10.3 9.45l-7.72 7.72c-.78.78-.78 2.05 0 2.83L4 21.41c.39.39.9.59 1.41.59.51 0 1.02-.2 1.41-.59l7.78-7.78 2.81-2.81c.8-.78.8-2.07 0-2.86zM5.41 20L4 18.59l7.72-7.72 1.47 1.35L5.41 20z\"/>\n",
              "  </svg>\n",
              "      </button>\n",
              "      \n",
              "  <style>\n",
              "    .colab-df-container {\n",
              "      display:flex;\n",
              "      flex-wrap:wrap;\n",
              "      gap: 12px;\n",
              "    }\n",
              "\n",
              "    .colab-df-convert {\n",
              "      background-color: #E8F0FE;\n",
              "      border: none;\n",
              "      border-radius: 50%;\n",
              "      cursor: pointer;\n",
              "      display: none;\n",
              "      fill: #1967D2;\n",
              "      height: 32px;\n",
              "      padding: 0 0 0 0;\n",
              "      width: 32px;\n",
              "    }\n",
              "\n",
              "    .colab-df-convert:hover {\n",
              "      background-color: #E2EBFA;\n",
              "      box-shadow: 0px 1px 2px rgba(60, 64, 67, 0.3), 0px 1px 3px 1px rgba(60, 64, 67, 0.15);\n",
              "      fill: #174EA6;\n",
              "    }\n",
              "\n",
              "    [theme=dark] .colab-df-convert {\n",
              "      background-color: #3B4455;\n",
              "      fill: #D2E3FC;\n",
              "    }\n",
              "\n",
              "    [theme=dark] .colab-df-convert:hover {\n",
              "      background-color: #434B5C;\n",
              "      box-shadow: 0px 1px 3px 1px rgba(0, 0, 0, 0.15);\n",
              "      filter: drop-shadow(0px 1px 2px rgba(0, 0, 0, 0.3));\n",
              "      fill: #FFFFFF;\n",
              "    }\n",
              "  </style>\n",
              "\n",
              "      <script>\n",
              "        const buttonEl =\n",
              "          document.querySelector('#df-220713a3-a789-4fe8-92f4-e0737aee47ed button.colab-df-convert');\n",
              "        buttonEl.style.display =\n",
              "          google.colab.kernel.accessAllowed ? 'block' : 'none';\n",
              "\n",
              "        async function convertToInteractive(key) {\n",
              "          const element = document.querySelector('#df-220713a3-a789-4fe8-92f4-e0737aee47ed');\n",
              "          const dataTable =\n",
              "            await google.colab.kernel.invokeFunction('convertToInteractive',\n",
              "                                                     [key], {});\n",
              "          if (!dataTable) return;\n",
              "\n",
              "          const docLinkHtml = 'Like what you see? Visit the ' +\n",
              "            '<a target=\"_blank\" href=https://colab.research.google.com/notebooks/data_table.ipynb>data table notebook</a>'\n",
              "            + ' to learn more about interactive tables.';\n",
              "          element.innerHTML = '';\n",
              "          dataTable['output_type'] = 'display_data';\n",
              "          await google.colab.output.renderOutput(dataTable, element);\n",
              "          const docLink = document.createElement('div');\n",
              "          docLink.innerHTML = docLinkHtml;\n",
              "          element.appendChild(docLink);\n",
              "        }\n",
              "      </script>\n",
              "    </div>\n",
              "  </div>\n",
              "  "
            ]
          },
          "metadata": {},
          "execution_count": 22
        }
      ]
    },
    {
      "cell_type": "code",
      "source": [
        "rrr = []"
      ],
      "metadata": {
        "id": "XSJrNmaL4bpZ"
      },
      "execution_count": null,
      "outputs": []
    },
    {
      "cell_type": "code",
      "source": [
        "rrr.append(2)"
      ],
      "metadata": {
        "id": "mIxs74ZD4fxK"
      },
      "execution_count": null,
      "outputs": []
    },
    {
      "cell_type": "code",
      "source": [
        "rrr"
      ],
      "metadata": {
        "colab": {
          "base_uri": "https://localhost:8080/"
        },
        "id": "me23DSY54h1c",
        "outputId": "822bfe51-5a4e-4efa-a6e1-bb095b4d28f9"
      },
      "execution_count": null,
      "outputs": [
        {
          "output_type": "execute_result",
          "data": {
            "text/plain": [
              "[2]"
            ]
          },
          "metadata": {},
          "execution_count": 17
        }
      ]
    },
    {
      "cell_type": "code",
      "source": [
        "a = None"
      ],
      "metadata": {
        "id": "NXI6-gfgBoda"
      },
      "execution_count": null,
      "outputs": []
    },
    {
      "cell_type": "code",
      "source": [
        "a += 1"
      ],
      "metadata": {
        "id": "MlB1vhobBsC9",
        "outputId": "6e85e5f6-2210-4087-e8a7-75c0ed5654e4",
        "colab": {
          "base_uri": "https://localhost:8080/",
          "height": 174
        }
      },
      "execution_count": null,
      "outputs": [
        {
          "output_type": "error",
          "ename": "TypeError",
          "evalue": "ignored",
          "traceback": [
            "\u001b[0;31m---------------------------------------------------------------------------\u001b[0m",
            "\u001b[0;31mTypeError\u001b[0m                                 Traceback (most recent call last)",
            "\u001b[0;32m<ipython-input-23-8076006b0952>\u001b[0m in \u001b[0;36m<module>\u001b[0;34m()\u001b[0m\n\u001b[0;32m----> 1\u001b[0;31m \u001b[0ma\u001b[0m \u001b[0;34m+=\u001b[0m \u001b[0;36m1\u001b[0m\u001b[0;34m\u001b[0m\u001b[0;34m\u001b[0m\u001b[0m\n\u001b[0m",
            "\u001b[0;31mTypeError\u001b[0m: unsupported operand type(s) for +=: 'NoneType' and 'int'"
          ]
        }
      ]
    }
  ]
}