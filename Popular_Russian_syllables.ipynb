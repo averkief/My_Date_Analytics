{
  "nbformat": 4,
  "nbformat_minor": 0,
  "metadata": {
    "colab": {
      "provenance": [],
      "authorship_tag": "ABX9TyNpqWyVaLY6LCEbRO78BzqQ",
      "include_colab_link": true
    },
    "kernelspec": {
      "name": "python3",
      "display_name": "Python 3"
    },
    "language_info": {
      "name": "python"
    }
  },
  "cells": [
    {
      "cell_type": "markdown",
      "metadata": {
        "id": "view-in-github",
        "colab_type": "text"
      },
      "source": [
        "<a href=\"https://colab.research.google.com/github/averkief/My_Date_Analytics/blob/main/Popular_Russian_syllables.ipynb\" target=\"_parent\"><img src=\"https://colab.research.google.com/assets/colab-badge.svg\" alt=\"Open In Colab\"/></a>"
      ]
    },
    {
      "cell_type": "markdown",
      "source": [
        "***Предисловие***<br>\n",
        "Когда мой сын подрастал и начинал познавать мир, то дошло дело и до чтения.\n",
        "Современные методики рекомендуют учить детей не буквам, а слогам. Указывая на то, что так будет проще научиться читать.<br>\n",
        "И так в русском языке 10 гласных букв и 20 согласных. Отбросив соединения согласных с гласными которые не соответсвуют правилам русского языка, получаем 158 правильных слогов.<br>\n",
        "И тут у меня возник вопрос, а какие слоги самые популярные, какие лучше выучить первыми???<br><br>\n",
        "ИТАК ЗАДАЧА: Какой слог встречается чаще всего? И бонусом, какая длина чаще всего у этих слов?"
      ],
      "metadata": {
        "id": "xq_XW8vjhvys"
      }
    },
    {
      "cell_type": "markdown",
      "source": [
        "**Последовательность действий**<br>\n",
        "*Этап 1: Подключение к источнику и получение текста книги*<br>\n",
        "Выбор книги выпал на \"Война и Мир\" Л.Н.Толстова, как самая большая по объему. Текст книги есть в интернете. Требуется спарсить текст с сайта<br>\n",
        "*Этап 2: Получение текста, его обрабока и перевод в строку* <br>\n",
        "Разбиваем текст на слова и извлекаем пунктуацию, предлоги, местоимения слова не относящиеся к словам со слогами<br>\n",
        "*Этап 3: Внесение данных для нахождения слогов* <br>\n",
        "Подготовка искомых слогов и счетчиков подсчета<br>\n",
        "*Этап 4: Заготовка Дата-Фрейма* <br>\n",
        "Создаем основу ДатаФрема с нулевыми значениями<br>\n",
        "*Этап 5: Обрабока слов и учет количество слогов* <br>\n",
        "Обработка каждого слова<br>\n",
        "Ссылка на dataframe csv:<br>\n",
        "https://drive.google.com/drive/folders/198CcQ6XPT9pYd3yzQ5QDDwN5IMZRp1pf?usp=sharing<br>\n",
        "*Этап 6: Анализ полученных данных* <br>\n",
        "Получение информации: количественное значиени, графики<br>"
      ],
      "metadata": {
        "id": "s0el7uFrQZGf"
      }
    },
    {
      "cell_type": "markdown",
      "source": [
        "### Подключение библиотек и глобальных переменных"
      ],
      "metadata": {
        "id": "PaYnm71fkVT4"
      }
    },
    {
      "cell_type": "code",
      "source": [
        "import requests # Бибилиотека запросов к web-сервисам\n",
        "from bs4 import BeautifulSoup as bs # Библиотека парсинга web-страниц\n",
        "import pandas as pd # Библиотека для работы с таблицами\n",
        "import numpy as np\n",
        "\n",
        "# Для обработки текста\n",
        "import nltk # Библиотека для работы с текстом\n",
        "from nltk.tokenize import word_tokenize # токенайзер - разбивает непрерывный текст на токены(слова). word_tokenize - для разделения слов на токены.\n",
        "#nltk.download('all')\n",
        "nltk.download('punkt')\n",
        "#nltk.download('stopwords')\n",
        "\n",
        "import string # используем для получения знаков пунктуации"
      ],
      "metadata": {
        "id": "LnY5m4DJkKWz",
        "colab": {
          "base_uri": "https://localhost:8080/"
        },
        "outputId": "0939164f-ba56-4a2d-f870-2183a6419925"
      },
      "execution_count": 1,
      "outputs": [
        {
          "output_type": "stream",
          "name": "stderr",
          "text": [
            "[nltk_data] Downloading package punkt to /root/nltk_data...\n",
            "[nltk_data]   Package punkt is already up-to-date!\n"
          ]
        }
      ]
    },
    {
      "cell_type": "code",
      "source": [
        "# Глобальные переменные\n",
        "URL = 'https://ilibrary.ru' # + index.html - Страница оглавления книг \"Война и Мир\"\n",
        "URL_CHAPTER  = '/text/11/index.html' # страница оглавления\n",
        "URL_ENDINGS = [] # Список окончаний url страниц книги\n",
        "TEXT_BOOK = '' # Полный текст (все слова больше 2 букв) для анализа слогов\n",
        "TOTAL_SLOG = [] # Основа датафрейма из всех возможные варианты слогов, даже те которые противоречат поравилам русского языка\n",
        "vowels = 'ауоыиэяюёе' # гласные буквы\n",
        "consonants = 'бвгджзклмнпрстфхцчшщ' # согласные буквы"
      ],
      "metadata": {
        "id": "S_edf-CqjouU"
      },
      "execution_count": 2,
      "outputs": []
    },
    {
      "cell_type": "markdown",
      "source": [
        "### Этап 1: Подключение к источнику"
      ],
      "metadata": {
        "id": "u11zuKdCj8Hk"
      }
    },
    {
      "cell_type": "code",
      "source": [
        "# Подключение к странице оглавления\n",
        "connect_url = requests.get(URL + URL_CHAPTER)\n",
        "if connect_url.status_code == 200:\n",
        "  text_in_page = connect_url.text\n",
        "else:\n",
        "  print('СТРАНИЦА НЕ ДОСТУПНА')"
      ],
      "metadata": {
        "id": "ayycZLYcQYkn"
      },
      "execution_count": 3,
      "outputs": []
    },
    {
      "cell_type": "code",
      "source": [
        "# Функция проверка существующей ссылки\n",
        "def check_href(href_url):\n",
        "  ''' Проверка значение с пердидущим значением списка'''\n",
        "  #global URL_ENDINGS\n",
        "\n",
        "  if len(URL_ENDINGS) < 1:\n",
        "    URL_ENDINGS.append(href_url)\n",
        "  else:\n",
        "    if href_url != URL_ENDINGS[-1]:\n",
        "      URL_ENDINGS.append(href_url)"
      ],
      "metadata": {
        "id": "KOoLKBQssy7a"
      },
      "execution_count": 4,
      "outputs": []
    },
    {
      "cell_type": "code",
      "source": [
        "# Получение всех страниц книги\n",
        "chapter_page = bs(text_in_page, 'html.parser')\n",
        "href_to_url = chapter_page.find_all('p')\n",
        "for href_one in href_to_url:\n",
        "  check_href(href_one.a['href'])\n",
        "\n",
        "# Проверка количества стра быниц в списке, должноть 361\n",
        "print(len(URL_ENDINGS))   # содержание ['/text/11/p.1/index.html', '/text/11/p.2/index.html', '/text/11/p.3/index.html',...,'/text/11/p.361/index.html']"
      ],
      "metadata": {
        "id": "OKCN7QJLQWUI",
        "colab": {
          "base_uri": "https://localhost:8080/"
        },
        "outputId": "f52b07ed-302d-4839-ae02-e23690762e37"
      },
      "execution_count": 5,
      "outputs": [
        {
          "output_type": "stream",
          "name": "stdout",
          "text": [
            "361\n"
          ]
        }
      ]
    },
    {
      "cell_type": "markdown",
      "source": [
        "#### Этап 2: Получение текста, его обрабока и перевод в строку"
      ],
      "metadata": {
        "id": "rGINL_FJv_va"
      }
    },
    {
      "cell_type": "code",
      "source": [
        "# Списки пунктуации и стоп-слов (предлоги, местоимения и т.п.)\n",
        "my_stop_punct = list(string.punctuation)\n",
        "my_stop_punct = set(my_stop_punct + ['—'] + ['..'] + ['...'] + ['«'] + ['»'])\n",
        "my_stop_not_words = {'abc', 'abcdefghiklmnopqrstuvwxyz', '123456789102030405060708090100110120130140150160'} # несуществующие слова, возможно защита сайта от копирования текста, найдены эмпирически\n",
        "my_stop_words = {'а',\n",
        "                 'без', 'бы', 'будто', 'был', 'была', 'было', 'более',\n",
        "                 'в', 'во', 'вы', 'все', 'всю', 'вас', 'вам', 'всех',\n",
        "                 'где', 'го',\n",
        "                 'да', 'до', 'для',\n",
        "                 'его', 'ее', 'её', 'еще', 'ещё', 'ему', 'ей', 'есть',\n",
        "                 'ж', 'же',\n",
        "                 'за', 'зачем',\n",
        "                 'и', 'их', 'из', 'или', 'им',\n",
        "                 'к', 'ко', 'как', 'кто', 'какой', 'какая', 'куда',\n",
        "                 'ли',\n",
        "                 'мы', 'мне', 'меня', 'моя', 'мой',\n",
        "                 'не', 'ни', 'на', 'но', 'ну', 'нет', 'него', 'ней', 'нее', 'них', 'нами', 'нас', 'над', 'ним', 'нибудь',\n",
        "                 'о', 'он', 'она', 'они', 'от', 'об',\n",
        "                 'по', 'при', 'под', 'потому', 'после', 'про',\n",
        "                 'раз', 'разве',\n",
        "                 'с', 'со', 'сам', 'себе', 'свою',\n",
        "                 'то', 'ты', 'та', 'те', 'так', 'тот', 'тем', 'там', 'тут', 'тебя', 'тоже', 'того', 'том', 'такой',\n",
        "                 'у', 'уж', 'уже',\n",
        "                 'хоть',\n",
        "                 'что', 'чем', 'чтоб', 'чего', 'чуть', 'чтобы',\n",
        "                 'это', 'эти', 'эту', 'этот', 'этого', 'этой', 'этом',\n",
        "                 'я'}"
      ],
      "metadata": {
        "id": "2qjLi7fVwmar"
      },
      "execution_count": 6,
      "outputs": []
    },
    {
      "cell_type": "code",
      "source": [
        "def text_processing(text):\n",
        "  ''' Принимает сырой текст, фильтрует его от знаков пунктуации, несуществущих слов и переводит в нижний регистр'''\n",
        "\n",
        "  words = word_tokenize(text.lower()) # Разбмваем на список слов (токены)\n",
        "  words = [word for word in words if word not in my_stop_punct] # Удаляем знаки пунктуации\n",
        "  words = [word for word in words if word not in my_stop_not_words] # Удаляем стопслова\n",
        "\n",
        "  all_words = ';'.join(words)\n",
        "  return all_words"
      ],
      "metadata": {
        "id": "bXdsq9Q0xEK_"
      },
      "execution_count": 7,
      "outputs": []
    },
    {
      "cell_type": "code",
      "source": [
        "%%time\n",
        "# Получение текта книги с каждой страницы\n",
        "#for URL_ENDING in URL_ENDINGS:\n",
        "for URL_ENDING in URL_ENDINGS[248:250]: # для тестов выберем несколько страниц\n",
        "  print(URL + URL_ENDING) # Получаем ссылку к которой обратились за текстом книги\n",
        "  connect_url_page = requests.get(URL + URL_ENDING)\n",
        "  if connect_url_page.status_code == 200:\n",
        "    text_page = connect_url_page.text\n",
        "    one_page = bs(text_page, 'html.parser')\n",
        "    text_in_url = one_page.find_all('span', class_='p')\n",
        "    for text_one in text_in_url:\n",
        "      TEXT_BOOK = TEXT_BOOK + text_processing(text_one.text) + ';' # Текст в функцию передается построчно до красной строки, так постепенно каждым абзацем наполняем полный текст\n",
        "\n",
        "  else:\n",
        "    print('ALARM!!! Ошибка подключения к странице сайта')"
      ],
      "metadata": {
        "id": "FFWYLn7Wvi1e",
        "colab": {
          "base_uri": "https://localhost:8080/"
        },
        "outputId": "7bccbfa2-fbee-41ce-e9d0-63ce25e611f6"
      },
      "execution_count": 8,
      "outputs": [
        {
          "output_type": "stream",
          "name": "stdout",
          "text": [
            "https://ilibrary.ru/text/11/p.249/index.html\n",
            "https://ilibrary.ru/text/11/p.250/index.html\n",
            "CPU times: user 569 ms, sys: 20.7 ms, total: 589 ms\n",
            "Wall time: 3.35 s\n"
          ]
        }
      ]
    },
    {
      "cell_type": "code",
      "source": [
        "list_TEXT_BOOK = TEXT_BOOK.split(';') # переведем в список для обрабоки\n",
        "quantity_words_in_text = len(list_TEXT_BOOK) # Сколько всего обрабатывается слов\n",
        "print(f'Количество слов в тексте: {quantity_words_in_text}')"
      ],
      "metadata": {
        "colab": {
          "base_uri": "https://localhost:8080/"
        },
        "id": "Ksv7A88u2GGZ",
        "outputId": "d5a6bc30-90bb-44aa-b3af-ad49ee4165f6"
      },
      "execution_count": 9,
      "outputs": [
        {
          "output_type": "stream",
          "name": "stdout",
          "text": [
            "Количество слов в тексте: 3995\n"
          ]
        }
      ]
    },
    {
      "cell_type": "code",
      "source": [
        "#Определить самое длинное слово\n",
        "max_word_in_text = max(list_TEXT_BOOK, key=len)\n",
        "max_len_word_in_text = len(max_word_in_text)\n",
        "# добавить суда проверку дефиса\n",
        "print(f'Самое длинное слово из полного текста: \"{max_word_in_text}\", состоит из: {max_len_word_in_text} букв')"
      ],
      "metadata": {
        "colab": {
          "base_uri": "https://localhost:8080/"
        },
        "id": "dLB3gmV13qO5",
        "outputId": "b992e58e-2ba7-4665-bd2b-8ba8d878fd3e"
      },
      "execution_count": 10,
      "outputs": [
        {
          "output_type": "stream",
          "name": "stdout",
          "text": [
            "Самое длинное слово из полного текста: \"правителю-администратору\", состоит из: 24 букв\n"
          ]
        }
      ]
    },
    {
      "cell_type": "code",
      "source": [
        "# ПРОВЕРКА длинных слов\n",
        "for long_word in list_TEXT_BOOK:\n",
        "  if len(long_word) > 15:\n",
        "    print(long_word)"
      ],
      "metadata": {
        "id": "E9OeYQrIwSDN"
      },
      "execution_count": null,
      "outputs": []
    },
    {
      "cell_type": "code",
      "source": [
        "# ПРОВЕРКА слов на наличие дефисов\n",
        "pp = 0\n",
        "for dash_word in list_TEXT_BOOK:\n",
        "  if '-' in dash_word:\n",
        "    print(dash_word)\n",
        "    pp += 1\n",
        "print(pp)"
      ],
      "metadata": {
        "id": "FM7dA0xBzOal"
      },
      "execution_count": null,
      "outputs": []
    },
    {
      "cell_type": "code",
      "source": [
        "# ПРОВЕРКА слов на наличие символов\n",
        "ppp = 0\n",
        "for dash_word in list_TEXT_BOOK:\n",
        "  for symbol in my_stop_punct:\n",
        "    if symbol in dash_word:\n",
        "      print(dash_word)\n",
        "      ppp += 1\n",
        "print(ppp)"
      ],
      "metadata": {
        "id": "JdPkn4p64h0X"
      },
      "execution_count": null,
      "outputs": []
    },
    {
      "cell_type": "markdown",
      "source": [
        "### Этап 3: Внесение данных для нахождения слогов"
      ],
      "metadata": {
        "id": "2ETLc-8rBnV1"
      }
    },
    {
      "cell_type": "code",
      "source": [
        "# Получим возможные слоги\n",
        "for i in range(2):     # Костыль, чтоб создать 2 раза список из слогов, для разделения обработки полного текста и сокращенного\n",
        "  for consonant in consonants:\n",
        "    for vowel in vowels:\n",
        "      TOTAL_SLOG.append([consonant + vowel]) # Создали список с вложенным (2 уровня) списком слогов.\n",
        "#Вывод [['ба'], ['бу'], ['бо'], ['бы'], ['би'], ['бэ'], ['бя'], ['бю'], ... , ['щё'], ['ще']]"
      ],
      "metadata": {
        "id": "Uidh8e0B751j"
      },
      "execution_count": 12,
      "outputs": []
    },
    {
      "cell_type": "code",
      "source": [
        "len_TOTAL_SLOG = len(TOTAL_SLOG)\n",
        "\n",
        "for quan_slog in range(len_TOTAL_SLOG):\n",
        "  if quan_slog < (len_TOTAL_SLOG / 2):\n",
        "    TOTAL_SLOG[quan_slog].insert(0, 'Полный') # Дополняем вложенный список типом текста Первую половину слогов\n",
        "  else:\n",
        "    TOTAL_SLOG[quan_slog].insert(0, 'Сокращенный') # Дополняем вложенный список типом текста Вторую половину слогов\n",
        "  TOTAL_SLOG[quan_slog].append(0) # Дополняем вложенный список нулевыми значениями совпадений слогов\n",
        "\n",
        "#Вывод [['Полный', 'ба', 0], ['Полный', 'бу', 0], ['Полный', 'бо', 0], ['Полный', 'бы', 0], ... , ['Сокращенный', 'щё', 0], ['Сокращенный', 'ще', 0]]"
      ],
      "metadata": {
        "id": "QGi1IlXgImkM"
      },
      "execution_count": 14,
      "outputs": []
    },
    {
      "cell_type": "markdown",
      "source": [
        "### Этап 4: Заготовка Дата-Фрейма"
      ],
      "metadata": {
        "id": "ifSf7DYl8eMQ"
      }
    },
    {
      "cell_type": "code",
      "source": [
        "DF_SLOG = pd.DataFrame(TOTAL_SLOG, columns=['Текст', 'Слог', 'Частота']) # Сформируем предварительный датафрейм, 0 - тип текста, 1 - слог, 2 - количество совпадений"
      ],
      "metadata": {
        "id": "DPDiXw-u8ifA"
      },
      "execution_count": 15,
      "outputs": []
    },
    {
      "cell_type": "code",
      "source": [
        "#Добавляем колонки справа столько сколько возможно максимальное слово, т.е. от 2 до 28. Заполняем их 0, чтоб потом вести счетчик подсчета\n",
        "for num in range(2, max_len_word_in_text + 1):\n",
        "  DF_SLOG[f'{num} буквы'] = 0"
      ],
      "metadata": {
        "id": "lxeBqDNbDWPr"
      },
      "execution_count": 16,
      "outputs": []
    },
    {
      "cell_type": "code",
      "source": [
        "DF_SLOG.shape"
      ],
      "metadata": {
        "id": "a9Mq15PsDhXJ",
        "colab": {
          "base_uri": "https://localhost:8080/"
        },
        "outputId": "bee76fb0-ec18-4037-b5a8-5055d07c845c"
      },
      "execution_count": 17,
      "outputs": [
        {
          "output_type": "execute_result",
          "data": {
            "text/plain": [
              "(400, 26)"
            ]
          },
          "metadata": {},
          "execution_count": 17
        }
      ]
    },
    {
      "cell_type": "code",
      "source": [
        "DF_SLOG # Заготовка ДатаАрейма готова"
      ],
      "metadata": {
        "id": "clwTiIj_Dha_"
      },
      "execution_count": null,
      "outputs": []
    },
    {
      "cell_type": "markdown",
      "source": [
        "### Этап 5: Обрабока слов и учет количество слогов"
      ],
      "metadata": {
        "id": "NWIOMXz5gH9b"
      }
    },
    {
      "cell_type": "code",
      "source": [
        "def word_processing(current_word, len_current_word):\n",
        "  ''' Функция поиска слогов в слове '''\n",
        "\n",
        "  for index_letter in range(1, len_current_word):\n",
        "\n",
        "    if current_word[index_letter] in vowels and current_word[index_letter - 1] in consonants:  # Поиск слога в слове\n",
        "      slog = current_word[index_letter - 1] + current_word[index_letter]\n",
        "\n",
        "      find_index = DF_SLOG.loc[DF_SLOG.isin([slog]).any(axis=1)].index.tolist() # нахождение индекса в дата фрейме (номера строки) слога\n",
        "\n",
        "      len_current_word_true = len_current_word\n",
        "      if '-' in current_word:\n",
        "        len_current_word_true = len_current_word - current_word.count('-') # поправка количества строк в слове\n",
        "      if \"'\" in current_word:\n",
        "        len_current_word_true -= current_word.count(\"'\") # поправка количества строк в слове\n",
        "\n",
        "      if len_current_word > 2 or ( current_word not in my_stop_words ):  # Если это слово от 3 букв и не входит в стоп слова\n",
        "        DF_SLOG['Частота'][find_index[1]] += 1 # Увеличиваем число находжение слога в колонке частоты совпадений в Сокращенном тексте\n",
        "        DF_SLOG[f'{len_current_word_true} буквы'][find_index[1]] += 1 # Увеличиваем число находжение слога в колонке длины слова где находится слог в Сокращенном тексте\n",
        "\n",
        "      DF_SLOG['Частота'][find_index[0]] += 1 # Увеличиваем число находжение слога в колонке частоты совпадений в Полном тексте\n",
        "      DF_SLOG[f'{len_current_word_true} буквы'][find_index[0]] += 1 # Увеличиваем число находжение слога в колонке длины слова где находится слог в Полном тексте\n"
      ],
      "metadata": {
        "id": "V9pi4S5chXBB"
      },
      "execution_count": 38,
      "outputs": []
    },
    {
      "cell_type": "code",
      "source": [
        "%%time\n",
        "for word_from_list_book in list_TEXT_BOOK:\n",
        "  if len(word_from_list_book) > 1:\n",
        "    word_processing(word_from_list_book, len(word_from_list_book))"
      ],
      "metadata": {
        "id": "n10pktnADho9"
      },
      "execution_count": null,
      "outputs": []
    },
    {
      "cell_type": "code",
      "source": [
        "DF_SLOG"
      ],
      "metadata": {
        "id": "nyp18AQlDhsA"
      },
      "execution_count": null,
      "outputs": []
    },
    {
      "cell_type": "code",
      "source": [
        "DF_SLOG.shape"
      ],
      "metadata": {
        "id": "X04SJuN-h2ax",
        "colab": {
          "base_uri": "https://localhost:8080/"
        },
        "outputId": "eb3add87-3321-4d5f-b343-c6ae5480af5b"
      },
      "execution_count": 41,
      "outputs": [
        {
          "output_type": "execute_result",
          "data": {
            "text/plain": [
              "(400, 26)"
            ]
          },
          "metadata": {},
          "execution_count": 41
        }
      ]
    },
    {
      "cell_type": "code",
      "source": [
        "DF_SLOG_cleare = DF_SLOG.loc[DF_SLOG['Частота'] != 0] # отфильтруем ДатаФрей убрав слоги которые не встречаются\n",
        "DF_SLOG_cleare.shape"
      ],
      "metadata": {
        "id": "DSNK_rpJEkbe",
        "colab": {
          "base_uri": "https://localhost:8080/"
        },
        "outputId": "0bde237a-eeea-4c01-9470-fb577b44d7aa"
      },
      "execution_count": 21,
      "outputs": [
        {
          "output_type": "execute_result",
          "data": {
            "text/plain": [
              "(248, 26)"
            ]
          },
          "metadata": {},
          "execution_count": 21
        }
      ]
    },
    {
      "cell_type": "code",
      "source": [
        "# Сохраняем ДатаФрейм для дальнейшей обработки, чтоб не выгружать его снова\n",
        "DF_SLOG.to_csv('slog_sourse.csv', encoding=\"utf-8-sig\")\n",
        "DF_SLOG_cleare.to_csv('slog_cleare.csv', encoding=\"utf-8-sig\")"
      ],
      "metadata": {
        "id": "iabSqVLOEkek"
      },
      "execution_count": 22,
      "outputs": []
    },
    {
      "cell_type": "markdown",
      "source": [
        "### Этап 6: Анализ полученных данных"
      ],
      "metadata": {
        "id": "aVFGJQdnha2g"
      }
    },
    {
      "cell_type": "code",
      "source": [
        "!gdown --id 1erlFzbvkcHa5iyaLPX4XLW8mNrUaWhYO"
      ],
      "metadata": {
        "colab": {
          "base_uri": "https://localhost:8080/"
        },
        "id": "8l6jGOTKFBI1",
        "outputId": "932e3b25-1133-4ef0-b264-d345c3b1a219"
      },
      "execution_count": null,
      "outputs": [
        {
          "output_type": "stream",
          "name": "stdout",
          "text": [
            "/usr/local/lib/python3.10/dist-packages/gdown/cli.py:121: FutureWarning: Option `--id` was deprecated in version 4.3.1 and will be removed in 5.0. You don't need to pass it anymore to use a file ID.\n",
            "  warnings.warn(\n",
            "Downloading...\n",
            "From: https://drive.google.com/uc?id=1erlFzbvkcHa5iyaLPX4XLW8mNrUaWhYO\n",
            "To: /content/slog_cleare.csv\n",
            "100% 33.2k/33.2k [00:00<00:00, 133MB/s]\n"
          ]
        }
      ]
    },
    {
      "cell_type": "code",
      "source": [
        "# Загрузка датаФрейма\n",
        "DF_SLOG_work = pd.read_csv('/content/slog_cleare.csv')\n",
        "DF_SLOG_work.drop(columns='Unnamed: 0', axis= 1 , inplace= True ) # Удаление стоб"
      ],
      "metadata": {
        "id": "RiX5nkLDhW8o"
      },
      "execution_count": null,
      "outputs": []
    },
    {
      "cell_type": "code",
      "source": [],
      "metadata": {
        "id": "RRcjo1f9FNEy"
      },
      "execution_count": null,
      "outputs": []
    },
    {
      "cell_type": "code",
      "source": [
        "DF_SLOG_work"
      ],
      "metadata": {
        "id": "8RyXqUc5hXCs",
        "colab": {
          "base_uri": "https://localhost:8080/",
          "height": 485
        },
        "outputId": "8ac3e07b-bc51-4517-bda7-8e8f4813e49e"
      },
      "execution_count": null,
      "outputs": [
        {
          "output_type": "execute_result",
          "data": {
            "text/plain": [
              "           Текст Слог  Частота  2 буквы  3 буквы  4 буквы  5 буквы  6 буквы  \\\n",
              "0         Полный   ба     2613        2      109      158      225      361   \n",
              "1         Полный   бу     2769        1       18      155     1171      281   \n",
              "2         Полный   бо     5891        2      207      343     1358     1021   \n",
              "3         Полный   бы    10885     1514     1589     5227     1087      668   \n",
              "4         Полный   би     1947        0       17      101      261      312   \n",
              "..           ...  ...      ...      ...      ...      ...      ...      ...   \n",
              "315  Сокращенный   що        2        0        0        0        0        2   \n",
              "316  Сокращенный   щи     1983        0        3       60      109      187   \n",
              "317  Сокращенный   щэ        1        0        0        0        0        0   \n",
              "318  Сокращенный   щя        1        0        0        0        0        0   \n",
              "319  Сокращенный   ще     3416        0     1170       86      148      149   \n",
              "\n",
              "     7 буквы  8 буквы  ...  19 буквы  20 буквы  21 буквы  22 буквы  23 буквы  \\\n",
              "0        499      595  ...         2         4         0         0         0   \n",
              "1        187      106  ...         1         1         0         1         1   \n",
              "2       1073      566  ...         3         4         2         1         0   \n",
              "3        385      165  ...         0         0         0         0         0   \n",
              "4        484      394  ...         1         0         1         1         0   \n",
              "..       ...      ...  ...       ...       ...       ...       ...       ...   \n",
              "315        0        0  ...         0         0         0         0         0   \n",
              "316      372      238  ...         2         3         2         0         0   \n",
              "317        0        0  ...         0         0         0         0         0   \n",
              "318        1        0  ...         0         0         0         0         0   \n",
              "319      138      404  ...         0         2         1         0         0   \n",
              "\n",
              "     24 буквы  25 буквы  26 буквы  27 буквы  28 буквы  \n",
              "0           0         0         0         0         0  \n",
              "1           0         0         0         0         0  \n",
              "2           1         0         0         0         0  \n",
              "3           0         0         1         0         0  \n",
              "4           0         0         0         0         0  \n",
              "..        ...       ...       ...       ...       ...  \n",
              "315         0         0         0         0         0  \n",
              "316         1         0         0         0         0  \n",
              "317         0         0         0         0         0  \n",
              "318         0         0         0         0         0  \n",
              "319         1         0         0         0         0  \n",
              "\n",
              "[320 rows x 30 columns]"
            ],
            "text/html": [
              "\n",
              "\n",
              "  <div id=\"df-e512c3ea-a593-4e5c-987c-cf189bea28c8\">\n",
              "    <div class=\"colab-df-container\">\n",
              "      <div>\n",
              "<style scoped>\n",
              "    .dataframe tbody tr th:only-of-type {\n",
              "        vertical-align: middle;\n",
              "    }\n",
              "\n",
              "    .dataframe tbody tr th {\n",
              "        vertical-align: top;\n",
              "    }\n",
              "\n",
              "    .dataframe thead th {\n",
              "        text-align: right;\n",
              "    }\n",
              "</style>\n",
              "<table border=\"1\" class=\"dataframe\">\n",
              "  <thead>\n",
              "    <tr style=\"text-align: right;\">\n",
              "      <th></th>\n",
              "      <th>Текст</th>\n",
              "      <th>Слог</th>\n",
              "      <th>Частота</th>\n",
              "      <th>2 буквы</th>\n",
              "      <th>3 буквы</th>\n",
              "      <th>4 буквы</th>\n",
              "      <th>5 буквы</th>\n",
              "      <th>6 буквы</th>\n",
              "      <th>7 буквы</th>\n",
              "      <th>8 буквы</th>\n",
              "      <th>...</th>\n",
              "      <th>19 буквы</th>\n",
              "      <th>20 буквы</th>\n",
              "      <th>21 буквы</th>\n",
              "      <th>22 буквы</th>\n",
              "      <th>23 буквы</th>\n",
              "      <th>24 буквы</th>\n",
              "      <th>25 буквы</th>\n",
              "      <th>26 буквы</th>\n",
              "      <th>27 буквы</th>\n",
              "      <th>28 буквы</th>\n",
              "    </tr>\n",
              "  </thead>\n",
              "  <tbody>\n",
              "    <tr>\n",
              "      <th>0</th>\n",
              "      <td>Полный</td>\n",
              "      <td>ба</td>\n",
              "      <td>2613</td>\n",
              "      <td>2</td>\n",
              "      <td>109</td>\n",
              "      <td>158</td>\n",
              "      <td>225</td>\n",
              "      <td>361</td>\n",
              "      <td>499</td>\n",
              "      <td>595</td>\n",
              "      <td>...</td>\n",
              "      <td>2</td>\n",
              "      <td>4</td>\n",
              "      <td>0</td>\n",
              "      <td>0</td>\n",
              "      <td>0</td>\n",
              "      <td>0</td>\n",
              "      <td>0</td>\n",
              "      <td>0</td>\n",
              "      <td>0</td>\n",
              "      <td>0</td>\n",
              "    </tr>\n",
              "    <tr>\n",
              "      <th>1</th>\n",
              "      <td>Полный</td>\n",
              "      <td>бу</td>\n",
              "      <td>2769</td>\n",
              "      <td>1</td>\n",
              "      <td>18</td>\n",
              "      <td>155</td>\n",
              "      <td>1171</td>\n",
              "      <td>281</td>\n",
              "      <td>187</td>\n",
              "      <td>106</td>\n",
              "      <td>...</td>\n",
              "      <td>1</td>\n",
              "      <td>1</td>\n",
              "      <td>0</td>\n",
              "      <td>1</td>\n",
              "      <td>1</td>\n",
              "      <td>0</td>\n",
              "      <td>0</td>\n",
              "      <td>0</td>\n",
              "      <td>0</td>\n",
              "      <td>0</td>\n",
              "    </tr>\n",
              "    <tr>\n",
              "      <th>2</th>\n",
              "      <td>Полный</td>\n",
              "      <td>бо</td>\n",
              "      <td>5891</td>\n",
              "      <td>2</td>\n",
              "      <td>207</td>\n",
              "      <td>343</td>\n",
              "      <td>1358</td>\n",
              "      <td>1021</td>\n",
              "      <td>1073</td>\n",
              "      <td>566</td>\n",
              "      <td>...</td>\n",
              "      <td>3</td>\n",
              "      <td>4</td>\n",
              "      <td>2</td>\n",
              "      <td>1</td>\n",
              "      <td>0</td>\n",
              "      <td>1</td>\n",
              "      <td>0</td>\n",
              "      <td>0</td>\n",
              "      <td>0</td>\n",
              "      <td>0</td>\n",
              "    </tr>\n",
              "    <tr>\n",
              "      <th>3</th>\n",
              "      <td>Полный</td>\n",
              "      <td>бы</td>\n",
              "      <td>10885</td>\n",
              "      <td>1514</td>\n",
              "      <td>1589</td>\n",
              "      <td>5227</td>\n",
              "      <td>1087</td>\n",
              "      <td>668</td>\n",
              "      <td>385</td>\n",
              "      <td>165</td>\n",
              "      <td>...</td>\n",
              "      <td>0</td>\n",
              "      <td>0</td>\n",
              "      <td>0</td>\n",
              "      <td>0</td>\n",
              "      <td>0</td>\n",
              "      <td>0</td>\n",
              "      <td>0</td>\n",
              "      <td>1</td>\n",
              "      <td>0</td>\n",
              "      <td>0</td>\n",
              "    </tr>\n",
              "    <tr>\n",
              "      <th>4</th>\n",
              "      <td>Полный</td>\n",
              "      <td>би</td>\n",
              "      <td>1947</td>\n",
              "      <td>0</td>\n",
              "      <td>17</td>\n",
              "      <td>101</td>\n",
              "      <td>261</td>\n",
              "      <td>312</td>\n",
              "      <td>484</td>\n",
              "      <td>394</td>\n",
              "      <td>...</td>\n",
              "      <td>1</td>\n",
              "      <td>0</td>\n",
              "      <td>1</td>\n",
              "      <td>1</td>\n",
              "      <td>0</td>\n",
              "      <td>0</td>\n",
              "      <td>0</td>\n",
              "      <td>0</td>\n",
              "      <td>0</td>\n",
              "      <td>0</td>\n",
              "    </tr>\n",
              "    <tr>\n",
              "      <th>...</th>\n",
              "      <td>...</td>\n",
              "      <td>...</td>\n",
              "      <td>...</td>\n",
              "      <td>...</td>\n",
              "      <td>...</td>\n",
              "      <td>...</td>\n",
              "      <td>...</td>\n",
              "      <td>...</td>\n",
              "      <td>...</td>\n",
              "      <td>...</td>\n",
              "      <td>...</td>\n",
              "      <td>...</td>\n",
              "      <td>...</td>\n",
              "      <td>...</td>\n",
              "      <td>...</td>\n",
              "      <td>...</td>\n",
              "      <td>...</td>\n",
              "      <td>...</td>\n",
              "      <td>...</td>\n",
              "      <td>...</td>\n",
              "      <td>...</td>\n",
              "    </tr>\n",
              "    <tr>\n",
              "      <th>315</th>\n",
              "      <td>Сокращенный</td>\n",
              "      <td>що</td>\n",
              "      <td>2</td>\n",
              "      <td>0</td>\n",
              "      <td>0</td>\n",
              "      <td>0</td>\n",
              "      <td>0</td>\n",
              "      <td>2</td>\n",
              "      <td>0</td>\n",
              "      <td>0</td>\n",
              "      <td>...</td>\n",
              "      <td>0</td>\n",
              "      <td>0</td>\n",
              "      <td>0</td>\n",
              "      <td>0</td>\n",
              "      <td>0</td>\n",
              "      <td>0</td>\n",
              "      <td>0</td>\n",
              "      <td>0</td>\n",
              "      <td>0</td>\n",
              "      <td>0</td>\n",
              "    </tr>\n",
              "    <tr>\n",
              "      <th>316</th>\n",
              "      <td>Сокращенный</td>\n",
              "      <td>щи</td>\n",
              "      <td>1983</td>\n",
              "      <td>0</td>\n",
              "      <td>3</td>\n",
              "      <td>60</td>\n",
              "      <td>109</td>\n",
              "      <td>187</td>\n",
              "      <td>372</td>\n",
              "      <td>238</td>\n",
              "      <td>...</td>\n",
              "      <td>2</td>\n",
              "      <td>3</td>\n",
              "      <td>2</td>\n",
              "      <td>0</td>\n",
              "      <td>0</td>\n",
              "      <td>1</td>\n",
              "      <td>0</td>\n",
              "      <td>0</td>\n",
              "      <td>0</td>\n",
              "      <td>0</td>\n",
              "    </tr>\n",
              "    <tr>\n",
              "      <th>317</th>\n",
              "      <td>Сокращенный</td>\n",
              "      <td>щэ</td>\n",
              "      <td>1</td>\n",
              "      <td>0</td>\n",
              "      <td>0</td>\n",
              "      <td>0</td>\n",
              "      <td>0</td>\n",
              "      <td>0</td>\n",
              "      <td>0</td>\n",
              "      <td>0</td>\n",
              "      <td>...</td>\n",
              "      <td>0</td>\n",
              "      <td>0</td>\n",
              "      <td>0</td>\n",
              "      <td>0</td>\n",
              "      <td>0</td>\n",
              "      <td>0</td>\n",
              "      <td>0</td>\n",
              "      <td>0</td>\n",
              "      <td>0</td>\n",
              "      <td>0</td>\n",
              "    </tr>\n",
              "    <tr>\n",
              "      <th>318</th>\n",
              "      <td>Сокращенный</td>\n",
              "      <td>щя</td>\n",
              "      <td>1</td>\n",
              "      <td>0</td>\n",
              "      <td>0</td>\n",
              "      <td>0</td>\n",
              "      <td>0</td>\n",
              "      <td>0</td>\n",
              "      <td>1</td>\n",
              "      <td>0</td>\n",
              "      <td>...</td>\n",
              "      <td>0</td>\n",
              "      <td>0</td>\n",
              "      <td>0</td>\n",
              "      <td>0</td>\n",
              "      <td>0</td>\n",
              "      <td>0</td>\n",
              "      <td>0</td>\n",
              "      <td>0</td>\n",
              "      <td>0</td>\n",
              "      <td>0</td>\n",
              "    </tr>\n",
              "    <tr>\n",
              "      <th>319</th>\n",
              "      <td>Сокращенный</td>\n",
              "      <td>ще</td>\n",
              "      <td>3416</td>\n",
              "      <td>0</td>\n",
              "      <td>1170</td>\n",
              "      <td>86</td>\n",
              "      <td>148</td>\n",
              "      <td>149</td>\n",
              "      <td>138</td>\n",
              "      <td>404</td>\n",
              "      <td>...</td>\n",
              "      <td>0</td>\n",
              "      <td>2</td>\n",
              "      <td>1</td>\n",
              "      <td>0</td>\n",
              "      <td>0</td>\n",
              "      <td>1</td>\n",
              "      <td>0</td>\n",
              "      <td>0</td>\n",
              "      <td>0</td>\n",
              "      <td>0</td>\n",
              "    </tr>\n",
              "  </tbody>\n",
              "</table>\n",
              "<p>320 rows × 30 columns</p>\n",
              "</div>\n",
              "      <button class=\"colab-df-convert\" onclick=\"convertToInteractive('df-e512c3ea-a593-4e5c-987c-cf189bea28c8')\"\n",
              "              title=\"Convert this dataframe to an interactive table.\"\n",
              "              style=\"display:none;\">\n",
              "\n",
              "  <svg xmlns=\"http://www.w3.org/2000/svg\" height=\"24px\"viewBox=\"0 0 24 24\"\n",
              "       width=\"24px\">\n",
              "    <path d=\"M0 0h24v24H0V0z\" fill=\"none\"/>\n",
              "    <path d=\"M18.56 5.44l.94 2.06.94-2.06 2.06-.94-2.06-.94-.94-2.06-.94 2.06-2.06.94zm-11 1L8.5 8.5l.94-2.06 2.06-.94-2.06-.94L8.5 2.5l-.94 2.06-2.06.94zm10 10l.94 2.06.94-2.06 2.06-.94-2.06-.94-.94-2.06-.94 2.06-2.06.94z\"/><path d=\"M17.41 7.96l-1.37-1.37c-.4-.4-.92-.59-1.43-.59-.52 0-1.04.2-1.43.59L10.3 9.45l-7.72 7.72c-.78.78-.78 2.05 0 2.83L4 21.41c.39.39.9.59 1.41.59.51 0 1.02-.2 1.41-.59l7.78-7.78 2.81-2.81c.8-.78.8-2.07 0-2.86zM5.41 20L4 18.59l7.72-7.72 1.47 1.35L5.41 20z\"/>\n",
              "  </svg>\n",
              "      </button>\n",
              "\n",
              "\n",
              "\n",
              "    <div id=\"df-9023feda-1e18-42f1-bcdc-8bbe35ee2c9f\">\n",
              "      <button class=\"colab-df-quickchart\" onclick=\"quickchart('df-9023feda-1e18-42f1-bcdc-8bbe35ee2c9f')\"\n",
              "              title=\"Suggest charts.\"\n",
              "              style=\"display:none;\">\n",
              "\n",
              "<svg xmlns=\"http://www.w3.org/2000/svg\" height=\"24px\"viewBox=\"0 0 24 24\"\n",
              "     width=\"24px\">\n",
              "    <g>\n",
              "        <path d=\"M19 3H5c-1.1 0-2 .9-2 2v14c0 1.1.9 2 2 2h14c1.1 0 2-.9 2-2V5c0-1.1-.9-2-2-2zM9 17H7v-7h2v7zm4 0h-2V7h2v10zm4 0h-2v-4h2v4z\"/>\n",
              "    </g>\n",
              "</svg>\n",
              "      </button>\n",
              "    </div>\n",
              "\n",
              "<style>\n",
              "  .colab-df-quickchart {\n",
              "    background-color: #E8F0FE;\n",
              "    border: none;\n",
              "    border-radius: 50%;\n",
              "    cursor: pointer;\n",
              "    display: none;\n",
              "    fill: #1967D2;\n",
              "    height: 32px;\n",
              "    padding: 0 0 0 0;\n",
              "    width: 32px;\n",
              "  }\n",
              "\n",
              "  .colab-df-quickchart:hover {\n",
              "    background-color: #E2EBFA;\n",
              "    box-shadow: 0px 1px 2px rgba(60, 64, 67, 0.3), 0px 1px 3px 1px rgba(60, 64, 67, 0.15);\n",
              "    fill: #174EA6;\n",
              "  }\n",
              "\n",
              "  [theme=dark] .colab-df-quickchart {\n",
              "    background-color: #3B4455;\n",
              "    fill: #D2E3FC;\n",
              "  }\n",
              "\n",
              "  [theme=dark] .colab-df-quickchart:hover {\n",
              "    background-color: #434B5C;\n",
              "    box-shadow: 0px 1px 3px 1px rgba(0, 0, 0, 0.15);\n",
              "    filter: drop-shadow(0px 1px 2px rgba(0, 0, 0, 0.3));\n",
              "    fill: #FFFFFF;\n",
              "  }\n",
              "</style>\n",
              "\n",
              "    <script>\n",
              "      async function quickchart(key) {\n",
              "        const containerElement = document.querySelector('#' + key);\n",
              "        const charts = await google.colab.kernel.invokeFunction(\n",
              "            'suggestCharts', [key], {});\n",
              "      }\n",
              "    </script>\n",
              "\n",
              "      <script>\n",
              "\n",
              "function displayQuickchartButton(domScope) {\n",
              "  let quickchartButtonEl =\n",
              "    domScope.querySelector('#df-9023feda-1e18-42f1-bcdc-8bbe35ee2c9f button.colab-df-quickchart');\n",
              "  quickchartButtonEl.style.display =\n",
              "    google.colab.kernel.accessAllowed ? 'block' : 'none';\n",
              "}\n",
              "\n",
              "        displayQuickchartButton(document);\n",
              "      </script>\n",
              "      <style>\n",
              "    .colab-df-container {\n",
              "      display:flex;\n",
              "      flex-wrap:wrap;\n",
              "      gap: 12px;\n",
              "    }\n",
              "\n",
              "    .colab-df-convert {\n",
              "      background-color: #E8F0FE;\n",
              "      border: none;\n",
              "      border-radius: 50%;\n",
              "      cursor: pointer;\n",
              "      display: none;\n",
              "      fill: #1967D2;\n",
              "      height: 32px;\n",
              "      padding: 0 0 0 0;\n",
              "      width: 32px;\n",
              "    }\n",
              "\n",
              "    .colab-df-convert:hover {\n",
              "      background-color: #E2EBFA;\n",
              "      box-shadow: 0px 1px 2px rgba(60, 64, 67, 0.3), 0px 1px 3px 1px rgba(60, 64, 67, 0.15);\n",
              "      fill: #174EA6;\n",
              "    }\n",
              "\n",
              "    [theme=dark] .colab-df-convert {\n",
              "      background-color: #3B4455;\n",
              "      fill: #D2E3FC;\n",
              "    }\n",
              "\n",
              "    [theme=dark] .colab-df-convert:hover {\n",
              "      background-color: #434B5C;\n",
              "      box-shadow: 0px 1px 3px 1px rgba(0, 0, 0, 0.15);\n",
              "      filter: drop-shadow(0px 1px 2px rgba(0, 0, 0, 0.3));\n",
              "      fill: #FFFFFF;\n",
              "    }\n",
              "  </style>\n",
              "\n",
              "      <script>\n",
              "        const buttonEl =\n",
              "          document.querySelector('#df-e512c3ea-a593-4e5c-987c-cf189bea28c8 button.colab-df-convert');\n",
              "        buttonEl.style.display =\n",
              "          google.colab.kernel.accessAllowed ? 'block' : 'none';\n",
              "\n",
              "        async function convertToInteractive(key) {\n",
              "          const element = document.querySelector('#df-e512c3ea-a593-4e5c-987c-cf189bea28c8');\n",
              "          const dataTable =\n",
              "            await google.colab.kernel.invokeFunction('convertToInteractive',\n",
              "                                                     [key], {});\n",
              "          if (!dataTable) return;\n",
              "\n",
              "          const docLinkHtml = 'Like what you see? Visit the ' +\n",
              "            '<a target=\"_blank\" href=https://colab.research.google.com/notebooks/data_table.ipynb>data table notebook</a>'\n",
              "            + ' to learn more about interactive tables.';\n",
              "          element.innerHTML = '';\n",
              "          dataTable['output_type'] = 'display_data';\n",
              "          await google.colab.output.renderOutput(dataTable, element);\n",
              "          const docLink = document.createElement('div');\n",
              "          docLink.innerHTML = docLinkHtml;\n",
              "          element.appendChild(docLink);\n",
              "        }\n",
              "      </script>\n",
              "    </div>\n",
              "  </div>\n"
            ]
          },
          "metadata": {},
          "execution_count": 11
        }
      ]
    },
    {
      "cell_type": "code",
      "source": [
        "DF_SLOG_work.groupby('Слог')['Частота'].mean()"
      ],
      "metadata": {
        "colab": {
          "base_uri": "https://localhost:8080/"
        },
        "id": "fcEqpxBi6sjH",
        "outputId": "c63cfeb3-55be-42ce-830f-c192cbf1a4ac"
      },
      "execution_count": null,
      "outputs": [
        {
          "output_type": "execute_result",
          "data": {
            "text/plain": [
              "Слог\n",
              "ба    2613.0\n",
              "бе    5682.0\n",
              "би    1947.0\n",
              "бо    5891.0\n",
              "бу    2769.0\n",
              "       ...  \n",
              "щи    1983.0\n",
              "що       2.0\n",
              "щу     242.0\n",
              "щэ       1.0\n",
              "щя       1.0\n",
              "Name: Частота, Length: 160, dtype: float64"
            ]
          },
          "metadata": {},
          "execution_count": 8
        }
      ]
    },
    {
      "cell_type": "code",
      "source": [],
      "metadata": {
        "id": "q-ApkpJe6slv"
      },
      "execution_count": null,
      "outputs": []
    },
    {
      "cell_type": "code",
      "source": [],
      "metadata": {
        "id": "DcRbNpSDhXKZ"
      },
      "execution_count": null,
      "outputs": []
    },
    {
      "cell_type": "markdown",
      "source": [],
      "metadata": {
        "id": "retUc-uwEjgU"
      }
    },
    {
      "cell_type": "code",
      "source": [
        "find_index = DF_SLOG.loc[DF_SLOG.isin(['вю']).any(axis=1)].index.tolist()"
      ],
      "metadata": {
        "id": "X_Vb8j1dDhuq"
      },
      "execution_count": null,
      "outputs": []
    },
    {
      "cell_type": "code",
      "source": [
        "find_index[1]"
      ],
      "metadata": {
        "id": "KB8SFffPDhxk",
        "colab": {
          "base_uri": "https://localhost:8080/"
        },
        "outputId": "e6a2dbb1-c864-431a-c037-ed1987dbf1ec"
      },
      "execution_count": null,
      "outputs": [
        {
          "output_type": "execute_result",
          "data": {
            "text/plain": [
              "217"
            ]
          },
          "metadata": {},
          "execution_count": 31
        }
      ]
    },
    {
      "cell_type": "markdown",
      "source": [
        "###Черновик"
      ],
      "metadata": {
        "id": "vvijxpvg9lVe"
      }
    },
    {
      "cell_type": "code",
      "source": [
        "list_x = [['ба'],\n",
        " ['бу'],\n",
        " ['бо'],\n",
        " ['бы'],\n",
        " ['би'],\n",
        " ['бэ'],\n",
        " ['бя'],\n",
        " ['бю'],\n",
        " ['бё'],\n",
        " ['бе'],\n",
        " ['ва'],\n",
        " ['ву'],\n",
        " ['во'],\n",
        " ['вы'],\n",
        " ['ви'],\n",
        " ['вэ'],\n",
        " ['вя'],\n",
        " ['вю'],\n",
        " ['вё'],\n",
        " ['ве']]"
      ],
      "metadata": {
        "id": "PpuqF4St_Amd"
      },
      "execution_count": null,
      "outputs": []
    },
    {
      "cell_type": "code",
      "source": [
        "list_x_double = list_x * 2"
      ],
      "metadata": {
        "id": "1pxqUtwmKE0s"
      },
      "execution_count": null,
      "outputs": []
    },
    {
      "cell_type": "code",
      "source": [
        "list_x"
      ],
      "metadata": {
        "colab": {
          "base_uri": "https://localhost:8080/"
        },
        "id": "Z3TunwlOKH2d",
        "outputId": "17d4b774-2188-400b-e0c4-cce85611dba5"
      },
      "execution_count": null,
      "outputs": [
        {
          "output_type": "execute_result",
          "data": {
            "text/plain": [
              "[['ба'],\n",
              " ['бу'],\n",
              " ['бо'],\n",
              " ['бы'],\n",
              " ['би'],\n",
              " ['бэ'],\n",
              " ['бя'],\n",
              " ['бю'],\n",
              " ['бё'],\n",
              " ['бе'],\n",
              " ['ва'],\n",
              " ['ву'],\n",
              " ['во'],\n",
              " ['вы'],\n",
              " ['ви'],\n",
              " ['вэ'],\n",
              " ['вя'],\n",
              " ['вю'],\n",
              " ['вё'],\n",
              " ['ве']]"
            ]
          },
          "metadata": {},
          "execution_count": 12
        }
      ]
    },
    {
      "cell_type": "code",
      "source": [
        "list_x_double"
      ],
      "metadata": {
        "colab": {
          "base_uri": "https://localhost:8080/"
        },
        "id": "26JDWM0bLOpD",
        "outputId": "8e724298-7835-4baa-e8fd-ae0248deb0c1"
      },
      "execution_count": null,
      "outputs": [
        {
          "output_type": "execute_result",
          "data": {
            "text/plain": [
              "[['ба'],\n",
              " ['бу'],\n",
              " ['бо'],\n",
              " ['бы'],\n",
              " ['би'],\n",
              " ['бэ'],\n",
              " ['бя'],\n",
              " ['бю'],\n",
              " ['бё'],\n",
              " ['бе'],\n",
              " ['ва'],\n",
              " ['ву'],\n",
              " ['во'],\n",
              " ['вы'],\n",
              " ['ви'],\n",
              " ['вэ'],\n",
              " ['вя'],\n",
              " ['вю'],\n",
              " ['вё'],\n",
              " ['ве'],\n",
              " ['ба'],\n",
              " ['бу'],\n",
              " ['бо'],\n",
              " ['бы'],\n",
              " ['би'],\n",
              " ['бэ'],\n",
              " ['бя'],\n",
              " ['бю'],\n",
              " ['бё'],\n",
              " ['бе'],\n",
              " ['ва'],\n",
              " ['ву'],\n",
              " ['во'],\n",
              " ['вы'],\n",
              " ['ви'],\n",
              " ['вэ'],\n",
              " ['вя'],\n",
              " ['вю'],\n",
              " ['вё'],\n",
              " ['ве']]"
            ]
          },
          "metadata": {},
          "execution_count": 13
        }
      ]
    },
    {
      "cell_type": "code",
      "source": [
        "len_x = len(list_x_double)"
      ],
      "metadata": {
        "id": "xRdki39ELTa1"
      },
      "execution_count": null,
      "outputs": []
    },
    {
      "cell_type": "code",
      "source": [
        "len_x"
      ],
      "metadata": {
        "id": "9LCZLrK0IaB5",
        "colab": {
          "base_uri": "https://localhost:8080/"
        },
        "outputId": "6ae627f9-ebd3-4c9f-9098-e2a74dcd5ebd"
      },
      "execution_count": null,
      "outputs": [
        {
          "output_type": "execute_result",
          "data": {
            "text/plain": [
              "40"
            ]
          },
          "metadata": {},
          "execution_count": 15
        }
      ]
    },
    {
      "cell_type": "code",
      "source": [
        "for d in range(len_x):\n",
        "  if d < (len_x / 2 + 1):\n",
        "    list_x_double[d].insert(0, 'Полный') # Дополняем вложенный список типом текста Первую половину слогов\n",
        "    print(f'Добавляем ПОЛНЫЙ номер: {d}')\n",
        "  else:\n",
        "    list_x_double[d].insert(0, 'Сокращенный') # Дополняем вложенный список типом текста Вторую половину слогов\n",
        "    print(f'Добавляем Сокращенный номер: {d}')\n",
        "  list_x_double[d].append(0) # Дополняем вложенный список нулевыми значениями совпадений слогов\n",
        "  print(f'присваеваем 0: {d}')"
      ],
      "metadata": {
        "colab": {
          "base_uri": "https://localhost:8080/"
        },
        "id": "yUxwJpnVLY0h",
        "outputId": "6249a828-07f5-4d22-9a32-1f99c608a72a"
      },
      "execution_count": null,
      "outputs": [
        {
          "output_type": "stream",
          "name": "stdout",
          "text": [
            "Добавляем ПОЛНЫЙ номер: 0\n",
            "присваеваем 0: 0\n",
            "Добавляем ПОЛНЫЙ номер: 1\n",
            "присваеваем 0: 1\n",
            "Добавляем ПОЛНЫЙ номер: 2\n",
            "присваеваем 0: 2\n",
            "Добавляем ПОЛНЫЙ номер: 3\n",
            "присваеваем 0: 3\n",
            "Добавляем ПОЛНЫЙ номер: 4\n",
            "присваеваем 0: 4\n",
            "Добавляем ПОЛНЫЙ номер: 5\n",
            "присваеваем 0: 5\n",
            "Добавляем ПОЛНЫЙ номер: 6\n",
            "присваеваем 0: 6\n",
            "Добавляем ПОЛНЫЙ номер: 7\n",
            "присваеваем 0: 7\n",
            "Добавляем ПОЛНЫЙ номер: 8\n",
            "присваеваем 0: 8\n",
            "Добавляем ПОЛНЫЙ номер: 9\n",
            "присваеваем 0: 9\n",
            "Добавляем ПОЛНЫЙ номер: 10\n",
            "присваеваем 0: 10\n",
            "Добавляем ПОЛНЫЙ номер: 11\n",
            "присваеваем 0: 11\n",
            "Добавляем ПОЛНЫЙ номер: 12\n",
            "присваеваем 0: 12\n",
            "Добавляем ПОЛНЫЙ номер: 13\n",
            "присваеваем 0: 13\n",
            "Добавляем ПОЛНЫЙ номер: 14\n",
            "присваеваем 0: 14\n",
            "Добавляем ПОЛНЫЙ номер: 15\n",
            "присваеваем 0: 15\n",
            "Добавляем ПОЛНЫЙ номер: 16\n",
            "присваеваем 0: 16\n",
            "Добавляем ПОЛНЫЙ номер: 17\n",
            "присваеваем 0: 17\n",
            "Добавляем ПОЛНЫЙ номер: 18\n",
            "присваеваем 0: 18\n",
            "Добавляем ПОЛНЫЙ номер: 19\n",
            "присваеваем 0: 19\n",
            "Добавляем ПОЛНЫЙ номер: 20\n",
            "присваеваем 0: 20\n",
            "Добавляем Сокращенный номер: 21\n",
            "присваеваем 0: 21\n",
            "Добавляем Сокращенный номер: 22\n",
            "присваеваем 0: 22\n",
            "Добавляем Сокращенный номер: 23\n",
            "присваеваем 0: 23\n",
            "Добавляем Сокращенный номер: 24\n",
            "присваеваем 0: 24\n",
            "Добавляем Сокращенный номер: 25\n",
            "присваеваем 0: 25\n",
            "Добавляем Сокращенный номер: 26\n",
            "присваеваем 0: 26\n",
            "Добавляем Сокращенный номер: 27\n",
            "присваеваем 0: 27\n",
            "Добавляем Сокращенный номер: 28\n",
            "присваеваем 0: 28\n",
            "Добавляем Сокращенный номер: 29\n",
            "присваеваем 0: 29\n",
            "Добавляем Сокращенный номер: 30\n",
            "присваеваем 0: 30\n",
            "Добавляем Сокращенный номер: 31\n",
            "присваеваем 0: 31\n",
            "Добавляем Сокращенный номер: 32\n",
            "присваеваем 0: 32\n",
            "Добавляем Сокращенный номер: 33\n",
            "присваеваем 0: 33\n",
            "Добавляем Сокращенный номер: 34\n",
            "присваеваем 0: 34\n",
            "Добавляем Сокращенный номер: 35\n",
            "присваеваем 0: 35\n",
            "Добавляем Сокращенный номер: 36\n",
            "присваеваем 0: 36\n",
            "Добавляем Сокращенный номер: 37\n",
            "присваеваем 0: 37\n",
            "Добавляем Сокращенный номер: 38\n",
            "присваеваем 0: 38\n",
            "Добавляем Сокращенный номер: 39\n",
            "присваеваем 0: 39\n"
          ]
        }
      ]
    },
    {
      "cell_type": "code",
      "source": [
        "list_x_double"
      ],
      "metadata": {
        "colab": {
          "base_uri": "https://localhost:8080/"
        },
        "id": "T_6gE54p_H70",
        "outputId": "9b44c4e9-d901-41ff-f9e9-e0716c605a12"
      },
      "execution_count": null,
      "outputs": [
        {
          "output_type": "execute_result",
          "data": {
            "text/plain": [
              "[['Полный', 'Полный', 'ба', 0, 0],\n",
              " ['Сокращенный', 'Полный', 'бу', 0, 0],\n",
              " ['Сокращенный', 'Полный', 'бо', 0, 0],\n",
              " ['Сокращенный', 'Полный', 'бы', 0, 0],\n",
              " ['Сокращенный', 'Полный', 'би', 0, 0],\n",
              " ['Сокращенный', 'Полный', 'бэ', 0, 0],\n",
              " ['Сокращенный', 'Полный', 'бя', 0, 0],\n",
              " ['Сокращенный', 'Полный', 'бю', 0, 0],\n",
              " ['Сокращенный', 'Полный', 'бё', 0, 0],\n",
              " ['Сокращенный', 'Полный', 'бе', 0, 0],\n",
              " ['Сокращенный', 'Полный', 'ва', 0, 0],\n",
              " ['Сокращенный', 'Полный', 'ву', 0, 0],\n",
              " ['Сокращенный', 'Полный', 'во', 0, 0],\n",
              " ['Сокращенный', 'Полный', 'вы', 0, 0],\n",
              " ['Сокращенный', 'Полный', 'ви', 0, 0],\n",
              " ['Сокращенный', 'Полный', 'вэ', 0, 0],\n",
              " ['Сокращенный', 'Полный', 'вя', 0, 0],\n",
              " ['Сокращенный', 'Полный', 'вю', 0, 0],\n",
              " ['Сокращенный', 'Полный', 'вё', 0, 0],\n",
              " ['Сокращенный', 'Полный', 'ве', 0, 0],\n",
              " ['Полный', 'Полный', 'ба', 0, 0],\n",
              " ['Сокращенный', 'Полный', 'бу', 0, 0],\n",
              " ['Сокращенный', 'Полный', 'бо', 0, 0],\n",
              " ['Сокращенный', 'Полный', 'бы', 0, 0],\n",
              " ['Сокращенный', 'Полный', 'би', 0, 0],\n",
              " ['Сокращенный', 'Полный', 'бэ', 0, 0],\n",
              " ['Сокращенный', 'Полный', 'бя', 0, 0],\n",
              " ['Сокращенный', 'Полный', 'бю', 0, 0],\n",
              " ['Сокращенный', 'Полный', 'бё', 0, 0],\n",
              " ['Сокращенный', 'Полный', 'бе', 0, 0],\n",
              " ['Сокращенный', 'Полный', 'ва', 0, 0],\n",
              " ['Сокращенный', 'Полный', 'ву', 0, 0],\n",
              " ['Сокращенный', 'Полный', 'во', 0, 0],\n",
              " ['Сокращенный', 'Полный', 'вы', 0, 0],\n",
              " ['Сокращенный', 'Полный', 'ви', 0, 0],\n",
              " ['Сокращенный', 'Полный', 'вэ', 0, 0],\n",
              " ['Сокращенный', 'Полный', 'вя', 0, 0],\n",
              " ['Сокращенный', 'Полный', 'вю', 0, 0],\n",
              " ['Сокращенный', 'Полный', 'вё', 0, 0],\n",
              " ['Сокращенный', 'Полный', 'ве', 0, 0]]"
            ]
          },
          "metadata": {},
          "execution_count": 17
        }
      ]
    },
    {
      "cell_type": "code",
      "source": [
        "list_x.insert(0, 'sds')"
      ],
      "metadata": {
        "id": "U859Zy55B95f"
      },
      "execution_count": null,
      "outputs": []
    },
    {
      "cell_type": "code",
      "source": [],
      "metadata": {
        "id": "NFQpfakXMBtr"
      },
      "execution_count": null,
      "outputs": []
    },
    {
      "cell_type": "code",
      "source": [
        "for s in range(2):\n",
        "  print(s)"
      ],
      "metadata": {
        "colab": {
          "base_uri": "https://localhost:8080/"
        },
        "id": "Zq_fZpllMBwD",
        "outputId": "815753aa-dbb8-4346-c0a1-7b2d853186e1"
      },
      "execution_count": null,
      "outputs": [
        {
          "output_type": "stream",
          "name": "stdout",
          "text": [
            "0\n",
            "1\n"
          ]
        }
      ]
    },
    {
      "cell_type": "code",
      "source": [
        "g = 'ауоыиэяюёе' # гласные буквы\n",
        "s = 'бвгджзклмнпрстфхцчшщ' # согласные буквы\n",
        "TS = []"
      ],
      "metadata": {
        "id": "YHlO5qDMEOWB"
      },
      "execution_count": null,
      "outputs": []
    },
    {
      "cell_type": "code",
      "source": [
        "for i in range(2):\n",
        "  for ss in s:\n",
        "    for gg in g:\n",
        "      TS.append([ss + gg]) # Создали список с вложенным (2 уровня) списком слогов."
      ],
      "metadata": {
        "id": "Vdv9N6zEE3M1"
      },
      "execution_count": null,
      "outputs": []
    },
    {
      "cell_type": "code",
      "source": [
        "TS"
      ],
      "metadata": {
        "id": "pwGOMs6JMOub"
      },
      "execution_count": null,
      "outputs": []
    }
  ]
}